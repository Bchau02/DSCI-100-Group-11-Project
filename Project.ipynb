{
 "cells": [
  {
   "cell_type": "markdown",
   "metadata": {},
   "source": [
    "Title: \n",
    "    \n",
    "Analysis of Algerian Forest Fires: An Inferential Explanation of Possible Correlation.\n",
    "\n",
    "Introduction: \n",
    "\n",
    "Large sections of forest are destroyed everyday by forest fires. Not only do these types of natural disasters destroy the trees but they also exterminate and displace wildlife within the threatened ecosystem. Consequently, it would be of great beneficence to be able to pinpoint major factors(atmospheric conditions) contributing to these phenomena(forest fires) and allow for possible combatant scaffolding to be deduced.  The following research will examine a dataset (“Algerian_forest_fires_dataset_UPDATE.csv”) that contains a total of 244 instances of forest fires in two regions of Algeria(Bejaia region and Sidi Bel-abbes region) that were gathered between June and September of 2012. Since the most predominant cause of forest fires is lightning on dry trees and soil in low moisture conditions. To begin we will compare the \"RH\" column to “Temperature” column. We will analyze each variable to see if there is a correlation between that variable and the possible outcome of fire with respect to RH. "
   ]
  },
  {
   "cell_type": "markdown",
   "metadata": {},
   "source": [
    "Preliminary exploratory data analysis:"
   ]
  },
  {
   "cell_type": "code",
   "execution_count": 333,
   "metadata": {},
   "outputs": [],
   "source": [
    "library(tidyverse)\n",
    "library(testthat)\n",
    "library(digest)\n",
    "library(repr)\n",
    "library(\"readxl\")\n",
    "library(tidymodels)\n",
    "library(lubridate)\n",
    "library(ggplot2)\n",
    "library(forcats)"
   ]
  },
  {
   "cell_type": "markdown",
   "metadata": {},
   "source": [
    "The dataset can be read into R using the following read_csv function:Forest_fire <- read.csv(\"Project/Algerian_forest_fires_dataset_UPDATE.csv\", skip=1), however, the dataset is actually consisting of 2 tables and we decided to separate it into two csv files. Hence we would use Bejaia <- read.csv(\"Bejaia.csv\", skip=1), and Sidi_Bel_Abbes <- read_csv(\"Sidi_Bel_Abbes.csv\", skip=1)."
   ]
  },
  {
   "cell_type": "code",
   "execution_count": 334,
   "metadata": {},
   "outputs": [
    {
     "name": "stderr",
     "output_type": "stream",
     "text": [
      "Parsed with column specification:\n",
      "cols(\n",
      "  day = \u001b[32mcol_double()\u001b[39m,\n",
      "  month = \u001b[32mcol_double()\u001b[39m,\n",
      "  year = \u001b[32mcol_double()\u001b[39m,\n",
      "  Temperature = \u001b[32mcol_double()\u001b[39m,\n",
      "  RH = \u001b[32mcol_double()\u001b[39m,\n",
      "  Ws = \u001b[32mcol_double()\u001b[39m,\n",
      "  Rain = \u001b[32mcol_double()\u001b[39m,\n",
      "  FFMC = \u001b[32mcol_double()\u001b[39m,\n",
      "  DMC = \u001b[32mcol_double()\u001b[39m,\n",
      "  DC = \u001b[32mcol_double()\u001b[39m,\n",
      "  ISI = \u001b[32mcol_double()\u001b[39m,\n",
      "  BUI = \u001b[32mcol_double()\u001b[39m,\n",
      "  FWI = \u001b[32mcol_double()\u001b[39m,\n",
      "  Classes = \u001b[31mcol_character()\u001b[39m\n",
      ")\n",
      "\n",
      "Parsed with column specification:\n",
      "cols(\n",
      "  day = \u001b[32mcol_double()\u001b[39m,\n",
      "  month = \u001b[32mcol_double()\u001b[39m,\n",
      "  year = \u001b[32mcol_double()\u001b[39m,\n",
      "  Temperature = \u001b[32mcol_double()\u001b[39m,\n",
      "  RH = \u001b[32mcol_double()\u001b[39m,\n",
      "  Ws = \u001b[32mcol_double()\u001b[39m,\n",
      "  Rain = \u001b[32mcol_double()\u001b[39m,\n",
      "  FFMC = \u001b[32mcol_double()\u001b[39m,\n",
      "  DMC = \u001b[32mcol_double()\u001b[39m,\n",
      "  DC = \u001b[31mcol_character()\u001b[39m,\n",
      "  ISI = \u001b[32mcol_double()\u001b[39m,\n",
      "  BUI = \u001b[32mcol_double()\u001b[39m,\n",
      "  FWI = \u001b[31mcol_character()\u001b[39m,\n",
      "  Classes = \u001b[31mcol_character()\u001b[39m\n",
      ")\n",
      "\n"
     ]
    },
    {
     "data": {
      "text/html": [
       "<style>\n",
       ".list-inline {list-style: none; margin:0; padding: 0}\n",
       ".list-inline>li {display: inline-block}\n",
       ".list-inline>li:not(:last-child)::after {content: \"\\00b7\"; padding: 0 .5ex}\n",
       "</style>\n",
       "<ol class=list-inline><li>'not fire'</li><li>'fire'</li></ol>\n"
      ],
      "text/latex": [
       "\\begin{enumerate*}\n",
       "\\item 'not fire'\n",
       "\\item 'fire'\n",
       "\\end{enumerate*}\n"
      ],
      "text/markdown": [
       "1. 'not fire'\n",
       "2. 'fire'\n",
       "\n",
       "\n"
      ],
      "text/plain": [
       "[1] \"not fire\" \"fire\"    "
      ]
     },
     "metadata": {},
     "output_type": "display_data"
    },
    {
     "data": {
      "text/html": [
       "<style>\n",
       ".list-inline {list-style: none; margin:0; padding: 0}\n",
       ".list-inline>li {display: inline-block}\n",
       ".list-inline>li:not(:last-child)::after {content: \"\\00b7\"; padding: 0 .5ex}\n",
       "</style>\n",
       "<ol class=list-inline><li>'not fire'</li><li>'fire'</li></ol>\n"
      ],
      "text/latex": [
       "\\begin{enumerate*}\n",
       "\\item 'not fire'\n",
       "\\item 'fire'\n",
       "\\end{enumerate*}\n"
      ],
      "text/markdown": [
       "1. 'not fire'\n",
       "2. 'fire'\n",
       "\n",
       "\n"
      ],
      "text/plain": [
       "[1] \"not fire\" \"fire\"    "
      ]
     },
     "metadata": {},
     "output_type": "display_data"
    },
    {
     "data": {
      "text/html": [
       "<table>\n",
       "<caption>A tibble: 6 × 14</caption>\n",
       "<thead>\n",
       "\t<tr><th scope=col>day</th><th scope=col>month</th><th scope=col>year</th><th scope=col>Temperature</th><th scope=col>RH</th><th scope=col>Ws</th><th scope=col>Rain</th><th scope=col>FFMC</th><th scope=col>DMC</th><th scope=col>DC</th><th scope=col>ISI</th><th scope=col>BUI</th><th scope=col>FWI</th><th scope=col>Classes</th></tr>\n",
       "\t<tr><th scope=col>&lt;dbl&gt;</th><th scope=col>&lt;dbl&gt;</th><th scope=col>&lt;dbl&gt;</th><th scope=col>&lt;dbl&gt;</th><th scope=col>&lt;dbl&gt;</th><th scope=col>&lt;dbl&gt;</th><th scope=col>&lt;dbl&gt;</th><th scope=col>&lt;dbl&gt;</th><th scope=col>&lt;dbl&gt;</th><th scope=col>&lt;dbl&gt;</th><th scope=col>&lt;dbl&gt;</th><th scope=col>&lt;dbl&gt;</th><th scope=col>&lt;dbl&gt;</th><th scope=col>&lt;chr&gt;</th></tr>\n",
       "</thead>\n",
       "<tbody>\n",
       "\t<tr><td>1</td><td>6</td><td>2012</td><td>29</td><td>57</td><td>18</td><td> 0.0</td><td>65.7</td><td>3.4</td><td> 7.6</td><td>1.3</td><td>3.4</td><td>0.5</td><td>not fire</td></tr>\n",
       "\t<tr><td>2</td><td>6</td><td>2012</td><td>29</td><td>61</td><td>13</td><td> 1.3</td><td>64.4</td><td>4.1</td><td> 7.6</td><td>1.0</td><td>3.9</td><td>0.4</td><td>not fire</td></tr>\n",
       "\t<tr><td>3</td><td>6</td><td>2012</td><td>26</td><td>82</td><td>22</td><td>13.1</td><td>47.1</td><td>2.5</td><td> 7.1</td><td>0.3</td><td>2.7</td><td>0.1</td><td>not fire</td></tr>\n",
       "\t<tr><td>4</td><td>6</td><td>2012</td><td>25</td><td>89</td><td>13</td><td> 2.5</td><td>28.6</td><td>1.3</td><td> 6.9</td><td>0.0</td><td>1.7</td><td>0.0</td><td>not fire</td></tr>\n",
       "\t<tr><td>5</td><td>6</td><td>2012</td><td>27</td><td>77</td><td>16</td><td> 0.0</td><td>64.8</td><td>3.0</td><td>14.2</td><td>1.2</td><td>3.9</td><td>0.5</td><td>not fire</td></tr>\n",
       "\t<tr><td>6</td><td>6</td><td>2012</td><td>31</td><td>67</td><td>14</td><td> 0.0</td><td>82.6</td><td>5.8</td><td>22.2</td><td>3.1</td><td>7.0</td><td>2.5</td><td>fire    </td></tr>\n",
       "</tbody>\n",
       "</table>\n"
      ],
      "text/latex": [
       "A tibble: 6 × 14\n",
       "\\begin{tabular}{llllllllllllll}\n",
       " day & month & year & Temperature & RH & Ws & Rain & FFMC & DMC & DC & ISI & BUI & FWI & Classes\\\\\n",
       " <dbl> & <dbl> & <dbl> & <dbl> & <dbl> & <dbl> & <dbl> & <dbl> & <dbl> & <dbl> & <dbl> & <dbl> & <dbl> & <chr>\\\\\n",
       "\\hline\n",
       "\t 1 & 6 & 2012 & 29 & 57 & 18 &  0.0 & 65.7 & 3.4 &  7.6 & 1.3 & 3.4 & 0.5 & not fire\\\\\n",
       "\t 2 & 6 & 2012 & 29 & 61 & 13 &  1.3 & 64.4 & 4.1 &  7.6 & 1.0 & 3.9 & 0.4 & not fire\\\\\n",
       "\t 3 & 6 & 2012 & 26 & 82 & 22 & 13.1 & 47.1 & 2.5 &  7.1 & 0.3 & 2.7 & 0.1 & not fire\\\\\n",
       "\t 4 & 6 & 2012 & 25 & 89 & 13 &  2.5 & 28.6 & 1.3 &  6.9 & 0.0 & 1.7 & 0.0 & not fire\\\\\n",
       "\t 5 & 6 & 2012 & 27 & 77 & 16 &  0.0 & 64.8 & 3.0 & 14.2 & 1.2 & 3.9 & 0.5 & not fire\\\\\n",
       "\t 6 & 6 & 2012 & 31 & 67 & 14 &  0.0 & 82.6 & 5.8 & 22.2 & 3.1 & 7.0 & 2.5 & fire    \\\\\n",
       "\\end{tabular}\n"
      ],
      "text/markdown": [
       "\n",
       "A tibble: 6 × 14\n",
       "\n",
       "| day &lt;dbl&gt; | month &lt;dbl&gt; | year &lt;dbl&gt; | Temperature &lt;dbl&gt; | RH &lt;dbl&gt; | Ws &lt;dbl&gt; | Rain &lt;dbl&gt; | FFMC &lt;dbl&gt; | DMC &lt;dbl&gt; | DC &lt;dbl&gt; | ISI &lt;dbl&gt; | BUI &lt;dbl&gt; | FWI &lt;dbl&gt; | Classes &lt;chr&gt; |\n",
       "|---|---|---|---|---|---|---|---|---|---|---|---|---|---|\n",
       "| 1 | 6 | 2012 | 29 | 57 | 18 |  0.0 | 65.7 | 3.4 |  7.6 | 1.3 | 3.4 | 0.5 | not fire |\n",
       "| 2 | 6 | 2012 | 29 | 61 | 13 |  1.3 | 64.4 | 4.1 |  7.6 | 1.0 | 3.9 | 0.4 | not fire |\n",
       "| 3 | 6 | 2012 | 26 | 82 | 22 | 13.1 | 47.1 | 2.5 |  7.1 | 0.3 | 2.7 | 0.1 | not fire |\n",
       "| 4 | 6 | 2012 | 25 | 89 | 13 |  2.5 | 28.6 | 1.3 |  6.9 | 0.0 | 1.7 | 0.0 | not fire |\n",
       "| 5 | 6 | 2012 | 27 | 77 | 16 |  0.0 | 64.8 | 3.0 | 14.2 | 1.2 | 3.9 | 0.5 | not fire |\n",
       "| 6 | 6 | 2012 | 31 | 67 | 14 |  0.0 | 82.6 | 5.8 | 22.2 | 3.1 | 7.0 | 2.5 | fire     |\n",
       "\n"
      ],
      "text/plain": [
       "  day month year Temperature RH Ws Rain FFMC DMC DC   ISI BUI FWI Classes \n",
       "1 1   6     2012 29          57 18  0.0 65.7 3.4  7.6 1.3 3.4 0.5 not fire\n",
       "2 2   6     2012 29          61 13  1.3 64.4 4.1  7.6 1.0 3.9 0.4 not fire\n",
       "3 3   6     2012 26          82 22 13.1 47.1 2.5  7.1 0.3 2.7 0.1 not fire\n",
       "4 4   6     2012 25          89 13  2.5 28.6 1.3  6.9 0.0 1.7 0.0 not fire\n",
       "5 5   6     2012 27          77 16  0.0 64.8 3.0 14.2 1.2 3.9 0.5 not fire\n",
       "6 6   6     2012 31          67 14  0.0 82.6 5.8 22.2 3.1 7.0 2.5 fire    "
      ]
     },
     "metadata": {},
     "output_type": "display_data"
    },
    {
     "data": {
      "text/html": [
       "<table>\n",
       "<caption>A tibble: 6 × 14</caption>\n",
       "<thead>\n",
       "\t<tr><th scope=col>day</th><th scope=col>month</th><th scope=col>year</th><th scope=col>Temperature</th><th scope=col>RH</th><th scope=col>Ws</th><th scope=col>Rain</th><th scope=col>FFMC</th><th scope=col>DMC</th><th scope=col>DC</th><th scope=col>ISI</th><th scope=col>BUI</th><th scope=col>FWI</th><th scope=col>Classes</th></tr>\n",
       "\t<tr><th scope=col>&lt;dbl&gt;</th><th scope=col>&lt;dbl&gt;</th><th scope=col>&lt;dbl&gt;</th><th scope=col>&lt;dbl&gt;</th><th scope=col>&lt;dbl&gt;</th><th scope=col>&lt;dbl&gt;</th><th scope=col>&lt;dbl&gt;</th><th scope=col>&lt;dbl&gt;</th><th scope=col>&lt;dbl&gt;</th><th scope=col>&lt;chr&gt;</th><th scope=col>&lt;dbl&gt;</th><th scope=col>&lt;dbl&gt;</th><th scope=col>&lt;chr&gt;</th><th scope=col>&lt;chr&gt;</th></tr>\n",
       "</thead>\n",
       "<tbody>\n",
       "\t<tr><td>1</td><td>6</td><td>2012</td><td>32</td><td>71</td><td>12</td><td>0.7</td><td>57.1</td><td>2.5</td><td>8.2 </td><td>0.6</td><td>2.8</td><td>0.2</td><td>not fire</td></tr>\n",
       "\t<tr><td>2</td><td>6</td><td>2012</td><td>30</td><td>73</td><td>13</td><td>4.0</td><td>55.7</td><td>2.7</td><td>7.8 </td><td>0.6</td><td>2.9</td><td>0.2</td><td>not fire</td></tr>\n",
       "\t<tr><td>3</td><td>6</td><td>2012</td><td>29</td><td>80</td><td>14</td><td>2.0</td><td>48.7</td><td>2.2</td><td>7.6 </td><td>0.3</td><td>2.6</td><td>0.1</td><td>not fire</td></tr>\n",
       "\t<tr><td>4</td><td>6</td><td>2012</td><td>30</td><td>64</td><td>14</td><td>0.0</td><td>79.4</td><td>5.2</td><td>15.4</td><td>2.2</td><td>5.6</td><td>1  </td><td>not fire</td></tr>\n",
       "\t<tr><td>5</td><td>6</td><td>2012</td><td>32</td><td>60</td><td>14</td><td>0.2</td><td>77.1</td><td>6.0</td><td>17.6</td><td>1.8</td><td>6.5</td><td>0.9</td><td>not fire</td></tr>\n",
       "\t<tr><td>6</td><td>6</td><td>2012</td><td>35</td><td>54</td><td>11</td><td>0.1</td><td>83.7</td><td>8.4</td><td>26.3</td><td>3.1</td><td>9.3</td><td>3.1</td><td>fire    </td></tr>\n",
       "</tbody>\n",
       "</table>\n"
      ],
      "text/latex": [
       "A tibble: 6 × 14\n",
       "\\begin{tabular}{llllllllllllll}\n",
       " day & month & year & Temperature & RH & Ws & Rain & FFMC & DMC & DC & ISI & BUI & FWI & Classes\\\\\n",
       " <dbl> & <dbl> & <dbl> & <dbl> & <dbl> & <dbl> & <dbl> & <dbl> & <dbl> & <chr> & <dbl> & <dbl> & <chr> & <chr>\\\\\n",
       "\\hline\n",
       "\t 1 & 6 & 2012 & 32 & 71 & 12 & 0.7 & 57.1 & 2.5 & 8.2  & 0.6 & 2.8 & 0.2 & not fire\\\\\n",
       "\t 2 & 6 & 2012 & 30 & 73 & 13 & 4.0 & 55.7 & 2.7 & 7.8  & 0.6 & 2.9 & 0.2 & not fire\\\\\n",
       "\t 3 & 6 & 2012 & 29 & 80 & 14 & 2.0 & 48.7 & 2.2 & 7.6  & 0.3 & 2.6 & 0.1 & not fire\\\\\n",
       "\t 4 & 6 & 2012 & 30 & 64 & 14 & 0.0 & 79.4 & 5.2 & 15.4 & 2.2 & 5.6 & 1   & not fire\\\\\n",
       "\t 5 & 6 & 2012 & 32 & 60 & 14 & 0.2 & 77.1 & 6.0 & 17.6 & 1.8 & 6.5 & 0.9 & not fire\\\\\n",
       "\t 6 & 6 & 2012 & 35 & 54 & 11 & 0.1 & 83.7 & 8.4 & 26.3 & 3.1 & 9.3 & 3.1 & fire    \\\\\n",
       "\\end{tabular}\n"
      ],
      "text/markdown": [
       "\n",
       "A tibble: 6 × 14\n",
       "\n",
       "| day &lt;dbl&gt; | month &lt;dbl&gt; | year &lt;dbl&gt; | Temperature &lt;dbl&gt; | RH &lt;dbl&gt; | Ws &lt;dbl&gt; | Rain &lt;dbl&gt; | FFMC &lt;dbl&gt; | DMC &lt;dbl&gt; | DC &lt;chr&gt; | ISI &lt;dbl&gt; | BUI &lt;dbl&gt; | FWI &lt;chr&gt; | Classes &lt;chr&gt; |\n",
       "|---|---|---|---|---|---|---|---|---|---|---|---|---|---|\n",
       "| 1 | 6 | 2012 | 32 | 71 | 12 | 0.7 | 57.1 | 2.5 | 8.2  | 0.6 | 2.8 | 0.2 | not fire |\n",
       "| 2 | 6 | 2012 | 30 | 73 | 13 | 4.0 | 55.7 | 2.7 | 7.8  | 0.6 | 2.9 | 0.2 | not fire |\n",
       "| 3 | 6 | 2012 | 29 | 80 | 14 | 2.0 | 48.7 | 2.2 | 7.6  | 0.3 | 2.6 | 0.1 | not fire |\n",
       "| 4 | 6 | 2012 | 30 | 64 | 14 | 0.0 | 79.4 | 5.2 | 15.4 | 2.2 | 5.6 | 1   | not fire |\n",
       "| 5 | 6 | 2012 | 32 | 60 | 14 | 0.2 | 77.1 | 6.0 | 17.6 | 1.8 | 6.5 | 0.9 | not fire |\n",
       "| 6 | 6 | 2012 | 35 | 54 | 11 | 0.1 | 83.7 | 8.4 | 26.3 | 3.1 | 9.3 | 3.1 | fire     |\n",
       "\n"
      ],
      "text/plain": [
       "  day month year Temperature RH Ws Rain FFMC DMC DC   ISI BUI FWI Classes \n",
       "1 1   6     2012 32          71 12 0.7  57.1 2.5 8.2  0.6 2.8 0.2 not fire\n",
       "2 2   6     2012 30          73 13 4.0  55.7 2.7 7.8  0.6 2.9 0.2 not fire\n",
       "3 3   6     2012 29          80 14 2.0  48.7 2.2 7.6  0.3 2.6 0.1 not fire\n",
       "4 4   6     2012 30          64 14 0.0  79.4 5.2 15.4 2.2 5.6 1   not fire\n",
       "5 5   6     2012 32          60 14 0.2  77.1 6.0 17.6 1.8 6.5 0.9 not fire\n",
       "6 6   6     2012 35          54 11 0.1  83.7 8.4 26.3 3.1 9.3 3.1 fire    "
      ]
     },
     "metadata": {},
     "output_type": "display_data"
    }
   ],
   "source": [
    "id_Bej <- \"1zby9kC_wgi3bpMBtvgZACrDTMxZY3MXa\" # google file ID\n",
    "Bejaia <- read_csv(sprintf(\"https://docs.google.com/uc?id=%s&export=download\", id_Bej),skip = 1)\n",
    "#head(Bejaia)\n",
    "\n",
    "id_SBA <-\"1H8TMtO7zSFH80RUYPZbzqEbm207hqe72\"\n",
    "Sidi_Bel_Abbes<-read_csv(sprintf(\"https://docs.google.com/uc?id=%s&export=download\", id_SBA),skip = 1)\n",
    "#head(Sidi_Bel_Abbes)\n",
    "\n",
    "Bejaia%>%\n",
    "   mutate(Class=as_factor(Classes)) %>%\n",
    "    pull(Class)%>% \n",
    "    levels()\n",
    "\n",
    "Sidi_Bel_Abbes%>%\n",
    "   mutate(Classes=as_factor(Classes)) %>%\n",
    "    pull(Classes)%>% \n",
    "    levels()\n",
    "\n",
    "head(Bejaia)\n",
    "head(Sidi_Bel_Abbes)\n"
   ]
  },
  {
   "cell_type": "code",
   "execution_count": 335,
   "metadata": {},
   "outputs": [],
   "source": [
    "set.seed(1)"
   ]
  },
  {
   "cell_type": "code",
   "execution_count": 336,
   "metadata": {},
   "outputs": [],
   "source": [
    "bejaia<- Bejaia %>%       \n",
    "    mutate(Class=as_factor(Classes)) %>%\n",
    "    select(-Classes)   "
   ]
  },
  {
   "cell_type": "code",
   "execution_count": 337,
   "metadata": {},
   "outputs": [
    {
     "name": "stderr",
     "output_type": "stream",
     "text": [
      "`summarise()` ungrouping output (override with `.groups` argument)\n",
      "\n"
     ]
    },
    {
     "data": {
      "text/html": [
       "<table>\n",
       "<caption>A tibble: 2 × 3</caption>\n",
       "<thead>\n",
       "\t<tr><th scope=col>Class</th><th scope=col>n</th><th scope=col>percentage</th></tr>\n",
       "\t<tr><th scope=col>&lt;fct&gt;</th><th scope=col>&lt;int&gt;</th><th scope=col>&lt;dbl&gt;</th></tr>\n",
       "</thead>\n",
       "<tbody>\n",
       "\t<tr><td>not fire</td><td>63</td><td>51.63934</td></tr>\n",
       "\t<tr><td>fire    </td><td>59</td><td>48.36066</td></tr>\n",
       "</tbody>\n",
       "</table>\n"
      ],
      "text/latex": [
       "A tibble: 2 × 3\n",
       "\\begin{tabular}{lll}\n",
       " Class & n & percentage\\\\\n",
       " <fct> & <int> & <dbl>\\\\\n",
       "\\hline\n",
       "\t not fire & 63 & 51.63934\\\\\n",
       "\t fire     & 59 & 48.36066\\\\\n",
       "\\end{tabular}\n"
      ],
      "text/markdown": [
       "\n",
       "A tibble: 2 × 3\n",
       "\n",
       "| Class &lt;fct&gt; | n &lt;int&gt; | percentage &lt;dbl&gt; |\n",
       "|---|---|---|\n",
       "| not fire | 63 | 51.63934 |\n",
       "| fire     | 59 | 48.36066 |\n",
       "\n"
      ],
      "text/plain": [
       "  Class    n  percentage\n",
       "1 not fire 63 51.63934  \n",
       "2 fire     59 48.36066  "
      ]
     },
     "metadata": {},
     "output_type": "display_data"
    }
   ],
   "source": [
    "num_obs_bejaia <- nrow(bejaia)\n",
    "bejaia_class_counts <- bejaia %>%\n",
    "      group_by(Class) %>%\n",
    "      summarize(\n",
    "      n = n(),\n",
    "      percentage = n() / num_obs_bejaia * 100\n",
    "  )\n",
    "bejaia_class_counts"
   ]
  },
  {
   "cell_type": "code",
   "execution_count": 338,
   "metadata": {},
   "outputs": [],
   "source": [
    "Sidi_Bel_Abbes <- Sidi_Bel_Abbes %>% \n",
    "    filter(Classes != \"NA\") %>% \n",
    "    mutate(Classes= as_factor(Classes))%>%\n",
    "    mutate(FWI=as.numeric(FWI)) %>%\n",
    "    mutate(DC=as.numeric(DC))\n",
    "\n"
   ]
  },
  {
   "cell_type": "code",
   "execution_count": 339,
   "metadata": {},
   "outputs": [
    {
     "name": "stderr",
     "output_type": "stream",
     "text": [
      "`summarise()` ungrouping output (override with `.groups` argument)\n",
      "\n"
     ]
    },
    {
     "data": {
      "text/html": [
       "<table>\n",
       "<caption>A tibble: 2 × 3</caption>\n",
       "<thead>\n",
       "\t<tr><th scope=col>Classes</th><th scope=col>n</th><th scope=col>percentage</th></tr>\n",
       "\t<tr><th scope=col>&lt;fct&gt;</th><th scope=col>&lt;int&gt;</th><th scope=col>&lt;dbl&gt;</th></tr>\n",
       "</thead>\n",
       "<tbody>\n",
       "\t<tr><td>not fire</td><td>43</td><td>35.53719</td></tr>\n",
       "\t<tr><td>fire    </td><td>78</td><td>64.46281</td></tr>\n",
       "</tbody>\n",
       "</table>\n"
      ],
      "text/latex": [
       "A tibble: 2 × 3\n",
       "\\begin{tabular}{lll}\n",
       " Classes & n & percentage\\\\\n",
       " <fct> & <int> & <dbl>\\\\\n",
       "\\hline\n",
       "\t not fire & 43 & 35.53719\\\\\n",
       "\t fire     & 78 & 64.46281\\\\\n",
       "\\end{tabular}\n"
      ],
      "text/markdown": [
       "\n",
       "A tibble: 2 × 3\n",
       "\n",
       "| Classes &lt;fct&gt; | n &lt;int&gt; | percentage &lt;dbl&gt; |\n",
       "|---|---|---|\n",
       "| not fire | 43 | 35.53719 |\n",
       "| fire     | 78 | 64.46281 |\n",
       "\n"
      ],
      "text/plain": [
       "  Classes  n  percentage\n",
       "1 not fire 43 35.53719  \n",
       "2 fire     78 64.46281  "
      ]
     },
     "metadata": {},
     "output_type": "display_data"
    }
   ],
   "source": [
    "num_obs_sidi <- nrow(Sidi_Bel_Abbes)\n",
    "sidi_bel_abbes_class_counts <- Sidi_Bel_Abbes %>%\n",
    "      group_by(Classes) %>%\n",
    "      summarize(\n",
    "      n = n(),\n",
    "      percentage = n() / num_obs_sidi * 100\n",
    "  )\n",
    "sidi_bel_abbes_class_counts"
   ]
  },
  {
   "cell_type": "markdown",
   "metadata": {},
   "source": [
    "We decide to split the dataset into one training set and one testing set, with a 3:1 proportion."
   ]
  },
  {
   "cell_type": "code",
   "execution_count": 340,
   "metadata": {},
   "outputs": [
    {
     "data": {
      "text/html": [
       "<table>\n",
       "<caption>A tibble: 6 × 14</caption>\n",
       "<thead>\n",
       "\t<tr><th scope=col>day</th><th scope=col>month</th><th scope=col>year</th><th scope=col>Temperature</th><th scope=col>RH</th><th scope=col>Ws</th><th scope=col>Rain</th><th scope=col>FFMC</th><th scope=col>DMC</th><th scope=col>DC</th><th scope=col>ISI</th><th scope=col>BUI</th><th scope=col>FWI</th><th scope=col>Classes</th></tr>\n",
       "\t<tr><th scope=col>&lt;dbl&gt;</th><th scope=col>&lt;dbl&gt;</th><th scope=col>&lt;dbl&gt;</th><th scope=col>&lt;dbl&gt;</th><th scope=col>&lt;dbl&gt;</th><th scope=col>&lt;dbl&gt;</th><th scope=col>&lt;dbl&gt;</th><th scope=col>&lt;dbl&gt;</th><th scope=col>&lt;dbl&gt;</th><th scope=col>&lt;dbl&gt;</th><th scope=col>&lt;dbl&gt;</th><th scope=col>&lt;dbl&gt;</th><th scope=col>&lt;dbl&gt;</th><th scope=col>&lt;fct&gt;</th></tr>\n",
       "</thead>\n",
       "<tbody>\n",
       "\t<tr><td>1</td><td>6</td><td>2012</td><td>32</td><td>71</td><td>12</td><td>0.7</td><td>57.1</td><td>2.5</td><td> 8.2</td><td>0.6</td><td> 2.8</td><td>0.2</td><td>not fire</td></tr>\n",
       "\t<tr><td>2</td><td>6</td><td>2012</td><td>30</td><td>73</td><td>13</td><td>4.0</td><td>55.7</td><td>2.7</td><td> 7.8</td><td>0.6</td><td> 2.9</td><td>0.2</td><td>not fire</td></tr>\n",
       "\t<tr><td>3</td><td>6</td><td>2012</td><td>29</td><td>80</td><td>14</td><td>2.0</td><td>48.7</td><td>2.2</td><td> 7.6</td><td>0.3</td><td> 2.6</td><td>0.1</td><td>not fire</td></tr>\n",
       "\t<tr><td>4</td><td>6</td><td>2012</td><td>30</td><td>64</td><td>14</td><td>0.0</td><td>79.4</td><td>5.2</td><td>15.4</td><td>2.2</td><td> 5.6</td><td>1.0</td><td>not fire</td></tr>\n",
       "\t<tr><td>5</td><td>6</td><td>2012</td><td>32</td><td>60</td><td>14</td><td>0.2</td><td>77.1</td><td>6.0</td><td>17.6</td><td>1.8</td><td> 6.5</td><td>0.9</td><td>not fire</td></tr>\n",
       "\t<tr><td>7</td><td>6</td><td>2012</td><td>35</td><td>44</td><td>17</td><td>0.2</td><td>85.6</td><td>9.9</td><td>28.9</td><td>5.4</td><td>10.7</td><td>6.0</td><td>fire    </td></tr>\n",
       "</tbody>\n",
       "</table>\n"
      ],
      "text/latex": [
       "A tibble: 6 × 14\n",
       "\\begin{tabular}{llllllllllllll}\n",
       " day & month & year & Temperature & RH & Ws & Rain & FFMC & DMC & DC & ISI & BUI & FWI & Classes\\\\\n",
       " <dbl> & <dbl> & <dbl> & <dbl> & <dbl> & <dbl> & <dbl> & <dbl> & <dbl> & <dbl> & <dbl> & <dbl> & <dbl> & <fct>\\\\\n",
       "\\hline\n",
       "\t 1 & 6 & 2012 & 32 & 71 & 12 & 0.7 & 57.1 & 2.5 &  8.2 & 0.6 &  2.8 & 0.2 & not fire\\\\\n",
       "\t 2 & 6 & 2012 & 30 & 73 & 13 & 4.0 & 55.7 & 2.7 &  7.8 & 0.6 &  2.9 & 0.2 & not fire\\\\\n",
       "\t 3 & 6 & 2012 & 29 & 80 & 14 & 2.0 & 48.7 & 2.2 &  7.6 & 0.3 &  2.6 & 0.1 & not fire\\\\\n",
       "\t 4 & 6 & 2012 & 30 & 64 & 14 & 0.0 & 79.4 & 5.2 & 15.4 & 2.2 &  5.6 & 1.0 & not fire\\\\\n",
       "\t 5 & 6 & 2012 & 32 & 60 & 14 & 0.2 & 77.1 & 6.0 & 17.6 & 1.8 &  6.5 & 0.9 & not fire\\\\\n",
       "\t 7 & 6 & 2012 & 35 & 44 & 17 & 0.2 & 85.6 & 9.9 & 28.9 & 5.4 & 10.7 & 6.0 & fire    \\\\\n",
       "\\end{tabular}\n"
      ],
      "text/markdown": [
       "\n",
       "A tibble: 6 × 14\n",
       "\n",
       "| day &lt;dbl&gt; | month &lt;dbl&gt; | year &lt;dbl&gt; | Temperature &lt;dbl&gt; | RH &lt;dbl&gt; | Ws &lt;dbl&gt; | Rain &lt;dbl&gt; | FFMC &lt;dbl&gt; | DMC &lt;dbl&gt; | DC &lt;dbl&gt; | ISI &lt;dbl&gt; | BUI &lt;dbl&gt; | FWI &lt;dbl&gt; | Classes &lt;fct&gt; |\n",
       "|---|---|---|---|---|---|---|---|---|---|---|---|---|---|\n",
       "| 1 | 6 | 2012 | 32 | 71 | 12 | 0.7 | 57.1 | 2.5 |  8.2 | 0.6 |  2.8 | 0.2 | not fire |\n",
       "| 2 | 6 | 2012 | 30 | 73 | 13 | 4.0 | 55.7 | 2.7 |  7.8 | 0.6 |  2.9 | 0.2 | not fire |\n",
       "| 3 | 6 | 2012 | 29 | 80 | 14 | 2.0 | 48.7 | 2.2 |  7.6 | 0.3 |  2.6 | 0.1 | not fire |\n",
       "| 4 | 6 | 2012 | 30 | 64 | 14 | 0.0 | 79.4 | 5.2 | 15.4 | 2.2 |  5.6 | 1.0 | not fire |\n",
       "| 5 | 6 | 2012 | 32 | 60 | 14 | 0.2 | 77.1 | 6.0 | 17.6 | 1.8 |  6.5 | 0.9 | not fire |\n",
       "| 7 | 6 | 2012 | 35 | 44 | 17 | 0.2 | 85.6 | 9.9 | 28.9 | 5.4 | 10.7 | 6.0 | fire     |\n",
       "\n"
      ],
      "text/plain": [
       "  day month year Temperature RH Ws Rain FFMC DMC DC   ISI BUI  FWI Classes \n",
       "1 1   6     2012 32          71 12 0.7  57.1 2.5  8.2 0.6  2.8 0.2 not fire\n",
       "2 2   6     2012 30          73 13 4.0  55.7 2.7  7.8 0.6  2.9 0.2 not fire\n",
       "3 3   6     2012 29          80 14 2.0  48.7 2.2  7.6 0.3  2.6 0.1 not fire\n",
       "4 4   6     2012 30          64 14 0.0  79.4 5.2 15.4 2.2  5.6 1.0 not fire\n",
       "5 5   6     2012 32          60 14 0.2  77.1 6.0 17.6 1.8  6.5 0.9 not fire\n",
       "6 7   6     2012 35          44 17 0.2  85.6 9.9 28.9 5.4 10.7 6.0 fire    "
      ]
     },
     "metadata": {},
     "output_type": "display_data"
    },
    {
     "data": {
      "text/html": [
       "<table>\n",
       "<caption>A tibble: 6 × 14</caption>\n",
       "<thead>\n",
       "\t<tr><th scope=col>day</th><th scope=col>month</th><th scope=col>year</th><th scope=col>Temperature</th><th scope=col>RH</th><th scope=col>Ws</th><th scope=col>Rain</th><th scope=col>FFMC</th><th scope=col>DMC</th><th scope=col>DC</th><th scope=col>ISI</th><th scope=col>BUI</th><th scope=col>FWI</th><th scope=col>Classes</th></tr>\n",
       "\t<tr><th scope=col>&lt;dbl&gt;</th><th scope=col>&lt;dbl&gt;</th><th scope=col>&lt;dbl&gt;</th><th scope=col>&lt;dbl&gt;</th><th scope=col>&lt;dbl&gt;</th><th scope=col>&lt;dbl&gt;</th><th scope=col>&lt;dbl&gt;</th><th scope=col>&lt;dbl&gt;</th><th scope=col>&lt;dbl&gt;</th><th scope=col>&lt;dbl&gt;</th><th scope=col>&lt;dbl&gt;</th><th scope=col>&lt;dbl&gt;</th><th scope=col>&lt;dbl&gt;</th><th scope=col>&lt;fct&gt;</th></tr>\n",
       "</thead>\n",
       "<tbody>\n",
       "\t<tr><td> 6</td><td>6</td><td>2012</td><td>35</td><td>54</td><td>11</td><td>0.1</td><td>83.7</td><td> 8.4</td><td>26.3</td><td>3.1</td><td> 9.3</td><td>3.1</td><td>fire    </td></tr>\n",
       "\t<tr><td> 8</td><td>6</td><td>2012</td><td>28</td><td>51</td><td>17</td><td>1.3</td><td>71.4</td><td> 7.7</td><td> 7.4</td><td>1.5</td><td> 7.3</td><td>0.8</td><td>not fire</td></tr>\n",
       "\t<tr><td>15</td><td>6</td><td>2012</td><td>28</td><td>90</td><td>15</td><td>0.0</td><td>66.8</td><td> 7.2</td><td>14.7</td><td>1.2</td><td> 7.1</td><td>0.6</td><td>not fire</td></tr>\n",
       "\t<tr><td>24</td><td>6</td><td>2012</td><td>35</td><td>68</td><td>16</td><td>0.0</td><td>85.3</td><td>10.0</td><td>17.0</td><td>4.9</td><td> 9.9</td><td>5.3</td><td>fire    </td></tr>\n",
       "\t<tr><td> 3</td><td>7</td><td>2012</td><td>34</td><td>56</td><td>17</td><td>0.1</td><td>84.7</td><td> 9.7</td><td>27.3</td><td>4.7</td><td>10.3</td><td>5.2</td><td>fire    </td></tr>\n",
       "\t<tr><td> 4</td><td>7</td><td>2012</td><td>34</td><td>58</td><td>18</td><td>0.0</td><td>88.0</td><td>13.6</td><td>36.8</td><td>8.0</td><td>14.1</td><td>9.9</td><td>fire    </td></tr>\n",
       "</tbody>\n",
       "</table>\n"
      ],
      "text/latex": [
       "A tibble: 6 × 14\n",
       "\\begin{tabular}{llllllllllllll}\n",
       " day & month & year & Temperature & RH & Ws & Rain & FFMC & DMC & DC & ISI & BUI & FWI & Classes\\\\\n",
       " <dbl> & <dbl> & <dbl> & <dbl> & <dbl> & <dbl> & <dbl> & <dbl> & <dbl> & <dbl> & <dbl> & <dbl> & <dbl> & <fct>\\\\\n",
       "\\hline\n",
       "\t  6 & 6 & 2012 & 35 & 54 & 11 & 0.1 & 83.7 &  8.4 & 26.3 & 3.1 &  9.3 & 3.1 & fire    \\\\\n",
       "\t  8 & 6 & 2012 & 28 & 51 & 17 & 1.3 & 71.4 &  7.7 &  7.4 & 1.5 &  7.3 & 0.8 & not fire\\\\\n",
       "\t 15 & 6 & 2012 & 28 & 90 & 15 & 0.0 & 66.8 &  7.2 & 14.7 & 1.2 &  7.1 & 0.6 & not fire\\\\\n",
       "\t 24 & 6 & 2012 & 35 & 68 & 16 & 0.0 & 85.3 & 10.0 & 17.0 & 4.9 &  9.9 & 5.3 & fire    \\\\\n",
       "\t  3 & 7 & 2012 & 34 & 56 & 17 & 0.1 & 84.7 &  9.7 & 27.3 & 4.7 & 10.3 & 5.2 & fire    \\\\\n",
       "\t  4 & 7 & 2012 & 34 & 58 & 18 & 0.0 & 88.0 & 13.6 & 36.8 & 8.0 & 14.1 & 9.9 & fire    \\\\\n",
       "\\end{tabular}\n"
      ],
      "text/markdown": [
       "\n",
       "A tibble: 6 × 14\n",
       "\n",
       "| day &lt;dbl&gt; | month &lt;dbl&gt; | year &lt;dbl&gt; | Temperature &lt;dbl&gt; | RH &lt;dbl&gt; | Ws &lt;dbl&gt; | Rain &lt;dbl&gt; | FFMC &lt;dbl&gt; | DMC &lt;dbl&gt; | DC &lt;dbl&gt; | ISI &lt;dbl&gt; | BUI &lt;dbl&gt; | FWI &lt;dbl&gt; | Classes &lt;fct&gt; |\n",
       "|---|---|---|---|---|---|---|---|---|---|---|---|---|---|\n",
       "|  6 | 6 | 2012 | 35 | 54 | 11 | 0.1 | 83.7 |  8.4 | 26.3 | 3.1 |  9.3 | 3.1 | fire     |\n",
       "|  8 | 6 | 2012 | 28 | 51 | 17 | 1.3 | 71.4 |  7.7 |  7.4 | 1.5 |  7.3 | 0.8 | not fire |\n",
       "| 15 | 6 | 2012 | 28 | 90 | 15 | 0.0 | 66.8 |  7.2 | 14.7 | 1.2 |  7.1 | 0.6 | not fire |\n",
       "| 24 | 6 | 2012 | 35 | 68 | 16 | 0.0 | 85.3 | 10.0 | 17.0 | 4.9 |  9.9 | 5.3 | fire     |\n",
       "|  3 | 7 | 2012 | 34 | 56 | 17 | 0.1 | 84.7 |  9.7 | 27.3 | 4.7 | 10.3 | 5.2 | fire     |\n",
       "|  4 | 7 | 2012 | 34 | 58 | 18 | 0.0 | 88.0 | 13.6 | 36.8 | 8.0 | 14.1 | 9.9 | fire     |\n",
       "\n"
      ],
      "text/plain": [
       "  day month year Temperature RH Ws Rain FFMC DMC  DC   ISI BUI  FWI Classes \n",
       "1  6  6     2012 35          54 11 0.1  83.7  8.4 26.3 3.1  9.3 3.1 fire    \n",
       "2  8  6     2012 28          51 17 1.3  71.4  7.7  7.4 1.5  7.3 0.8 not fire\n",
       "3 15  6     2012 28          90 15 0.0  66.8  7.2 14.7 1.2  7.1 0.6 not fire\n",
       "4 24  6     2012 35          68 16 0.0  85.3 10.0 17.0 4.9  9.9 5.3 fire    \n",
       "5  3  7     2012 34          56 17 0.1  84.7  9.7 27.3 4.7 10.3 5.2 fire    \n",
       "6  4  7     2012 34          58 18 0.0  88.0 13.6 36.8 8.0 14.1 9.9 fire    "
      ]
     },
     "metadata": {},
     "output_type": "display_data"
    },
    {
     "data": {
      "text/html": [
       "<table>\n",
       "<caption>A tibble: 6 × 14</caption>\n",
       "<thead>\n",
       "\t<tr><th scope=col>day</th><th scope=col>month</th><th scope=col>year</th><th scope=col>Temperature</th><th scope=col>RH</th><th scope=col>Ws</th><th scope=col>Rain</th><th scope=col>FFMC</th><th scope=col>DMC</th><th scope=col>DC</th><th scope=col>ISI</th><th scope=col>BUI</th><th scope=col>FWI</th><th scope=col>Class</th></tr>\n",
       "\t<tr><th scope=col>&lt;dbl&gt;</th><th scope=col>&lt;dbl&gt;</th><th scope=col>&lt;dbl&gt;</th><th scope=col>&lt;dbl&gt;</th><th scope=col>&lt;dbl&gt;</th><th scope=col>&lt;dbl&gt;</th><th scope=col>&lt;dbl&gt;</th><th scope=col>&lt;dbl&gt;</th><th scope=col>&lt;dbl&gt;</th><th scope=col>&lt;dbl&gt;</th><th scope=col>&lt;dbl&gt;</th><th scope=col>&lt;dbl&gt;</th><th scope=col>&lt;dbl&gt;</th><th scope=col>&lt;fct&gt;</th></tr>\n",
       "</thead>\n",
       "<tbody>\n",
       "\t<tr><td>2</td><td>6</td><td>2012</td><td>29</td><td>61</td><td>13</td><td> 1.3</td><td>64.4</td><td> 4.1</td><td> 7.6</td><td>1.0</td><td> 3.9</td><td>0.4</td><td>not fire</td></tr>\n",
       "\t<tr><td>3</td><td>6</td><td>2012</td><td>26</td><td>82</td><td>22</td><td>13.1</td><td>47.1</td><td> 2.5</td><td> 7.1</td><td>0.3</td><td> 2.7</td><td>0.1</td><td>not fire</td></tr>\n",
       "\t<tr><td>4</td><td>6</td><td>2012</td><td>25</td><td>89</td><td>13</td><td> 2.5</td><td>28.6</td><td> 1.3</td><td> 6.9</td><td>0.0</td><td> 1.7</td><td>0.0</td><td>not fire</td></tr>\n",
       "\t<tr><td>5</td><td>6</td><td>2012</td><td>27</td><td>77</td><td>16</td><td> 0.0</td><td>64.8</td><td> 3.0</td><td>14.2</td><td>1.2</td><td> 3.9</td><td>0.5</td><td>not fire</td></tr>\n",
       "\t<tr><td>6</td><td>6</td><td>2012</td><td>31</td><td>67</td><td>14</td><td> 0.0</td><td>82.6</td><td> 5.8</td><td>22.2</td><td>3.1</td><td> 7.0</td><td>2.5</td><td>fire    </td></tr>\n",
       "\t<tr><td>8</td><td>6</td><td>2012</td><td>30</td><td>73</td><td>15</td><td> 0.0</td><td>86.6</td><td>12.1</td><td>38.3</td><td>5.6</td><td>13.5</td><td>7.1</td><td>fire    </td></tr>\n",
       "</tbody>\n",
       "</table>\n"
      ],
      "text/latex": [
       "A tibble: 6 × 14\n",
       "\\begin{tabular}{llllllllllllll}\n",
       " day & month & year & Temperature & RH & Ws & Rain & FFMC & DMC & DC & ISI & BUI & FWI & Class\\\\\n",
       " <dbl> & <dbl> & <dbl> & <dbl> & <dbl> & <dbl> & <dbl> & <dbl> & <dbl> & <dbl> & <dbl> & <dbl> & <dbl> & <fct>\\\\\n",
       "\\hline\n",
       "\t 2 & 6 & 2012 & 29 & 61 & 13 &  1.3 & 64.4 &  4.1 &  7.6 & 1.0 &  3.9 & 0.4 & not fire\\\\\n",
       "\t 3 & 6 & 2012 & 26 & 82 & 22 & 13.1 & 47.1 &  2.5 &  7.1 & 0.3 &  2.7 & 0.1 & not fire\\\\\n",
       "\t 4 & 6 & 2012 & 25 & 89 & 13 &  2.5 & 28.6 &  1.3 &  6.9 & 0.0 &  1.7 & 0.0 & not fire\\\\\n",
       "\t 5 & 6 & 2012 & 27 & 77 & 16 &  0.0 & 64.8 &  3.0 & 14.2 & 1.2 &  3.9 & 0.5 & not fire\\\\\n",
       "\t 6 & 6 & 2012 & 31 & 67 & 14 &  0.0 & 82.6 &  5.8 & 22.2 & 3.1 &  7.0 & 2.5 & fire    \\\\\n",
       "\t 8 & 6 & 2012 & 30 & 73 & 15 &  0.0 & 86.6 & 12.1 & 38.3 & 5.6 & 13.5 & 7.1 & fire    \\\\\n",
       "\\end{tabular}\n"
      ],
      "text/markdown": [
       "\n",
       "A tibble: 6 × 14\n",
       "\n",
       "| day &lt;dbl&gt; | month &lt;dbl&gt; | year &lt;dbl&gt; | Temperature &lt;dbl&gt; | RH &lt;dbl&gt; | Ws &lt;dbl&gt; | Rain &lt;dbl&gt; | FFMC &lt;dbl&gt; | DMC &lt;dbl&gt; | DC &lt;dbl&gt; | ISI &lt;dbl&gt; | BUI &lt;dbl&gt; | FWI &lt;dbl&gt; | Class &lt;fct&gt; |\n",
       "|---|---|---|---|---|---|---|---|---|---|---|---|---|---|\n",
       "| 2 | 6 | 2012 | 29 | 61 | 13 |  1.3 | 64.4 |  4.1 |  7.6 | 1.0 |  3.9 | 0.4 | not fire |\n",
       "| 3 | 6 | 2012 | 26 | 82 | 22 | 13.1 | 47.1 |  2.5 |  7.1 | 0.3 |  2.7 | 0.1 | not fire |\n",
       "| 4 | 6 | 2012 | 25 | 89 | 13 |  2.5 | 28.6 |  1.3 |  6.9 | 0.0 |  1.7 | 0.0 | not fire |\n",
       "| 5 | 6 | 2012 | 27 | 77 | 16 |  0.0 | 64.8 |  3.0 | 14.2 | 1.2 |  3.9 | 0.5 | not fire |\n",
       "| 6 | 6 | 2012 | 31 | 67 | 14 |  0.0 | 82.6 |  5.8 | 22.2 | 3.1 |  7.0 | 2.5 | fire     |\n",
       "| 8 | 6 | 2012 | 30 | 73 | 15 |  0.0 | 86.6 | 12.1 | 38.3 | 5.6 | 13.5 | 7.1 | fire     |\n",
       "\n"
      ],
      "text/plain": [
       "  day month year Temperature RH Ws Rain FFMC DMC  DC   ISI BUI  FWI Class   \n",
       "1 2   6     2012 29          61 13  1.3 64.4  4.1  7.6 1.0  3.9 0.4 not fire\n",
       "2 3   6     2012 26          82 22 13.1 47.1  2.5  7.1 0.3  2.7 0.1 not fire\n",
       "3 4   6     2012 25          89 13  2.5 28.6  1.3  6.9 0.0  1.7 0.0 not fire\n",
       "4 5   6     2012 27          77 16  0.0 64.8  3.0 14.2 1.2  3.9 0.5 not fire\n",
       "5 6   6     2012 31          67 14  0.0 82.6  5.8 22.2 3.1  7.0 2.5 fire    \n",
       "6 8   6     2012 30          73 15  0.0 86.6 12.1 38.3 5.6 13.5 7.1 fire    "
      ]
     },
     "metadata": {},
     "output_type": "display_data"
    },
    {
     "data": {
      "text/html": [
       "<table>\n",
       "<caption>A tibble: 6 × 14</caption>\n",
       "<thead>\n",
       "\t<tr><th scope=col>day</th><th scope=col>month</th><th scope=col>year</th><th scope=col>Temperature</th><th scope=col>RH</th><th scope=col>Ws</th><th scope=col>Rain</th><th scope=col>FFMC</th><th scope=col>DMC</th><th scope=col>DC</th><th scope=col>ISI</th><th scope=col>BUI</th><th scope=col>FWI</th><th scope=col>Class</th></tr>\n",
       "\t<tr><th scope=col>&lt;dbl&gt;</th><th scope=col>&lt;dbl&gt;</th><th scope=col>&lt;dbl&gt;</th><th scope=col>&lt;dbl&gt;</th><th scope=col>&lt;dbl&gt;</th><th scope=col>&lt;dbl&gt;</th><th scope=col>&lt;dbl&gt;</th><th scope=col>&lt;dbl&gt;</th><th scope=col>&lt;dbl&gt;</th><th scope=col>&lt;dbl&gt;</th><th scope=col>&lt;dbl&gt;</th><th scope=col>&lt;dbl&gt;</th><th scope=col>&lt;dbl&gt;</th><th scope=col>&lt;fct&gt;</th></tr>\n",
       "</thead>\n",
       "<tbody>\n",
       "\t<tr><td> 1</td><td>6</td><td>2012</td><td>29</td><td>57</td><td>18</td><td>0.0</td><td>65.7</td><td>3.4</td><td> 7.6</td><td>1.3</td><td> 3.4</td><td>0.5</td><td>not fire</td></tr>\n",
       "\t<tr><td> 7</td><td>6</td><td>2012</td><td>33</td><td>54</td><td>13</td><td>0.0</td><td>88.2</td><td>9.9</td><td>30.5</td><td>6.4</td><td>10.9</td><td>7.2</td><td>fire    </td></tr>\n",
       "\t<tr><td> 9</td><td>6</td><td>2012</td><td>25</td><td>88</td><td>13</td><td>0.2</td><td>52.9</td><td>7.9</td><td>38.8</td><td>0.4</td><td>10.5</td><td>0.3</td><td>not fire</td></tr>\n",
       "\t<tr><td>19</td><td>6</td><td>2012</td><td>31</td><td>55</td><td>16</td><td>0.1</td><td>79.9</td><td>4.5</td><td>16.0</td><td>2.5</td><td> 5.3</td><td>1.4</td><td>not fire</td></tr>\n",
       "\t<tr><td>21</td><td>6</td><td>2012</td><td>30</td><td>78</td><td>14</td><td>0.0</td><td>81.0</td><td>6.3</td><td>31.6</td><td>2.6</td><td> 8.4</td><td>2.2</td><td>fire    </td></tr>\n",
       "\t<tr><td> 1</td><td>7</td><td>2012</td><td>29</td><td>68</td><td>19</td><td>1.0</td><td>59.9</td><td>2.5</td><td> 8.6</td><td>1.1</td><td> 2.9</td><td>0.4</td><td>not fire</td></tr>\n",
       "</tbody>\n",
       "</table>\n"
      ],
      "text/latex": [
       "A tibble: 6 × 14\n",
       "\\begin{tabular}{llllllllllllll}\n",
       " day & month & year & Temperature & RH & Ws & Rain & FFMC & DMC & DC & ISI & BUI & FWI & Class\\\\\n",
       " <dbl> & <dbl> & <dbl> & <dbl> & <dbl> & <dbl> & <dbl> & <dbl> & <dbl> & <dbl> & <dbl> & <dbl> & <dbl> & <fct>\\\\\n",
       "\\hline\n",
       "\t  1 & 6 & 2012 & 29 & 57 & 18 & 0.0 & 65.7 & 3.4 &  7.6 & 1.3 &  3.4 & 0.5 & not fire\\\\\n",
       "\t  7 & 6 & 2012 & 33 & 54 & 13 & 0.0 & 88.2 & 9.9 & 30.5 & 6.4 & 10.9 & 7.2 & fire    \\\\\n",
       "\t  9 & 6 & 2012 & 25 & 88 & 13 & 0.2 & 52.9 & 7.9 & 38.8 & 0.4 & 10.5 & 0.3 & not fire\\\\\n",
       "\t 19 & 6 & 2012 & 31 & 55 & 16 & 0.1 & 79.9 & 4.5 & 16.0 & 2.5 &  5.3 & 1.4 & not fire\\\\\n",
       "\t 21 & 6 & 2012 & 30 & 78 & 14 & 0.0 & 81.0 & 6.3 & 31.6 & 2.6 &  8.4 & 2.2 & fire    \\\\\n",
       "\t  1 & 7 & 2012 & 29 & 68 & 19 & 1.0 & 59.9 & 2.5 &  8.6 & 1.1 &  2.9 & 0.4 & not fire\\\\\n",
       "\\end{tabular}\n"
      ],
      "text/markdown": [
       "\n",
       "A tibble: 6 × 14\n",
       "\n",
       "| day &lt;dbl&gt; | month &lt;dbl&gt; | year &lt;dbl&gt; | Temperature &lt;dbl&gt; | RH &lt;dbl&gt; | Ws &lt;dbl&gt; | Rain &lt;dbl&gt; | FFMC &lt;dbl&gt; | DMC &lt;dbl&gt; | DC &lt;dbl&gt; | ISI &lt;dbl&gt; | BUI &lt;dbl&gt; | FWI &lt;dbl&gt; | Class &lt;fct&gt; |\n",
       "|---|---|---|---|---|---|---|---|---|---|---|---|---|---|\n",
       "|  1 | 6 | 2012 | 29 | 57 | 18 | 0.0 | 65.7 | 3.4 |  7.6 | 1.3 |  3.4 | 0.5 | not fire |\n",
       "|  7 | 6 | 2012 | 33 | 54 | 13 | 0.0 | 88.2 | 9.9 | 30.5 | 6.4 | 10.9 | 7.2 | fire     |\n",
       "|  9 | 6 | 2012 | 25 | 88 | 13 | 0.2 | 52.9 | 7.9 | 38.8 | 0.4 | 10.5 | 0.3 | not fire |\n",
       "| 19 | 6 | 2012 | 31 | 55 | 16 | 0.1 | 79.9 | 4.5 | 16.0 | 2.5 |  5.3 | 1.4 | not fire |\n",
       "| 21 | 6 | 2012 | 30 | 78 | 14 | 0.0 | 81.0 | 6.3 | 31.6 | 2.6 |  8.4 | 2.2 | fire     |\n",
       "|  1 | 7 | 2012 | 29 | 68 | 19 | 1.0 | 59.9 | 2.5 |  8.6 | 1.1 |  2.9 | 0.4 | not fire |\n",
       "\n"
      ],
      "text/plain": [
       "  day month year Temperature RH Ws Rain FFMC DMC DC   ISI BUI  FWI Class   \n",
       "1  1  6     2012 29          57 18 0.0  65.7 3.4  7.6 1.3  3.4 0.5 not fire\n",
       "2  7  6     2012 33          54 13 0.0  88.2 9.9 30.5 6.4 10.9 7.2 fire    \n",
       "3  9  6     2012 25          88 13 0.2  52.9 7.9 38.8 0.4 10.5 0.3 not fire\n",
       "4 19  6     2012 31          55 16 0.1  79.9 4.5 16.0 2.5  5.3 1.4 not fire\n",
       "5 21  6     2012 30          78 14 0.0  81.0 6.3 31.6 2.6  8.4 2.2 fire    \n",
       "6  1  7     2012 29          68 19 1.0  59.9 2.5  8.6 1.1  2.9 0.4 not fire"
      ]
     },
     "metadata": {},
     "output_type": "display_data"
    }
   ],
   "source": [
    "Sidi_Bel_Abbes_split<- initial_split(Sidi_Bel_Abbes, prop = 0.75, strata = Classes)  \n",
    "Sidi_Bel_Abbes_train <- training(Sidi_Bel_Abbes_split)   \n",
    "Sidi_Bel_Abbes_test <- testing(Sidi_Bel_Abbes_split)\n",
    "head(Sidi_Bel_Abbes_train) \n",
    "    \n",
    "head(Sidi_Bel_Abbes_test)\n",
    "\n",
    "Bejaia_split<- initial_split(bejaia, prop = 0.75, strata = Class)  \n",
    "Bejaia_train <- training(Bejaia_split)   \n",
    "Bejaia_test <- testing(Bejaia_split)\n",
    "head(Bejaia_train)\n",
    "head(Bejaia_test)"
   ]
  },
  {
   "cell_type": "code",
   "execution_count": 341,
   "metadata": {},
   "outputs": [
    {
     "data": {
      "image/png": "[encoded data removed]",
      "text/plain": [
       "plot without title"
      ]
     },
     "metadata": {
      "image/png": {
       "height": 420,
       "width": 420
      }
     },
     "output_type": "display_data"
    },
    {
     "name": "stderr",
     "output_type": "stream",
     "text": [
      "Warning message:\n",
      "“Removed 93 rows containing missing values (geom_point).”\n"
     ]
    },
    {
     "data": {
      "image/png": "[encoded data removed]",
      "text/plain": [
       "plot without title"
      ]
     },
     "metadata": {
      "image/png": {
       "height": 420,
       "width": 420
      }
     },
     "output_type": "display_data"
    },
    {
     "ename": "ERROR",
     "evalue": "Error: Can't subset columns that don't exist.\n\u001b[31m✖\u001b[39m Column `Class` doesn't exist.\n",
     "output_type": "error",
     "traceback": [
      "Error: Can't subset columns that don't exist.\n\u001b[31m✖\u001b[39m Column `Class` doesn't exist.\nTraceback:\n",
      "1. Sidi_Bel_Abbes_train %>% select(RH, FFMC, Class) %>% ggplot(aes(x = FFMC, \n .     y = RH, color = Class))",
      "2. withVisible(eval(quote(`_fseq`(`_lhs`)), env, env))",
      "3. eval(quote(`_fseq`(`_lhs`)), env, env)",
      "4. eval(quote(`_fseq`(`_lhs`)), env, env)",
      "5. `_fseq`(`_lhs`)",
      "6. freduce(value, `_function_list`)",
      "7. function_list[[i]](value)",
      "8. select(., RH, FFMC, Class)",
      "9. select.data.frame(., RH, FFMC, Class)",
      "10. tidyselect::eval_select(expr(c(...)), .data)",
      "11. eval_select_impl(data, names(data), as_quosure(expr, env), include = include, \n  .     exclude = exclude, strict = strict, name_spec = name_spec, \n  .     allow_rename = allow_rename)",
      "12. with_subscript_errors(vars_select_eval(vars, expr, strict, data = x, \n  .     name_spec = name_spec, uniquely_named = uniquely_named, allow_rename = allow_rename, \n  .     type = type), type = type)",
      "13. tryCatch(instrument_base_errors(expr), vctrs_error_subscript = function(cnd) {\n  .     cnd$subscript_action <- subscript_action(type)\n  .     cnd$subscript_elt <- \"column\"\n  .     cnd_signal(cnd)\n  . })",
      "14. tryCatchList(expr, classes, parentenv, handlers)",
      "15. tryCatchOne(expr, names, parentenv, handlers[[1L]])",
      "16. value[[3L]](cond)",
      "17. cnd_signal(cnd)",
      "18. rlang:::signal_abort(x)"
     ]
    },
    {
     "data": {
      "image/png": "[encoded data removed]",
      "text/plain": [
       "plot without title"
      ]
     },
     "metadata": {
      "image/png": {
       "height": 420,
       "width": 420
      }
     },
     "output_type": "display_data"
    }
   ],
   "source": [
    "Sidi_Bel_Abbes_Tem <- Sidi_Bel_Abbes_train %>% \n",
    "select(Temperature, RH, Classes)%>%\n",
    "\n",
    "ggplot(aes(x=Temperature, y= RH, color = Classes))+\n",
    "geom_point()+\n",
    "xlab(\"Temperature\")+\n",
    "ylab(\"Relative Humidity\")+\n",
    "labs(title=\"Sidi Bel Abbes Relative Humidity vs Temperature\") +\n",
    "    scale_color_manual (values=c(\"fire\"=\"tomato\",\n",
    "                                \"not fire\"=\"skyblue2\"))\n",
    "Sidi_Bel_Abbes_Tem\n",
    "\n",
    "Bejaia_Tem <- Bejaia_train %>% \n",
    "    select(Temperature, RH, Class)%>%\n",
    "    ggplot(aes(x=Temperature, y= RH, color = Class))+\n",
    "    geom_point()+\n",
    "    xlab(\"Temperature\")+\n",
    "    ylab(\"Relative Humidity\")+\n",
    "    labs(title=\"Bejaia Relative Humidity vs Temperature\") +\n",
    "    scale_color_manual (values=c(\"fire\"=\"tomato\", \"not fire\"=\"skyblue2\"))\n",
    "Bejaia_Tem\n",
    "\n",
    "Bejaia_RH_FFMC <- Bejaia_train %>%\n",
    "    select(RH, Class, FFMC) %>%\n",
    "    ggplot(aes(x=FFMC,y=RH,color=Class)) +\n",
    "    geom_point() + \n",
    "    labs(y=\"Relative Humidity (%)\", x=\"Fine Fuel Moisture Code\",title=\"RH vs Fine Fuel Moisture Code (BEJAIA)\") +\n",
    "    scale_color_manual (values=c(\"Fire\"=\"tomato\",\n",
    "                                \"Not Fire\"=\"skyblue2\"))\n",
    "Bejaia_RH_FFMC\n",
    "\n",
    "Sidi_Bel_Abbes_RH_FFMC <- Sidi_Bel_Abbes_train %>% \n",
    "    select(RH,FFMC,Class) %>%\n",
    "    ggplot(aes(x=FFMC,y=RH,color=Class)) +\n",
    "    geom_point() + \n",
    "    labs(y=\"Relative Humidity (%)\", x=\"Fine Fuel Moisture Code\", title=\"RH vs Fine Fuel Moisture (SIDI BEL ABBES)\")+\n",
    "    scale_color_manual (values=c(\"fire\"=\"tomato\",\n",
    "                                \"not fire\"=\"skyblue2\"))\n",
    "Sidi_Bel_Abbes_RH_FFMC\n",
    "\n",
    "\n",
    "Bejaia_RH_DMC <- Bejaia_train %>%\n",
    "    select(RH, Class, DMC) %>%   \n",
    "    ggplot(aes(x=DMC,y=RH,color=Class)) +\n",
    "    geom_point() + \n",
    "    labs(y=\"Relative Humidity (%)\", x=\"Duff Moisture Code\",title=\"RH vs Duff Moisture Code (BEJAIA)\")+\n",
    "    scale_color_manual (values=c(\"Fire\"=\"tomato\",\n",
    "                                \"Not Fire\"=\"skyblue2\"))\n",
    "Bejaia_RH_DMC\n",
    "\n",
    "Sidi_Bel_Abbes_RH_DMC <- Sidi_Bel_Abbes_train%>% \n",
    "    select(RH,DMC,Classes) %>%\n",
    "    ggplot(aes(x=DMC,y=RH,color=Classes)) +\n",
    "    geom_point() + \n",
    "    labs(y=\"Relative Humidity (%)\", x=\"Duff Moisture Code\",title=\"RH vs Duff Moisture Code (SIDI BEL ABBES)\") +\n",
    "    scale_color_manual (values=c(\"fire\"=\"tomato\",\n",
    "                                \"not fire\"=\"skyblue2\"))\n",
    "Sidi_Bel_Abbes_RH_DMC\n",
    "\n",
    "\n",
    "Sidi_Bel_Abbes_Ws <- Sidi_Bel_Abbes_train %>% \n",
    "select(Ws, RH, Classes)%>%\n",
    "\n",
    "ggplot(aes(x=Ws, y= RH, color = Classes))+\n",
    "geom_point()+\n",
    "xlab(\"Wind Speed\")+\n",
    "ylab(\"Relative Humidity\")+\n",
    "labs(title=\"Sidi Bel Abbes Relative Humidity vs Wind Speed\") +\n",
    "    scale_color_manual (values=c(\"fire\"=\"tomato\",\n",
    "                                \"not fire\"=\"skyblue2\"))\n",
    "Sidi_Bel_Abbes_Ws\n",
    "\n",
    "Bejaia_Ws <- Bejaia_train %>% \n",
    "    select(Ws, RH, Class)%>%\n",
    "    ggplot(aes(x=Ws, y= RH, color = Class))+\n",
    "    geom_point()+\n",
    "    xlab(\"Wind Speed\")+\n",
    "    ylab(\"Relative Humidity\")+\n",
    "    labs(title=\"Bejaia Relative Humidity vs Wind Speed\") +\n",
    "    scale_color_manual (values=c(\"Fire\"=\"tomato\", \"Not Fire\"=\"skyblue2\"))\n",
    "Bejaia_Ws\n",
    "\n",
    "Bejaia_RH_FWI <- Bejaia_train %>%\n",
    "    select(FWI, Class, RH) %>%\n",
    "    ggplot(aes(x=FWI,y=RH,color=Class)) +\n",
    "    geom_point() + \n",
    "    labs(y=\"Relative Humidity (%)\", x=\"Fire Weather Index\",title=\"RH vs Fire Weather Index(Bejaia)\") +\n",
    "    scale_color_manual (values=c(\"Fire\"=\"tomato\",\n",
    "                                \"Not Fire\"=\"skyblue2\"))\n",
    "Bejaia_RH_FWI\n",
    "\n",
    "Sidi_Bel_Abbes_RH_FWI <- Sidi_Bel_Abbes_train%>% \n",
    "    select(RH,FWI,Classes) %>%\n",
    "    \n",
    "    ggplot(aes(x=FWI,y=RH,color=Classes)) +\n",
    "    geom_point() + \n",
    "    labs(y=\"Relative Humidity (%)\", x=\"Fire Weather Index\", title=\"RH vs Fire Weather Index(SIDI BEL ABBES)\")+\n",
    "    scale_color_manual (values=c(\"fire\"=\"tomato\",\n",
    "                                \"not fire\"=\"skyblue2\")) \n",
    "    \n",
    "Sidi_Bel_Abbes_RH_FWI\n",
    "\n",
    "Bejaia_RH_Rain <- Bejaia_train %>%\n",
    "    select(RH, Class, Rain) %>%\n",
    "    ggplot(aes(x=Rain,y=RH,color=Class)) +\n",
    "    geom_point() + \n",
    "    labs(y=\"Relative Humidity (%)\", x=\"Rain\",title=\"RH vs Rain (BEJAIA)\") +\n",
    "    scale_color_manual (values=c(\"Fire\"=\"tomato\",\n",
    "                                \"Not Fire\"=\"skyblue2\"))\n",
    "Bejaia_RH_Rain\n",
    "\n",
    "Sidi_Bel_Abbes_RH_Rain <- Sidi_Bel_Abbes_train%>% \n",
    "    select(RH,Rain,Class) %>%\n",
    "    ggplot(aes(x=Rain,y=RH,color=Class)) +\n",
    "    geom_point() + \n",
    "    labs(y=\"Relative Humidity (%)\", x=\"Rain\", title=\"RH vs Rain (SIDI BEL ABBES)\")+\n",
    "    scale_color_manual (values=c(\"fire\"=\"tomato\",\n",
    "                                \"not fire\"=\"skyblue2\"))\n",
    "\n",
    "Sidi_Bel_Abbes_RH_Rain\n",
    "\n",
    "Bejaia_RH_BUI <- Bejaia_train %>%\n",
    "    select(RH, Class, BUI) %>%\n",
    "    ggplot(aes(x=BUI,y=RH,color=Class)) +\n",
    "    geom_point() + \n",
    "    labs(y=\"Relative Humidity (%)\", x=\"Build Up Index\",title=\"RH vs Build Up Index (BEJAIA)\") +\n",
    "    scale_color_manual (values=c(\"Fire\"=\"tomato\",\n",
    "                                \"Not Fire\"=\"skyblue2\"))\n",
    "\n",
    "\n",
    "Bejaia_RH_BUI\n",
    "\n",
    "Sidi_Bel_Abbes_RH_BUI <- Sidi_Bel_Abbes_train%>% \n",
    "    select(RH,BUI,Classes) %>%\n",
    "    ggplot(aes(x=BUI,y=RH,color=Classes)) +\n",
    "    geom_point() + \n",
    "    labs(y=\"Relative Humidity (%)\", x=\"Build Up Index\", title=\"RH vs Build Up Index(SIDI BEL ABBES)\")+\n",
    "    scale_color_manual (values=c(\"fire\"=\"tomato\",\n",
    "                                \"not fire\"=\"skyblue2\"))\n",
    "Sidi_Bel_Abbes_RH_BUI\n",
    "\n",
    "\n",
    "Sidi_Bel_Abbes_DC <- Sidi_Bel_Abbes_train %>% \n",
    "    select(DC, RH, Classes)%>%\n",
    "    filter(Classes != \"NA\") %>%\n",
    "    ggplot(aes(x=DC, y= RH, color = Classes))+\n",
    "    geom_point()+\n",
    "    xlab(\"Drought Code Index\")+\n",
    "    ylab(\"Relative Humidity\")+\n",
    "    labs(title=\"Sidi Bel Abbes Relative Humidity vs Drought Code Index\") +\n",
    "    scale_color_manual (values=c(\"fire\"=\"tomato\", \"not fire\"=\"skyblue2\"))\n",
    "\n",
    "Sidi_Bel_Abbes_DC\n",
    "\n",
    "\n",
    "\n",
    "Bejaia_DC <- Bejaia_train %>% \n",
    "    select(DC, RH, Class)%>%\n",
    "    filter(Class != \"NA\") %>%\n",
    "    filter(Class != '') %>%\n",
    "    ggplot(aes(x=DC, y= RH, color = Class))+\n",
    "    geom_point()+\n",
    "    xlab(\"Drought Code Index\")+\n",
    "    ylab(\"Relative Humidity\")+\n",
    "    labs(title=\"Bejaia Relative Humidity vs Drought Code Index\") +\n",
    "    scale_color_manual (values=c(\"Fire\"=\"tomato\", \"Not Fire\"=\"skyblue2\"))\n",
    "\n",
    "Bejaia_DC\n",
    "\n",
    "Sidi_Bel_Abbes_ISI <- Sidi_Bel_Abbes_train %>% \n",
    "    select(ISI, RH, Classes)%>%\n",
    "    ggplot(aes(x=ISI, y= RH, color = Classes))+\n",
    "    geom_point()+\n",
    "    xlab(\"Initial Spread Index\")+\n",
    "    ylab(\"Relative Humidity\")+\n",
    "    labs(title=\"Sidi Bel Abbes Relative Humidity vs Initial Spread Index\")+\n",
    "    scale_color_manual (values=c(\"fire\"=\"tomato\",\"not fire\"=\"skyblue2\"))\n",
    "\n",
    "Sidi_Bel_Abbes_ISI\n",
    "\n",
    "\n",
    "\n",
    "Bejaia_ISI <- Bejaia_train %>% \n",
    "    select(ISI, RH, Class)%>%\n",
    "    ggplot(aes(x=ISI, y= RH, color = Class))+\n",
    "    geom_point()+\n",
    "    xlab(\"Initial Spread Index\")+\n",
    "    ylab(\"Relative Humidity\")+\n",
    "    labs(title=\"Bejaia Relative Humidity vs Initial Spread Index\")+\n",
    "    scale_color_manual (values=c(\"Fire\"=\"tomato\", \"Not Fire\"=\"skyblue2\"))\n",
    "\n",
    "Bejaia_ISI"
   ]
  },
  {
   "cell_type": "code",
   "execution_count": null,
   "metadata": {},
   "outputs": [],
   "source": []
  },
  {
   "cell_type": "code",
   "execution_count": null,
   "metadata": {},
   "outputs": [],
   "source": []
  },
  {
   "cell_type": "code",
   "execution_count": null,
   "metadata": {},
   "outputs": [],
   "source": []
  },
  {
   "cell_type": "code",
   "execution_count": null,
   "metadata": {},
   "outputs": [],
   "source": []
  },
  {
   "cell_type": "code",
   "execution_count": null,
   "metadata": {},
   "outputs": [],
   "source": []
  },
  {
   "cell_type": "markdown",
   "metadata": {},
   "source": [
    "The cell below contains the recipe and model for FFMC. It also contains the folded Bejaia data set. Contains the knn model specification needed to find the optimal K value. Contains a a tibble with possible k values to test"
   ]
  },
  {
   "cell_type": "code",
   "execution_count": 342,
   "metadata": {},
   "outputs": [],
   "source": [
    "Bej_FFMC_recipe_scaled <- recipe(Class ~ FFMC + RH, data=Bejaia_train) %>%\n",
    "    step_scale(all_predictors()) %>%\n",
    "    step_center(all_predictors())"
   ]
  },
  {
   "cell_type": "code",
   "execution_count": 375,
   "metadata": {},
   "outputs": [],
   "source": [
    "set.seed(1)\n",
    "Bej_vfold_C <- vfold_cv(Bejaia_train, v =5 , strata =Class)\n",
    "\n",
    "knn_spec_tune <- nearest_neighbor(weight_func = \"rectangular\", neighbors = tune()) %>%\n",
    "  set_engine(\"kknn\") %>%\n",
    "  set_mode(\"classification\")\n",
    "\n",
    "k_vals <- tibble(neighbors = seq(from = 1, to = 15, by = 1))"
   ]
  },
  {
   "cell_type": "markdown",
   "metadata": {},
   "source": [
    "The cell below finds the optimal K value"
   ]
  },
  {
   "cell_type": "code",
   "execution_count": 376,
   "metadata": {},
   "outputs": [
    {
     "data": {
      "image/png": "[encoded data removed]",
      "text/plain": [
       "plot without title"
      ]
     },
     "metadata": {
      "image/png": {
       "height": 420,
       "width": 420
      }
     },
     "output_type": "display_data"
    }
   ],
   "source": [
    "\n",
    "knn_results_tune_Bej_FFMC <- workflow() %>%\n",
    "  add_recipe(Bej_FFMC_recipe_scaled) %>%\n",
    "  add_model(knn_spec_tune) %>%\n",
    "  tune_grid(resamples =Bej_vfold_C , grid = k_vals) %>%\n",
    "  collect_metrics()\n",
    "#knn_results_tune\n",
    "\n",
    "accuracies_bej_FFMC <- knn_results_tune_Bej_FFMC %>%\n",
    "  filter(.metric == \"accuracy\")\n",
    "\n",
    "accuracy_vs_k_Bej_FFMC <- ggplot(accuracies_bej_FFMC, aes(x = neighbors, y = mean)) +\n",
    "  geom_point() +\n",
    "  geom_line() +\n",
    "  labs(x = \"Neighbors\", y = \"Accuracy Estimate\")+\n",
    "  scale_x_continuous()\n",
    "accuracy_vs_k_Bej_FFMC\n",
    "\n"
   ]
  },
  {
   "cell_type": "code",
   "execution_count": 377,
   "metadata": {},
   "outputs": [
    {
     "data": {
      "text/html": [
       "<table>\n",
       "<caption>A tibble: 2 × 3</caption>\n",
       "<thead>\n",
       "\t<tr><th scope=col>.metric</th><th scope=col>.estimator</th><th scope=col>.estimate</th></tr>\n",
       "\t<tr><th scope=col>&lt;chr&gt;</th><th scope=col>&lt;chr&gt;</th><th scope=col>&lt;dbl&gt;</th></tr>\n",
       "</thead>\n",
       "<tbody>\n",
       "\t<tr><td>accuracy</td><td>binary</td><td>0.9310345</td></tr>\n",
       "\t<tr><td>kap     </td><td>binary</td><td>0.8625592</td></tr>\n",
       "</tbody>\n",
       "</table>\n"
      ],
      "text/latex": [
       "A tibble: 2 × 3\n",
       "\\begin{tabular}{lll}\n",
       " .metric & .estimator & .estimate\\\\\n",
       " <chr> & <chr> & <dbl>\\\\\n",
       "\\hline\n",
       "\t accuracy & binary & 0.9310345\\\\\n",
       "\t kap      & binary & 0.8625592\\\\\n",
       "\\end{tabular}\n"
      ],
      "text/markdown": [
       "\n",
       "A tibble: 2 × 3\n",
       "\n",
       "| .metric &lt;chr&gt; | .estimator &lt;chr&gt; | .estimate &lt;dbl&gt; |\n",
       "|---|---|---|\n",
       "| accuracy | binary | 0.9310345 |\n",
       "| kap      | binary | 0.8625592 |\n",
       "\n"
      ],
      "text/plain": [
       "  .metric  .estimator .estimate\n",
       "1 accuracy binary     0.9310345\n",
       "2 kap      binary     0.8625592"
      ]
     },
     "metadata": {},
     "output_type": "display_data"
    }
   ],
   "source": [
    "Bej_knn_spec_FFMC <- nearest_neighbor(weight_func=\"rectangular\", neighbors=7) %>%\n",
    "    set_engine(\"kknn\") %>%\n",
    "    set_mode(\"classification\")\n",
    "\n",
    "Bej_FFMC_Fit_C <- workflow() %>%\n",
    "    add_recipe(Bej_FFMC_recipe_scaled) %>%\n",
    "    add_model(Bej_knn_spec_FFMC) %>%\n",
    "    fit(data=Bejaia_train)\n",
    "\n",
    "\n",
    "Bej_FFMC_prediction <- predict(Bej_FFMC_Fit_C, Bejaia_test) %>%\n",
    "    bind_cols(Bejaia_test)\n",
    "\n",
    "Bej_FFMC_prediction_accuracy <- Bej_FFMC_prediction %>%\n",
    "    metrics(truth=Class, estimate= .pred_class)\n",
    "Bej_FFMC_prediction_accuracy"
   ]
  },
  {
   "cell_type": "markdown",
   "metadata": {},
   "source": [
    "The cell below contains the recipe for FFMC for the Sidi Bel Abbes data set. It also contains the folded Sidi_Bel_Abbes data set"
   ]
  },
  {
   "cell_type": "code",
   "execution_count": 382,
   "metadata": {},
   "outputs": [],
   "source": [
    "Sidi_FFMC_recipe_scaled <- recipe(Classes ~ FFMC + RH, data=Sidi_Bel_Abbes_train) %>%\n",
    "    step_scale(all_predictors()) %>%\n",
    "    step_center(all_predictors())\n",
    "\n",
    "set.seed(1)\n",
    "Sidi_vfold_C <- vfold_cv(Sidi_Bel_Abbes_train, v =5 , strata =Classes)"
   ]
  },
  {
   "cell_type": "markdown",
   "metadata": {},
   "source": [
    "Cell below finds the optimal K value for FFMC for the Sidi Bel Abbes Data set"
   ]
  },
  {
   "cell_type": "code",
   "execution_count": 385,
   "metadata": {},
   "outputs": [
    {
     "data": {
      "image/png": "[encoded data removed]",
      "text/plain": [
       "plot without title"
      ]
     },
     "metadata": {
      "image/png": {
       "height": 420,
       "width": 420
      }
     },
     "output_type": "display_data"
    }
   ],
   "source": [
    "set.seed(1)\n",
    "knn_results_tune_Sidi_FFMC <- workflow() %>%\n",
    "  add_recipe(Sidi_FFMC_recipe_scaled) %>%\n",
    "  add_model(knn_spec_tune) %>%\n",
    "  tune_grid(resamples =Sidi_vfold_C , grid = k_vals) %>%\n",
    "  collect_metrics()\n",
    "\n",
    "accuracies_Sidi_FFMC <- knn_results_tune_Sidi_FFMC %>%\n",
    "  filter(.metric == \"accuracy\")\n",
    "\n",
    "accuracy_vs_k_Sidi_FFMC <- ggplot(accuracies_Sidi_FFMC, aes(x = neighbors, y = mean)) +\n",
    "  geom_point() +\n",
    "  geom_line() +\n",
    "  labs(x = \"Neighbors\", y = \"Accuracy Estimate\")+\n",
    "  scale_x_continuous()\n",
    "\n",
    "accuracy_vs_k_Sidi_FFMC"
   ]
  },
  {
   "cell_type": "markdown",
   "metadata": {},
   "source": [
    "Using the optimal K value calculate the accuracy of the classification model for FFMC on the Sidi Bel Abbes test data"
   ]
  },
  {
   "cell_type": "code",
   "execution_count": 386,
   "metadata": {},
   "outputs": [
    {
     "data": {
      "text/html": [
       "<table>\n",
       "<caption>A tibble: 2 × 3</caption>\n",
       "<thead>\n",
       "\t<tr><th scope=col>.metric</th><th scope=col>.estimator</th><th scope=col>.estimate</th></tr>\n",
       "\t<tr><th scope=col>&lt;chr&gt;</th><th scope=col>&lt;chr&gt;</th><th scope=col>&lt;dbl&gt;</th></tr>\n",
       "</thead>\n",
       "<tbody>\n",
       "\t<tr><td>accuracy</td><td>binary</td><td>1</td></tr>\n",
       "\t<tr><td>kap     </td><td>binary</td><td>1</td></tr>\n",
       "</tbody>\n",
       "</table>\n"
      ],
      "text/latex": [
       "A tibble: 2 × 3\n",
       "\\begin{tabular}{lll}\n",
       " .metric & .estimator & .estimate\\\\\n",
       " <chr> & <chr> & <dbl>\\\\\n",
       "\\hline\n",
       "\t accuracy & binary & 1\\\\\n",
       "\t kap      & binary & 1\\\\\n",
       "\\end{tabular}\n"
      ],
      "text/markdown": [
       "\n",
       "A tibble: 2 × 3\n",
       "\n",
       "| .metric &lt;chr&gt; | .estimator &lt;chr&gt; | .estimate &lt;dbl&gt; |\n",
       "|---|---|---|\n",
       "| accuracy | binary | 1 |\n",
       "| kap      | binary | 1 |\n",
       "\n"
      ],
      "text/plain": [
       "  .metric  .estimator .estimate\n",
       "1 accuracy binary     1        \n",
       "2 kap      binary     1        "
      ]
     },
     "metadata": {},
     "output_type": "display_data"
    }
   ],
   "source": [
    "set.seed(1)\n",
    "Sidi_knn_spec_FFMC <- nearest_neighbor(weight_func=\"rectangular\", neighbors=3) %>%\n",
    "    set_engine(\"kknn\") %>%\n",
    "    set_mode(\"classification\")\n",
    "\n",
    "Sidi_FFMC_Fit_C <- workflow() %>%\n",
    "    add_recipe(Sidi_FFMC_recipe_scaled) %>%\n",
    "    add_model(Sidi_knn_spec_FFMC) %>%\n",
    "    fit(data=Sidi_Bel_Abbes_train)\n",
    "\n",
    "\n",
    "Sidi_FFMC_prediction <- predict(Sidi_FFMC_Fit_C, Sidi_Bel_Abbes_test) %>%\n",
    "    bind_cols(Sidi_Bel_Abbes_test)\n",
    "\n",
    "Sidi_FFMC_prediction_accuracy <- Sidi_FFMC_prediction %>%\n",
    "    metrics(truth=Classes, estimate= .pred_class)\n",
    "Sidi_FFMC_prediction_accuracy"
   ]
  },
  {
   "cell_type": "code",
   "execution_count": null,
   "metadata": {},
   "outputs": [],
   "source": []
  },
  {
   "cell_type": "code",
   "execution_count": null,
   "metadata": {},
   "outputs": [],
   "source": []
  },
  {
   "cell_type": "markdown",
   "metadata": {},
   "source": [
    "Cell below contains the recipe for DMC for the Bejaia dataset "
   ]
  },
  {
   "cell_type": "code",
   "execution_count": 387,
   "metadata": {},
   "outputs": [],
   "source": [
    "set.seed(1)\n",
    "Bej_DMC_recipe_scaled <- recipe(Class ~ DMC + RH, data=Bejaia_train) %>%\n",
    "    step_scale(all_predictors()) %>%\n",
    "    step_center(all_predictors())"
   ]
  },
  {
   "cell_type": "markdown",
   "metadata": {},
   "source": [
    "Finds the optimal K value for DMC on the Bejaia dataset"
   ]
  },
  {
   "cell_type": "code",
   "execution_count": 388,
   "metadata": {},
   "outputs": [
    {
     "data": {
      "image/png": "[encoded data removed]",
      "text/plain": [
       "plot without title"
      ]
     },
     "metadata": {
      "image/png": {
       "height": 420,
       "width": 420
      }
     },
     "output_type": "display_data"
    }
   ],
   "source": [
    "knn_results_tune_Bej_DMC <- workflow() %>%\n",
    "  add_recipe(Bej_DMC_recipe_scaled) %>%\n",
    "  add_model(knn_spec_tune) %>%\n",
    "  tune_grid(resamples =Bej_vfold_C , grid = k_vals) %>%\n",
    "  collect_metrics()\n",
    "#knn_results_tune\n",
    "\n",
    "accuracies_bej_DMC <- knn_results_tune_Bej_DMC %>%\n",
    "  filter(.metric == \"accuracy\")\n",
    "\n",
    "accuracy_vs_k_Bej_DMC <- ggplot(accuracies_bej_DMC, aes(x = neighbors, y = mean)) +\n",
    "  geom_point() +\n",
    "  geom_line() +\n",
    "  labs(x = \"Neighbors\", y = \"Accuracy Estimate\")+\n",
    "  scale_x_continuous()\n",
    "accuracy_vs_k_Bej_DMC"
   ]
  },
  {
   "cell_type": "markdown",
   "metadata": {},
   "source": [
    "Using the optimal K value the accuracy is measured for DMC on the Bejaia test data"
   ]
  },
  {
   "cell_type": "code",
   "execution_count": 389,
   "metadata": {},
   "outputs": [
    {
     "data": {
      "text/html": [
       "<table>\n",
       "<caption>A tibble: 2 × 3</caption>\n",
       "<thead>\n",
       "\t<tr><th scope=col>.metric</th><th scope=col>.estimator</th><th scope=col>.estimate</th></tr>\n",
       "\t<tr><th scope=col>&lt;chr&gt;</th><th scope=col>&lt;chr&gt;</th><th scope=col>&lt;dbl&gt;</th></tr>\n",
       "</thead>\n",
       "<tbody>\n",
       "\t<tr><td>accuracy</td><td>binary</td><td>0.9310345</td></tr>\n",
       "\t<tr><td>kap     </td><td>binary</td><td>0.8625592</td></tr>\n",
       "</tbody>\n",
       "</table>\n"
      ],
      "text/latex": [
       "A tibble: 2 × 3\n",
       "\\begin{tabular}{lll}\n",
       " .metric & .estimator & .estimate\\\\\n",
       " <chr> & <chr> & <dbl>\\\\\n",
       "\\hline\n",
       "\t accuracy & binary & 0.9310345\\\\\n",
       "\t kap      & binary & 0.8625592\\\\\n",
       "\\end{tabular}\n"
      ],
      "text/markdown": [
       "\n",
       "A tibble: 2 × 3\n",
       "\n",
       "| .metric &lt;chr&gt; | .estimator &lt;chr&gt; | .estimate &lt;dbl&gt; |\n",
       "|---|---|---|\n",
       "| accuracy | binary | 0.9310345 |\n",
       "| kap      | binary | 0.8625592 |\n",
       "\n"
      ],
      "text/plain": [
       "  .metric  .estimator .estimate\n",
       "1 accuracy binary     0.9310345\n",
       "2 kap      binary     0.8625592"
      ]
     },
     "metadata": {},
     "output_type": "display_data"
    }
   ],
   "source": [
    "Bej_knn_spec_DMC <- nearest_neighbor(weight_func=\"rectangular\", neighbors=7) %>%\n",
    "    set_engine(\"kknn\") %>%\n",
    "    set_mode(\"classification\")\n",
    "\n",
    "Bej_DMC_Fit_C <- workflow() %>%\n",
    "    add_recipe(Bej_FFMC_recipe_scaled) %>%\n",
    "    add_model(Bej_knn_spec_DMC) %>%\n",
    "    fit(data=Bejaia_train)\n",
    "\n",
    "\n",
    "Bej_DMC_prediction <- predict(Bej_DMC_Fit_C, Bejaia_test) %>%\n",
    "    bind_cols(Bejaia_test)\n",
    "\n",
    "Bej_DMC_prediction_accuracy <- Bej_DMC_prediction %>%\n",
    "    metrics(truth=Class, estimate= .pred_class)\n",
    "Bej_FFMC_prediction_accuracy"
   ]
  },
  {
   "cell_type": "markdown",
   "metadata": {},
   "source": [
    "The cell below contains the recipe for DMC on the Sidi Bel Abbes data set"
   ]
  },
  {
   "cell_type": "code",
   "execution_count": 352,
   "metadata": {},
   "outputs": [],
   "source": [
    "Sidi_DMC_recipe_scaled <- recipe(Classes ~ DMC + RH, data=Sidi_Bel_Abbes_train) %>%\n",
    "    step_scale(all_predictors()) %>%\n",
    "    step_center(all_predictors())"
   ]
  },
  {
   "cell_type": "markdown",
   "metadata": {},
   "source": [
    "The cell below find the optimal k to use for DMC on the Sidi Bel Abbes dataset"
   ]
  },
  {
   "cell_type": "code",
   "execution_count": 353,
   "metadata": {},
   "outputs": [
    {
     "data": {
      "image/png": "[encoded data removed]",
      "text/plain": [
       "plot without title"
      ]
     },
     "metadata": {
      "image/png": {
       "height": 420,
       "width": 420
      }
     },
     "output_type": "display_data"
    }
   ],
   "source": [
    "knn_results_tune_Sidi_DMC <- workflow() %>%\n",
    "  add_recipe(Sidi_DMC_recipe_scaled) %>%\n",
    "  add_model(knn_spec_tune) %>%\n",
    "  tune_grid(resamples =Sidi_vfold_C , grid = k_vals) %>%\n",
    "  collect_metrics()\n",
    "\n",
    "accuracies_Sidi_DMC <- knn_results_tune_Sidi_DMC %>%\n",
    "  filter(.metric == \"accuracy\")\n",
    "\n",
    "accuracy_vs_k_Sidi_DMC <- ggplot(accuracies_Sidi_DMC, aes(x = neighbors, y = mean)) +\n",
    "  geom_point() +\n",
    "  geom_line() +\n",
    "  labs(x = \"Neighbors\", y = \"Accuracy Estimate\")+\n",
    "  scale_x_continuous()\n",
    "\n",
    "accuracy_vs_k_Sidi_FFMC"
   ]
  },
  {
   "cell_type": "markdown",
   "metadata": {},
   "source": [
    "Using the optimal K value find the accuracy of DMC on the Sidi Bel Abbes dataset"
   ]
  },
  {
   "cell_type": "code",
   "execution_count": 356,
   "metadata": {},
   "outputs": [
    {
     "data": {
      "text/html": [
       "<table>\n",
       "<caption>A tibble: 2 × 3</caption>\n",
       "<thead>\n",
       "\t<tr><th scope=col>.metric</th><th scope=col>.estimator</th><th scope=col>.estimate</th></tr>\n",
       "\t<tr><th scope=col>&lt;chr&gt;</th><th scope=col>&lt;chr&gt;</th><th scope=col>&lt;dbl&gt;</th></tr>\n",
       "</thead>\n",
       "<tbody>\n",
       "\t<tr><td>accuracy</td><td>binary</td><td>1</td></tr>\n",
       "\t<tr><td>kap     </td><td>binary</td><td>1</td></tr>\n",
       "</tbody>\n",
       "</table>\n"
      ],
      "text/latex": [
       "A tibble: 2 × 3\n",
       "\\begin{tabular}{lll}\n",
       " .metric & .estimator & .estimate\\\\\n",
       " <chr> & <chr> & <dbl>\\\\\n",
       "\\hline\n",
       "\t accuracy & binary & 1\\\\\n",
       "\t kap      & binary & 1\\\\\n",
       "\\end{tabular}\n"
      ],
      "text/markdown": [
       "\n",
       "A tibble: 2 × 3\n",
       "\n",
       "| .metric &lt;chr&gt; | .estimator &lt;chr&gt; | .estimate &lt;dbl&gt; |\n",
       "|---|---|---|\n",
       "| accuracy | binary | 1 |\n",
       "| kap      | binary | 1 |\n",
       "\n"
      ],
      "text/plain": [
       "  .metric  .estimator .estimate\n",
       "1 accuracy binary     1        \n",
       "2 kap      binary     1        "
      ]
     },
     "metadata": {},
     "output_type": "display_data"
    }
   ],
   "source": [
    "Sidi_knn_spec_DMC <- nearest_neighbor(weight_func=\"rectangular\", neighbors=4) %>%\n",
    "    set_engine(\"kknn\") %>%\n",
    "    set_mode(\"classification\")\n",
    "\n",
    "Sidi_DMC_Fit_C <- workflow() %>%\n",
    "    add_recipe(Sidi_DMC_recipe_scaled) %>%\n",
    "    add_model(Sidi_knn_spec_DMC) %>%\n",
    "    fit(data=Sidi_Bel_Abbes_train)\n",
    "\n",
    "\n",
    "Sidi_DMC_prediction <- predict(Sidi_DMC_Fit_C, Sidi_Bel_Abbes_test) %>%\n",
    "    bind_cols(Sidi_Bel_Abbes_test)\n",
    "\n",
    "Sidi_DMC_prediction_accuracy <- Sidi_DMC_prediction %>%\n",
    "    metrics(truth=Classes, estimate= .pred_class)\n",
    "Sidi_FFMC_prediction_accuracy\n",
    "\n"
   ]
  },
  {
   "cell_type": "markdown",
   "metadata": {},
   "source": [
    "EEEERRRRRRRRRRRRRRRRRRRRRRRRRRRRRRRRRRRRRRRRRRRRRRRRRRR"
   ]
  },
  {
   "cell_type": "code",
   "execution_count": null,
   "metadata": {},
   "outputs": [],
   "source": []
  },
  {
   "cell_type": "code",
   "execution_count": null,
   "metadata": {},
   "outputs": [],
   "source": []
  },
  {
   "cell_type": "code",
   "execution_count": null,
   "metadata": {},
   "outputs": [],
   "source": []
  },
  {
   "cell_type": "markdown",
   "metadata": {},
   "source": [
    "Bhavana Stuff"
   ]
  },
  {
   "cell_type": "code",
   "execution_count": 357,
   "metadata": {},
   "outputs": [
    {
     "data": {
      "text/html": [
       "<table>\n",
       "<caption>A tibble: 2 × 3</caption>\n",
       "<thead>\n",
       "\t<tr><th scope=col>.metric</th><th scope=col>.estimator</th><th scope=col>.estimate</th></tr>\n",
       "\t<tr><th scope=col>&lt;chr&gt;</th><th scope=col>&lt;chr&gt;</th><th scope=col>&lt;dbl&gt;</th></tr>\n",
       "</thead>\n",
       "<tbody>\n",
       "\t<tr><td>accuracy</td><td>binary</td><td>0.5862069</td></tr>\n",
       "\t<tr><td>kap     </td><td>binary</td><td>0.1792453</td></tr>\n",
       "</tbody>\n",
       "</table>\n"
      ],
      "text/latex": [
       "A tibble: 2 × 3\n",
       "\\begin{tabular}{lll}\n",
       " .metric & .estimator & .estimate\\\\\n",
       " <chr> & <chr> & <dbl>\\\\\n",
       "\\hline\n",
       "\t accuracy & binary & 0.5862069\\\\\n",
       "\t kap      & binary & 0.1792453\\\\\n",
       "\\end{tabular}\n"
      ],
      "text/markdown": [
       "\n",
       "A tibble: 2 × 3\n",
       "\n",
       "| .metric &lt;chr&gt; | .estimator &lt;chr&gt; | .estimate &lt;dbl&gt; |\n",
       "|---|---|---|\n",
       "| accuracy | binary | 0.5862069 |\n",
       "| kap      | binary | 0.1792453 |\n",
       "\n"
      ],
      "text/plain": [
       "  .metric  .estimator .estimate\n",
       "1 accuracy binary     0.5862069\n",
       "2 kap      binary     0.1792453"
      ]
     },
     "metadata": {},
     "output_type": "display_data"
    },
    {
     "data": {
      "image/png": "[encoded data removed]",
      "text/plain": [
       "plot without title"
      ]
     },
     "metadata": {
      "image/png": {
       "height": 420,
       "width": 420
      }
     },
     "output_type": "display_data"
    }
   ],
   "source": [
    "Bej_Rain_recipe_scaled <- recipe(Class ~ Rain + RH, data=Bejaia_train) %>%\n",
    "    step_scale(all_predictors()) %>%\n",
    "    step_center(all_predictors())\n",
    "\n",
    "Bej_knn_spec_rain <- nearest_neighbor(weight_func=\"rectangular\", neighbors=5) %>%\n",
    "    set_engine(\"kknn\") %>%\n",
    "    set_mode(\"classification\")\n",
    "\n",
    "Bej_Rain_Fit <- workflow() %>%\n",
    "    add_recipe(Bej_Rain_recipe_scaled) %>%\n",
    "    add_model(Bej_knn_spec_rain) %>%\n",
    "    fit(data=Bejaia_train)\n",
    "\n",
    "Bej_vfold_Rain_C <- vfold_cv(Bejaia_train, v =5 , strata =Class)\n",
    "\n",
    "knn_spec_tune_Bej_rain <- nearest_neighbor(weight_func = \"rectangular\", neighbors = tune()) %>%\n",
    "  set_engine(\"kknn\") %>%\n",
    "  set_mode(\"classification\")\n",
    "\n",
    "k_vals_Bej_rain <- tibble(neighbors = seq(from = 1, to = 15, by = 1))\n",
    "\n",
    "knn_results_tune <- workflow() %>%\n",
    "  add_recipe(Bej_Rain_recipe_scaled) %>%\n",
    "  add_model(knn_spec_tune_Bej_rain) %>%\n",
    "  tune_grid(resamples =Bej_vfold_Rain_C , grid = k_vals_Bej_rain) %>%\n",
    "  collect_metrics()\n",
    "#knn_results_tune\n",
    "\n",
    "accuracies_bej_Rain <- knn_results_tune %>%\n",
    "  filter(.metric == \"accuracy\")\n",
    "\n",
    "accuracy_vs_k <- ggplot(accuracies_bej_Rain, aes(x = neighbors, y = mean)) +\n",
    "  geom_point() +\n",
    "  geom_line() +\n",
    "  labs(x = \"Neighbors\", y = \"Accuracy Estimate\")+\n",
    "  scale_x_continuous()\n",
    "accuracy_vs_k\n",
    "\n",
    "Bej_Rain_prediction <- predict(Bej_Rain_Fit, Bejaia_test) %>%\n",
    "    bind_cols(Bejaia_test)\n",
    "\n",
    "Bej_Rain_prediction_accuracy <- Bej_Rain_prediction %>%\n",
    "    metrics(truth=Class, estimate= .pred_class)\n",
    "Bej_Rain_prediction_accuracy\n"
   ]
  },
  {
   "cell_type": "markdown",
   "metadata": {},
   "source": [
    "EEEEEEEEEEEEEEEERRRRRRRRRRRRRRRRRRRRRRR"
   ]
  },
  {
   "cell_type": "code",
   "execution_count": null,
   "metadata": {},
   "outputs": [],
   "source": []
  },
  {
   "cell_type": "code",
   "execution_count": null,
   "metadata": {},
   "outputs": [],
   "source": []
  },
  {
   "cell_type": "code",
   "execution_count": null,
   "metadata": {},
   "outputs": [],
   "source": []
  },
  {
   "cell_type": "code",
   "execution_count": 359,
   "metadata": {},
   "outputs": [
    {
     "data": {
      "text/html": [
       "<table>\n",
       "<caption>A tibble: 2 × 3</caption>\n",
       "<thead>\n",
       "\t<tr><th scope=col>.metric</th><th scope=col>.estimator</th><th scope=col>.estimate</th></tr>\n",
       "\t<tr><th scope=col>&lt;chr&gt;</th><th scope=col>&lt;chr&gt;</th><th scope=col>&lt;dbl&gt;</th></tr>\n",
       "</thead>\n",
       "<tbody>\n",
       "\t<tr><td>accuracy</td><td>binary</td><td>0.8620690</td></tr>\n",
       "\t<tr><td>kap     </td><td>binary</td><td>0.7238095</td></tr>\n",
       "</tbody>\n",
       "</table>\n"
      ],
      "text/latex": [
       "A tibble: 2 × 3\n",
       "\\begin{tabular}{lll}\n",
       " .metric & .estimator & .estimate\\\\\n",
       " <chr> & <chr> & <dbl>\\\\\n",
       "\\hline\n",
       "\t accuracy & binary & 0.8620690\\\\\n",
       "\t kap      & binary & 0.7238095\\\\\n",
       "\\end{tabular}\n"
      ],
      "text/markdown": [
       "\n",
       "A tibble: 2 × 3\n",
       "\n",
       "| .metric &lt;chr&gt; | .estimator &lt;chr&gt; | .estimate &lt;dbl&gt; |\n",
       "|---|---|---|\n",
       "| accuracy | binary | 0.8620690 |\n",
       "| kap      | binary | 0.7238095 |\n",
       "\n"
      ],
      "text/plain": [
       "  .metric  .estimator .estimate\n",
       "1 accuracy binary     0.8620690\n",
       "2 kap      binary     0.7238095"
      ]
     },
     "metadata": {},
     "output_type": "display_data"
    },
    {
     "data": {
      "image/png": "[encoded data removed]",
      "text/plain": [
       "plot without title"
      ]
     },
     "metadata": {
      "image/png": {
       "height": 420,
       "width": 420
      }
     },
     "output_type": "display_data"
    }
   ],
   "source": [
    "Bej_FWI_recipe_scaled <- recipe(Class ~ FWI + RH, data=Bejaia_train) %>%\n",
    "    step_scale(all_predictors()) %>%\n",
    "    step_center(all_predictors())\n",
    "\n",
    "Bej_knn_spec_C <- nearest_neighbor(weight_func=\"rectangular\", neighbors=3) %>%\n",
    "    set_engine(\"kknn\") %>%\n",
    "    set_mode(\"classification\")\n",
    "\n",
    "Bej_FWI_Fit_C <- workflow() %>%\n",
    "    add_recipe(Bej_FWI_recipe_scaled) %>%\n",
    "    add_model(Bej_knn_spec_C) %>%\n",
    "    fit(data=Bejaia_train)\n",
    "\n",
    "Bej_vfold_FWI_C <- vfold_cv(Bejaia_train, v =5 , strata =Class)\n",
    "\n",
    "knn_spec_tune <- nearest_neighbor(weight_func = \"rectangular\", neighbors = tune()) %>%\n",
    "  set_engine(\"kknn\") %>%\n",
    "  set_mode(\"classification\")\n",
    "\n",
    "k_vals <- tibble(neighbors = seq(from = 1, to = 15, by = 1))\n",
    "\n",
    "knn_results_tune <- workflow() %>%\n",
    "  add_recipe(Bej_FWI_recipe_scaled) %>%\n",
    "  add_model(knn_spec_tune) %>%\n",
    "  tune_grid(resamples =Bej_vfold_FWI_C , grid = k_vals) %>%\n",
    "  collect_metrics()\n",
    "#knn_results_tune\n",
    "\n",
    "accuracies_bej_FWI <- knn_results_tune %>%\n",
    "  filter(.metric == \"accuracy\")\n",
    "\n",
    "accuracy_vs_k <- ggplot(accuracies_bej_FWI, aes(x = neighbors, y = mean)) +\n",
    "  geom_point() +\n",
    "  geom_line() +\n",
    "  labs(x = \"Neighbors\", y = \"Accuracy Estimate\")+\n",
    "  scale_x_continuous()\n",
    "accuracy_vs_k\n",
    "\n",
    "Bej_FWI_prediction <- predict(Bej_FWI_Fit_C, Bejaia_test) %>%\n",
    "    bind_cols(Bejaia_test)\n",
    "Bej_FWI_prediction_accuracy <- Bej_FWI_prediction %>%\n",
    "    metrics(truth=Class, estimate= .pred_class)\n",
    "Bej_FWI_prediction_accuracy\n"
   ]
  },
  {
   "cell_type": "code",
   "execution_count": 360,
   "metadata": {},
   "outputs": [
    {
     "data": {
      "text/html": [
       "<table>\n",
       "<caption>A tibble: 30 × 7</caption>\n",
       "<thead>\n",
       "\t<tr><th scope=col>neighbors</th><th scope=col>.metric</th><th scope=col>.estimator</th><th scope=col>mean</th><th scope=col>n</th><th scope=col>std_err</th><th scope=col>.config</th></tr>\n",
       "\t<tr><th scope=col>&lt;dbl&gt;</th><th scope=col>&lt;chr&gt;</th><th scope=col>&lt;chr&gt;</th><th scope=col>&lt;dbl&gt;</th><th scope=col>&lt;int&gt;</th><th scope=col>&lt;dbl&gt;</th><th scope=col>&lt;chr&gt;</th></tr>\n",
       "</thead>\n",
       "<tbody>\n",
       "\t<tr><td> 1</td><td>accuracy</td><td>binary</td><td>0.8368421</td><td>5</td><td>0.04720570</td><td>Model01</td></tr>\n",
       "\t<tr><td> 1</td><td>roc_auc </td><td>binary</td><td>0.8377778</td><td>5</td><td>0.04692389</td><td>Model01</td></tr>\n",
       "\t<tr><td> 2</td><td>accuracy</td><td>binary</td><td>0.8368421</td><td>5</td><td>0.04720570</td><td>Model02</td></tr>\n",
       "\t<tr><td> 2</td><td>roc_auc </td><td>binary</td><td>0.8618519</td><td>5</td><td>0.02219168</td><td>Model02</td></tr>\n",
       "\t<tr><td> 3</td><td>accuracy</td><td>binary</td><td>0.8473684</td><td>5</td><td>0.04182820</td><td>Model03</td></tr>\n",
       "\t<tr><td> 3</td><td>roc_auc </td><td>binary</td><td>0.8904938</td><td>5</td><td>0.02426609</td><td>Model03</td></tr>\n",
       "\t<tr><td> 4</td><td>accuracy</td><td>binary</td><td>0.8473684</td><td>5</td><td>0.04182820</td><td>Model04</td></tr>\n",
       "\t<tr><td> 4</td><td>roc_auc </td><td>binary</td><td>0.9082716</td><td>5</td><td>0.02835854</td><td>Model04</td></tr>\n",
       "\t<tr><td> 5</td><td>accuracy</td><td>binary</td><td>0.8690058</td><td>5</td><td>0.04190988</td><td>Model05</td></tr>\n",
       "\t<tr><td> 5</td><td>roc_auc </td><td>binary</td><td>0.9243210</td><td>5</td><td>0.02912220</td><td>Model05</td></tr>\n",
       "\t<tr><td> 6</td><td>accuracy</td><td>binary</td><td>0.8690058</td><td>5</td><td>0.04190988</td><td>Model06</td></tr>\n",
       "\t<tr><td> 6</td><td>roc_auc </td><td>binary</td><td>0.9241975</td><td>5</td><td>0.03193178</td><td>Model06</td></tr>\n",
       "\t<tr><td> 7</td><td>accuracy</td><td>binary</td><td>0.8912281</td><td>5</td><td>0.02551410</td><td>Model07</td></tr>\n",
       "\t<tr><td> 7</td><td>roc_auc </td><td>binary</td><td>0.9243210</td><td>5</td><td>0.03347967</td><td>Model07</td></tr>\n",
       "\t<tr><td> 8</td><td>accuracy</td><td>binary</td><td>0.8912281</td><td>5</td><td>0.02551410</td><td>Model08</td></tr>\n",
       "\t<tr><td> 8</td><td>roc_auc </td><td>binary</td><td>0.9232099</td><td>5</td><td>0.03286224</td><td>Model08</td></tr>\n",
       "\t<tr><td> 9</td><td>accuracy</td><td>binary</td><td>0.8807018</td><td>5</td><td>0.03645485</td><td>Model09</td></tr>\n",
       "\t<tr><td> 9</td><td>roc_auc </td><td>binary</td><td>0.9350617</td><td>5</td><td>0.02671235</td><td>Model09</td></tr>\n",
       "\t<tr><td>10</td><td>accuracy</td><td>binary</td><td>0.8807018</td><td>5</td><td>0.03645485</td><td>Model10</td></tr>\n",
       "\t<tr><td>10</td><td>roc_auc </td><td>binary</td><td>0.9350617</td><td>5</td><td>0.02713060</td><td>Model10</td></tr>\n",
       "\t<tr><td>11</td><td>accuracy</td><td>binary</td><td>0.8578947</td><td>5</td><td>0.04885404</td><td>Model11</td></tr>\n",
       "\t<tr><td>11</td><td>roc_auc </td><td>binary</td><td>0.9309877</td><td>5</td><td>0.03062152</td><td>Model11</td></tr>\n",
       "\t<tr><td>12</td><td>accuracy</td><td>binary</td><td>0.8578947</td><td>5</td><td>0.04885404</td><td>Model12</td></tr>\n",
       "\t<tr><td>12</td><td>roc_auc </td><td>binary</td><td>0.9409877</td><td>5</td><td>0.02409907</td><td>Model12</td></tr>\n",
       "\t<tr><td>13</td><td>accuracy</td><td>binary</td><td>0.8584795</td><td>5</td><td>0.04517142</td><td>Model13</td></tr>\n",
       "\t<tr><td>13</td><td>roc_auc </td><td>binary</td><td>0.9518519</td><td>5</td><td>0.02386264</td><td>Model13</td></tr>\n",
       "\t<tr><td>14</td><td>accuracy</td><td>binary</td><td>0.8584795</td><td>5</td><td>0.04517142</td><td>Model14</td></tr>\n",
       "\t<tr><td>14</td><td>roc_auc </td><td>binary</td><td>0.9493827</td><td>5</td><td>0.02402179</td><td>Model14</td></tr>\n",
       "\t<tr><td>15</td><td>accuracy</td><td>binary</td><td>0.8590643</td><td>5</td><td>0.03722074</td><td>Model15</td></tr>\n",
       "\t<tr><td>15</td><td>roc_auc </td><td>binary</td><td>0.9434568</td><td>5</td><td>0.02443587</td><td>Model15</td></tr>\n",
       "</tbody>\n",
       "</table>\n"
      ],
      "text/latex": [
       "A tibble: 30 × 7\n",
       "\\begin{tabular}{lllllll}\n",
       " neighbors & .metric & .estimator & mean & n & std\\_err & .config\\\\\n",
       " <dbl> & <chr> & <chr> & <dbl> & <int> & <dbl> & <chr>\\\\\n",
       "\\hline\n",
       "\t  1 & accuracy & binary & 0.8368421 & 5 & 0.04720570 & Model01\\\\\n",
       "\t  1 & roc\\_auc  & binary & 0.8377778 & 5 & 0.04692389 & Model01\\\\\n",
       "\t  2 & accuracy & binary & 0.8368421 & 5 & 0.04720570 & Model02\\\\\n",
       "\t  2 & roc\\_auc  & binary & 0.8618519 & 5 & 0.02219168 & Model02\\\\\n",
       "\t  3 & accuracy & binary & 0.8473684 & 5 & 0.04182820 & Model03\\\\\n",
       "\t  3 & roc\\_auc  & binary & 0.8904938 & 5 & 0.02426609 & Model03\\\\\n",
       "\t  4 & accuracy & binary & 0.8473684 & 5 & 0.04182820 & Model04\\\\\n",
       "\t  4 & roc\\_auc  & binary & 0.9082716 & 5 & 0.02835854 & Model04\\\\\n",
       "\t  5 & accuracy & binary & 0.8690058 & 5 & 0.04190988 & Model05\\\\\n",
       "\t  5 & roc\\_auc  & binary & 0.9243210 & 5 & 0.02912220 & Model05\\\\\n",
       "\t  6 & accuracy & binary & 0.8690058 & 5 & 0.04190988 & Model06\\\\\n",
       "\t  6 & roc\\_auc  & binary & 0.9241975 & 5 & 0.03193178 & Model06\\\\\n",
       "\t  7 & accuracy & binary & 0.8912281 & 5 & 0.02551410 & Model07\\\\\n",
       "\t  7 & roc\\_auc  & binary & 0.9243210 & 5 & 0.03347967 & Model07\\\\\n",
       "\t  8 & accuracy & binary & 0.8912281 & 5 & 0.02551410 & Model08\\\\\n",
       "\t  8 & roc\\_auc  & binary & 0.9232099 & 5 & 0.03286224 & Model08\\\\\n",
       "\t  9 & accuracy & binary & 0.8807018 & 5 & 0.03645485 & Model09\\\\\n",
       "\t  9 & roc\\_auc  & binary & 0.9350617 & 5 & 0.02671235 & Model09\\\\\n",
       "\t 10 & accuracy & binary & 0.8807018 & 5 & 0.03645485 & Model10\\\\\n",
       "\t 10 & roc\\_auc  & binary & 0.9350617 & 5 & 0.02713060 & Model10\\\\\n",
       "\t 11 & accuracy & binary & 0.8578947 & 5 & 0.04885404 & Model11\\\\\n",
       "\t 11 & roc\\_auc  & binary & 0.9309877 & 5 & 0.03062152 & Model11\\\\\n",
       "\t 12 & accuracy & binary & 0.8578947 & 5 & 0.04885404 & Model12\\\\\n",
       "\t 12 & roc\\_auc  & binary & 0.9409877 & 5 & 0.02409907 & Model12\\\\\n",
       "\t 13 & accuracy & binary & 0.8584795 & 5 & 0.04517142 & Model13\\\\\n",
       "\t 13 & roc\\_auc  & binary & 0.9518519 & 5 & 0.02386264 & Model13\\\\\n",
       "\t 14 & accuracy & binary & 0.8584795 & 5 & 0.04517142 & Model14\\\\\n",
       "\t 14 & roc\\_auc  & binary & 0.9493827 & 5 & 0.02402179 & Model14\\\\\n",
       "\t 15 & accuracy & binary & 0.8590643 & 5 & 0.03722074 & Model15\\\\\n",
       "\t 15 & roc\\_auc  & binary & 0.9434568 & 5 & 0.02443587 & Model15\\\\\n",
       "\\end{tabular}\n"
      ],
      "text/markdown": [
       "\n",
       "A tibble: 30 × 7\n",
       "\n",
       "| neighbors &lt;dbl&gt; | .metric &lt;chr&gt; | .estimator &lt;chr&gt; | mean &lt;dbl&gt; | n &lt;int&gt; | std_err &lt;dbl&gt; | .config &lt;chr&gt; |\n",
       "|---|---|---|---|---|---|---|\n",
       "|  1 | accuracy | binary | 0.8368421 | 5 | 0.04720570 | Model01 |\n",
       "|  1 | roc_auc  | binary | 0.8377778 | 5 | 0.04692389 | Model01 |\n",
       "|  2 | accuracy | binary | 0.8368421 | 5 | 0.04720570 | Model02 |\n",
       "|  2 | roc_auc  | binary | 0.8618519 | 5 | 0.02219168 | Model02 |\n",
       "|  3 | accuracy | binary | 0.8473684 | 5 | 0.04182820 | Model03 |\n",
       "|  3 | roc_auc  | binary | 0.8904938 | 5 | 0.02426609 | Model03 |\n",
       "|  4 | accuracy | binary | 0.8473684 | 5 | 0.04182820 | Model04 |\n",
       "|  4 | roc_auc  | binary | 0.9082716 | 5 | 0.02835854 | Model04 |\n",
       "|  5 | accuracy | binary | 0.8690058 | 5 | 0.04190988 | Model05 |\n",
       "|  5 | roc_auc  | binary | 0.9243210 | 5 | 0.02912220 | Model05 |\n",
       "|  6 | accuracy | binary | 0.8690058 | 5 | 0.04190988 | Model06 |\n",
       "|  6 | roc_auc  | binary | 0.9241975 | 5 | 0.03193178 | Model06 |\n",
       "|  7 | accuracy | binary | 0.8912281 | 5 | 0.02551410 | Model07 |\n",
       "|  7 | roc_auc  | binary | 0.9243210 | 5 | 0.03347967 | Model07 |\n",
       "|  8 | accuracy | binary | 0.8912281 | 5 | 0.02551410 | Model08 |\n",
       "|  8 | roc_auc  | binary | 0.9232099 | 5 | 0.03286224 | Model08 |\n",
       "|  9 | accuracy | binary | 0.8807018 | 5 | 0.03645485 | Model09 |\n",
       "|  9 | roc_auc  | binary | 0.9350617 | 5 | 0.02671235 | Model09 |\n",
       "| 10 | accuracy | binary | 0.8807018 | 5 | 0.03645485 | Model10 |\n",
       "| 10 | roc_auc  | binary | 0.9350617 | 5 | 0.02713060 | Model10 |\n",
       "| 11 | accuracy | binary | 0.8578947 | 5 | 0.04885404 | Model11 |\n",
       "| 11 | roc_auc  | binary | 0.9309877 | 5 | 0.03062152 | Model11 |\n",
       "| 12 | accuracy | binary | 0.8578947 | 5 | 0.04885404 | Model12 |\n",
       "| 12 | roc_auc  | binary | 0.9409877 | 5 | 0.02409907 | Model12 |\n",
       "| 13 | accuracy | binary | 0.8584795 | 5 | 0.04517142 | Model13 |\n",
       "| 13 | roc_auc  | binary | 0.9518519 | 5 | 0.02386264 | Model13 |\n",
       "| 14 | accuracy | binary | 0.8584795 | 5 | 0.04517142 | Model14 |\n",
       "| 14 | roc_auc  | binary | 0.9493827 | 5 | 0.02402179 | Model14 |\n",
       "| 15 | accuracy | binary | 0.8590643 | 5 | 0.03722074 | Model15 |\n",
       "| 15 | roc_auc  | binary | 0.9434568 | 5 | 0.02443587 | Model15 |\n",
       "\n"
      ],
      "text/plain": [
       "   neighbors .metric  .estimator mean      n std_err    .config\n",
       "1   1        accuracy binary     0.8368421 5 0.04720570 Model01\n",
       "2   1        roc_auc  binary     0.8377778 5 0.04692389 Model01\n",
       "3   2        accuracy binary     0.8368421 5 0.04720570 Model02\n",
       "4   2        roc_auc  binary     0.8618519 5 0.02219168 Model02\n",
       "5   3        accuracy binary     0.8473684 5 0.04182820 Model03\n",
       "6   3        roc_auc  binary     0.8904938 5 0.02426609 Model03\n",
       "7   4        accuracy binary     0.8473684 5 0.04182820 Model04\n",
       "8   4        roc_auc  binary     0.9082716 5 0.02835854 Model04\n",
       "9   5        accuracy binary     0.8690058 5 0.04190988 Model05\n",
       "10  5        roc_auc  binary     0.9243210 5 0.02912220 Model05\n",
       "11  6        accuracy binary     0.8690058 5 0.04190988 Model06\n",
       "12  6        roc_auc  binary     0.9241975 5 0.03193178 Model06\n",
       "13  7        accuracy binary     0.8912281 5 0.02551410 Model07\n",
       "14  7        roc_auc  binary     0.9243210 5 0.03347967 Model07\n",
       "15  8        accuracy binary     0.8912281 5 0.02551410 Model08\n",
       "16  8        roc_auc  binary     0.9232099 5 0.03286224 Model08\n",
       "17  9        accuracy binary     0.8807018 5 0.03645485 Model09\n",
       "18  9        roc_auc  binary     0.9350617 5 0.02671235 Model09\n",
       "19 10        accuracy binary     0.8807018 5 0.03645485 Model10\n",
       "20 10        roc_auc  binary     0.9350617 5 0.02713060 Model10\n",
       "21 11        accuracy binary     0.8578947 5 0.04885404 Model11\n",
       "22 11        roc_auc  binary     0.9309877 5 0.03062152 Model11\n",
       "23 12        accuracy binary     0.8578947 5 0.04885404 Model12\n",
       "24 12        roc_auc  binary     0.9409877 5 0.02409907 Model12\n",
       "25 13        accuracy binary     0.8584795 5 0.04517142 Model13\n",
       "26 13        roc_auc  binary     0.9518519 5 0.02386264 Model13\n",
       "27 14        accuracy binary     0.8584795 5 0.04517142 Model14\n",
       "28 14        roc_auc  binary     0.9493827 5 0.02402179 Model14\n",
       "29 15        accuracy binary     0.8590643 5 0.03722074 Model15\n",
       "30 15        roc_auc  binary     0.9434568 5 0.02443587 Model15"
      ]
     },
     "metadata": {},
     "output_type": "display_data"
    },
    {
     "data": {
      "text/html": [
       "<table>\n",
       "<caption>A tibble: 2 × 3</caption>\n",
       "<thead>\n",
       "\t<tr><th scope=col>.metric</th><th scope=col>.estimator</th><th scope=col>.estimate</th></tr>\n",
       "\t<tr><th scope=col>&lt;chr&gt;</th><th scope=col>&lt;chr&gt;</th><th scope=col>&lt;dbl&gt;</th></tr>\n",
       "</thead>\n",
       "<tbody>\n",
       "\t<tr><td>accuracy</td><td>binary</td><td>0.7586207</td></tr>\n",
       "\t<tr><td>kap     </td><td>binary</td><td>0.5155131</td></tr>\n",
       "</tbody>\n",
       "</table>\n"
      ],
      "text/latex": [
       "A tibble: 2 × 3\n",
       "\\begin{tabular}{lll}\n",
       " .metric & .estimator & .estimate\\\\\n",
       " <chr> & <chr> & <dbl>\\\\\n",
       "\\hline\n",
       "\t accuracy & binary & 0.7586207\\\\\n",
       "\t kap      & binary & 0.5155131\\\\\n",
       "\\end{tabular}\n"
      ],
      "text/markdown": [
       "\n",
       "A tibble: 2 × 3\n",
       "\n",
       "| .metric &lt;chr&gt; | .estimator &lt;chr&gt; | .estimate &lt;dbl&gt; |\n",
       "|---|---|---|\n",
       "| accuracy | binary | 0.7586207 |\n",
       "| kap      | binary | 0.5155131 |\n",
       "\n"
      ],
      "text/plain": [
       "  .metric  .estimator .estimate\n",
       "1 accuracy binary     0.7586207\n",
       "2 kap      binary     0.5155131"
      ]
     },
     "metadata": {},
     "output_type": "display_data"
    },
    {
     "data": {
      "image/png": "[encoded data removed]",
      "text/plain": [
       "plot without title"
      ]
     },
     "metadata": {
      "image/png": {
       "height": 420,
       "width": 420
      }
     },
     "output_type": "display_data"
    }
   ],
   "source": [
    "Bej_BUI_recipe_scaled <- recipe(Class ~ BUI + RH, data=Bejaia_train) %>%\n",
    "    step_scale(all_predictors()) %>%\n",
    "    step_center(all_predictors())\n",
    "\n",
    "Bej_knn_spec_C <- nearest_neighbor(weight_func=\"rectangular\", neighbors=5) %>%\n",
    "    set_engine(\"kknn\") %>%\n",
    "    set_mode(\"classification\")\n",
    "\n",
    "Bej_BUI_Fit_C <- workflow() %>%\n",
    "    add_recipe(Bej_BUI_recipe_scaled) %>%\n",
    "    add_model(Bej_knn_spec_C) %>%\n",
    "    fit(data=Bejaia_train)\n",
    "\n",
    "Bej_vfold_BUI_C <- vfold_cv(Bejaia_train, v =5 , strata =Class)\n",
    "\n",
    "knn_spec_tune <- nearest_neighbor(weight_func = \"rectangular\", neighbors = tune()) %>%\n",
    "  set_engine(\"kknn\") %>%\n",
    "  set_mode(\"classification\")\n",
    "\n",
    "k_vals <- tibble(neighbors = seq(from = 1, to = 15, by = 1))\n",
    "\n",
    "knn_results_tune <- workflow() %>%\n",
    "  add_recipe(Bej_BUI_recipe_scaled) %>%\n",
    "  add_model(knn_spec_tune) %>%\n",
    "  tune_grid(resamples =Bej_vfold_BUI_C , grid = k_vals) %>%\n",
    "  collect_metrics()\n",
    "knn_results_tune\n",
    "\n",
    "accuracies_bej_BUI <- knn_results_tune %>%\n",
    "  filter(.metric == \"accuracy\")\n",
    "\n",
    "accuracy_vs_k <- ggplot(accuracies_bej_BUI, aes(x = neighbors, y = mean)) +\n",
    "  geom_point() +\n",
    "  geom_line() +\n",
    "  labs(x = \"Neighbors\", y = \"Accuracy Estimate\")+\n",
    "  scale_x_continuous()\n",
    "accuracy_vs_k\n",
    "\n",
    "Bej_BUI_prediction <- predict(Bej_BUI_Fit_C, Bejaia_test) %>%\n",
    "    bind_cols(Bejaia_test)\n",
    "Bej_BUI_prediction_accuracy <- Bej_BUI_prediction %>%\n",
    "    metrics(truth=Class, estimate= .pred_class)\n",
    "Bej_BUI_prediction_accuracy\n"
   ]
  },
  {
   "cell_type": "code",
   "execution_count": 361,
   "metadata": {},
   "outputs": [
    {
     "data": {
      "text/html": [
       "<table>\n",
       "<caption>A tibble: 2 × 3</caption>\n",
       "<thead>\n",
       "\t<tr><th scope=col>.metric</th><th scope=col>.estimator</th><th scope=col>.estimate</th></tr>\n",
       "\t<tr><th scope=col>&lt;chr&gt;</th><th scope=col>&lt;chr&gt;</th><th scope=col>&lt;dbl&gt;</th></tr>\n",
       "</thead>\n",
       "<tbody>\n",
       "\t<tr><td>accuracy</td><td>binary</td><td>0.8965517</td></tr>\n",
       "\t<tr><td>kap     </td><td>binary</td><td>0.7763496</td></tr>\n",
       "</tbody>\n",
       "</table>\n"
      ],
      "text/latex": [
       "A tibble: 2 × 3\n",
       "\\begin{tabular}{lll}\n",
       " .metric & .estimator & .estimate\\\\\n",
       " <chr> & <chr> & <dbl>\\\\\n",
       "\\hline\n",
       "\t accuracy & binary & 0.8965517\\\\\n",
       "\t kap      & binary & 0.7763496\\\\\n",
       "\\end{tabular}\n"
      ],
      "text/markdown": [
       "\n",
       "A tibble: 2 × 3\n",
       "\n",
       "| .metric &lt;chr&gt; | .estimator &lt;chr&gt; | .estimate &lt;dbl&gt; |\n",
       "|---|---|---|\n",
       "| accuracy | binary | 0.8965517 |\n",
       "| kap      | binary | 0.7763496 |\n",
       "\n"
      ],
      "text/plain": [
       "  .metric  .estimator .estimate\n",
       "1 accuracy binary     0.8965517\n",
       "2 kap      binary     0.7763496"
      ]
     },
     "metadata": {},
     "output_type": "display_data"
    }
   ],
   "source": [
    "SBA_Rain_recipe_scaled <- recipe(Classes ~ Rain + RH, data=Sidi_Bel_Abbes_train) %>%\n",
    "    step_scale(all_predictors()) %>%\n",
    "    step_center(all_predictors())\n",
    "\n",
    "SBA_knn_spec_C <- nearest_neighbor(weight_func=\"rectangular\", neighbors=5) %>%\n",
    "    set_engine(\"kknn\") %>%\n",
    "    set_mode(\"classification\")\n",
    "\n",
    "SBA_Rain_Fit_C <- workflow() %>%\n",
    "    add_recipe(SBA_Rain_recipe_scaled) %>%\n",
    "    add_model(SBA_knn_spec_C) %>%\n",
    "    fit(data=Sidi_Bel_Abbes_train)\n",
    "\n",
    "SBA_vfold_Rain_C <- vfold_cv(Sidi_Bel_Abbes_train, v =5 , strata =Classes)\n",
    "\n",
    "knn_spec_tune <- nearest_neighbor(weight_func = \"rectangular\", neighbors = tune()) %>%\n",
    "  set_engine(\"kknn\") %>%\n",
    "  set_mode(\"classification\")\n",
    "\n",
    "k_vals <- tibble(neighbors = seq(from = 1, to = 15, by = 1))\n",
    "\n",
    "knn_results_tune_SBA_Rain <- workflow() %>%\n",
    "  add_recipe(SBA_Rain_recipe_scaled) %>%\n",
    "  add_model(knn_spec_tune) %>%\n",
    "  tune_grid(resamples =SBA_vfold_Rain_C , grid = k_vals) %>%\n",
    "  collect_metrics()\n",
    "#knn_results_tune\n",
    "\n",
    "accuracies_SBA_Rain <- knn_results_tune_SBA_Rain %>%\n",
    "  filter(.metric == \"accuracy\")\n",
    "\n",
    "accuracy_vs_k <- ggplot(accuracies_SBA_Rain, aes(x = neighbors, y = mean)) +\n",
    "  geom_point() +\n",
    "  geom_line() +\n",
    "  labs(x = \"Neighbors\", y = \"Accuracy Estimate\")+\n",
    "  scale_x_continuous()\n",
    "#accuracy_vs_k\n",
    "\n",
    "SBA_Rain_prediction <- predict(SBA_Rain_Fit_C, Sidi_Bel_Abbes_test) %>%\n",
    "    bind_cols(Sidi_Bel_Abbes_test)\n",
    "SBA_Rain_prediction_accuracy <- SBA_Rain_prediction %>%\n",
    "    metrics(truth=Classes, estimate= .pred_class)\n",
    "SBA_Rain_prediction_accuracy\n",
    "\n"
   ]
  },
  {
   "cell_type": "code",
   "execution_count": 362,
   "metadata": {},
   "outputs": [
    {
     "data": {
      "text/html": [
       "<table>\n",
       "<caption>A tibble: 30 × 7</caption>\n",
       "<thead>\n",
       "\t<tr><th scope=col>neighbors</th><th scope=col>.metric</th><th scope=col>.estimator</th><th scope=col>mean</th><th scope=col>n</th><th scope=col>std_err</th><th scope=col>.config</th></tr>\n",
       "\t<tr><th scope=col>&lt;dbl&gt;</th><th scope=col>&lt;chr&gt;</th><th scope=col>&lt;chr&gt;</th><th scope=col>&lt;dbl&gt;</th><th scope=col>&lt;int&gt;</th><th scope=col>&lt;dbl&gt;</th><th scope=col>&lt;chr&gt;</th></tr>\n",
       "</thead>\n",
       "<tbody>\n",
       "\t<tr><td> 1</td><td>accuracy</td><td>binary</td><td>0.8898521</td><td>5</td><td>0.019691972</td><td>Model01</td></tr>\n",
       "\t<tr><td> 1</td><td>roc_auc </td><td>binary</td><td>0.8782468</td><td>5</td><td>0.023807679</td><td>Model01</td></tr>\n",
       "\t<tr><td> 2</td><td>accuracy</td><td>binary</td><td>0.8898521</td><td>5</td><td>0.019691972</td><td>Model02</td></tr>\n",
       "\t<tr><td> 2</td><td>roc_auc </td><td>binary</td><td>0.9462121</td><td>5</td><td>0.008458884</td><td>Model02</td></tr>\n",
       "\t<tr><td> 3</td><td>accuracy</td><td>binary</td><td>0.9337805</td><td>5</td><td>0.021038743</td><td>Model03</td></tr>\n",
       "\t<tr><td> 3</td><td>roc_auc </td><td>binary</td><td>0.9503247</td><td>5</td><td>0.014746440</td><td>Model03</td></tr>\n",
       "\t<tr><td> 4</td><td>accuracy</td><td>binary</td><td>0.9337805</td><td>5</td><td>0.021038743</td><td>Model04</td></tr>\n",
       "\t<tr><td> 4</td><td>roc_auc </td><td>binary</td><td>0.9587662</td><td>5</td><td>0.012723241</td><td>Model04</td></tr>\n",
       "\t<tr><td> 5</td><td>accuracy</td><td>binary</td><td>0.9220158</td><td>5</td><td>0.024628113</td><td>Model05</td></tr>\n",
       "\t<tr><td> 5</td><td>roc_auc </td><td>binary</td><td>0.9559885</td><td>5</td><td>0.015901891</td><td>Model05</td></tr>\n",
       "\t<tr><td> 6</td><td>accuracy</td><td>binary</td><td>0.9220158</td><td>5</td><td>0.024628113</td><td>Model06</td></tr>\n",
       "\t<tr><td> 6</td><td>roc_auc </td><td>binary</td><td>0.9667208</td><td>5</td><td>0.012210747</td><td>Model06</td></tr>\n",
       "\t<tr><td> 7</td><td>accuracy</td><td>binary</td><td>0.9220158</td><td>5</td><td>0.024628113</td><td>Model07</td></tr>\n",
       "\t<tr><td> 7</td><td>roc_auc </td><td>binary</td><td>0.9597944</td><td>5</td><td>0.014844406</td><td>Model07</td></tr>\n",
       "\t<tr><td> 8</td><td>accuracy</td><td>binary</td><td>0.9220158</td><td>5</td><td>0.024628113</td><td>Model08</td></tr>\n",
       "\t<tr><td> 8</td><td>roc_auc </td><td>binary</td><td>0.9634921</td><td>5</td><td>0.012744831</td><td>Model08</td></tr>\n",
       "\t<tr><td> 9</td><td>accuracy</td><td>binary</td><td>0.8997248</td><td>5</td><td>0.035209845</td><td>Model09</td></tr>\n",
       "\t<tr><td> 9</td><td>roc_auc </td><td>binary</td><td>0.9594517</td><td>5</td><td>0.011377428</td><td>Model09</td></tr>\n",
       "\t<tr><td>10</td><td>accuracy</td><td>binary</td><td>0.8997248</td><td>5</td><td>0.035209845</td><td>Model10</td></tr>\n",
       "\t<tr><td>10</td><td>roc_auc </td><td>binary</td><td>0.9616162</td><td>5</td><td>0.008048736</td><td>Model10</td></tr>\n",
       "\t<tr><td>11</td><td>accuracy</td><td>binary</td><td>0.8997248</td><td>5</td><td>0.035209845</td><td>Model11</td></tr>\n",
       "\t<tr><td>11</td><td>roc_auc </td><td>binary</td><td>0.9653860</td><td>5</td><td>0.007409030</td><td>Model11</td></tr>\n",
       "\t<tr><td>12</td><td>accuracy</td><td>binary</td><td>0.8997248</td><td>5</td><td>0.035209845</td><td>Model12</td></tr>\n",
       "\t<tr><td>12</td><td>roc_auc </td><td>binary</td><td>0.9583333</td><td>5</td><td>0.011755011</td><td>Model12</td></tr>\n",
       "\t<tr><td>13</td><td>accuracy</td><td>binary</td><td>0.8891985</td><td>5</td><td>0.033162940</td><td>Model13</td></tr>\n",
       "\t<tr><td>13</td><td>roc_auc </td><td>binary</td><td>0.9621032</td><td>5</td><td>0.012581618</td><td>Model13</td></tr>\n",
       "\t<tr><td>14</td><td>accuracy</td><td>binary</td><td>0.8891985</td><td>5</td><td>0.033162940</td><td>Model14</td></tr>\n",
       "\t<tr><td>14</td><td>roc_auc </td><td>binary</td><td>0.9652597</td><td>5</td><td>0.008864224</td><td>Model14</td></tr>\n",
       "\t<tr><td>15</td><td>accuracy</td><td>binary</td><td>0.8780874</td><td>5</td><td>0.030270702</td><td>Model15</td></tr>\n",
       "\t<tr><td>15</td><td>roc_auc </td><td>binary</td><td>0.9642677</td><td>5</td><td>0.007932018</td><td>Model15</td></tr>\n",
       "</tbody>\n",
       "</table>\n"
      ],
      "text/latex": [
       "A tibble: 30 × 7\n",
       "\\begin{tabular}{lllllll}\n",
       " neighbors & .metric & .estimator & mean & n & std\\_err & .config\\\\\n",
       " <dbl> & <chr> & <chr> & <dbl> & <int> & <dbl> & <chr>\\\\\n",
       "\\hline\n",
       "\t  1 & accuracy & binary & 0.8898521 & 5 & 0.019691972 & Model01\\\\\n",
       "\t  1 & roc\\_auc  & binary & 0.8782468 & 5 & 0.023807679 & Model01\\\\\n",
       "\t  2 & accuracy & binary & 0.8898521 & 5 & 0.019691972 & Model02\\\\\n",
       "\t  2 & roc\\_auc  & binary & 0.9462121 & 5 & 0.008458884 & Model02\\\\\n",
       "\t  3 & accuracy & binary & 0.9337805 & 5 & 0.021038743 & Model03\\\\\n",
       "\t  3 & roc\\_auc  & binary & 0.9503247 & 5 & 0.014746440 & Model03\\\\\n",
       "\t  4 & accuracy & binary & 0.9337805 & 5 & 0.021038743 & Model04\\\\\n",
       "\t  4 & roc\\_auc  & binary & 0.9587662 & 5 & 0.012723241 & Model04\\\\\n",
       "\t  5 & accuracy & binary & 0.9220158 & 5 & 0.024628113 & Model05\\\\\n",
       "\t  5 & roc\\_auc  & binary & 0.9559885 & 5 & 0.015901891 & Model05\\\\\n",
       "\t  6 & accuracy & binary & 0.9220158 & 5 & 0.024628113 & Model06\\\\\n",
       "\t  6 & roc\\_auc  & binary & 0.9667208 & 5 & 0.012210747 & Model06\\\\\n",
       "\t  7 & accuracy & binary & 0.9220158 & 5 & 0.024628113 & Model07\\\\\n",
       "\t  7 & roc\\_auc  & binary & 0.9597944 & 5 & 0.014844406 & Model07\\\\\n",
       "\t  8 & accuracy & binary & 0.9220158 & 5 & 0.024628113 & Model08\\\\\n",
       "\t  8 & roc\\_auc  & binary & 0.9634921 & 5 & 0.012744831 & Model08\\\\\n",
       "\t  9 & accuracy & binary & 0.8997248 & 5 & 0.035209845 & Model09\\\\\n",
       "\t  9 & roc\\_auc  & binary & 0.9594517 & 5 & 0.011377428 & Model09\\\\\n",
       "\t 10 & accuracy & binary & 0.8997248 & 5 & 0.035209845 & Model10\\\\\n",
       "\t 10 & roc\\_auc  & binary & 0.9616162 & 5 & 0.008048736 & Model10\\\\\n",
       "\t 11 & accuracy & binary & 0.8997248 & 5 & 0.035209845 & Model11\\\\\n",
       "\t 11 & roc\\_auc  & binary & 0.9653860 & 5 & 0.007409030 & Model11\\\\\n",
       "\t 12 & accuracy & binary & 0.8997248 & 5 & 0.035209845 & Model12\\\\\n",
       "\t 12 & roc\\_auc  & binary & 0.9583333 & 5 & 0.011755011 & Model12\\\\\n",
       "\t 13 & accuracy & binary & 0.8891985 & 5 & 0.033162940 & Model13\\\\\n",
       "\t 13 & roc\\_auc  & binary & 0.9621032 & 5 & 0.012581618 & Model13\\\\\n",
       "\t 14 & accuracy & binary & 0.8891985 & 5 & 0.033162940 & Model14\\\\\n",
       "\t 14 & roc\\_auc  & binary & 0.9652597 & 5 & 0.008864224 & Model14\\\\\n",
       "\t 15 & accuracy & binary & 0.8780874 & 5 & 0.030270702 & Model15\\\\\n",
       "\t 15 & roc\\_auc  & binary & 0.9642677 & 5 & 0.007932018 & Model15\\\\\n",
       "\\end{tabular}\n"
      ],
      "text/markdown": [
       "\n",
       "A tibble: 30 × 7\n",
       "\n",
       "| neighbors &lt;dbl&gt; | .metric &lt;chr&gt; | .estimator &lt;chr&gt; | mean &lt;dbl&gt; | n &lt;int&gt; | std_err &lt;dbl&gt; | .config &lt;chr&gt; |\n",
       "|---|---|---|---|---|---|---|\n",
       "|  1 | accuracy | binary | 0.8898521 | 5 | 0.019691972 | Model01 |\n",
       "|  1 | roc_auc  | binary | 0.8782468 | 5 | 0.023807679 | Model01 |\n",
       "|  2 | accuracy | binary | 0.8898521 | 5 | 0.019691972 | Model02 |\n",
       "|  2 | roc_auc  | binary | 0.9462121 | 5 | 0.008458884 | Model02 |\n",
       "|  3 | accuracy | binary | 0.9337805 | 5 | 0.021038743 | Model03 |\n",
       "|  3 | roc_auc  | binary | 0.9503247 | 5 | 0.014746440 | Model03 |\n",
       "|  4 | accuracy | binary | 0.9337805 | 5 | 0.021038743 | Model04 |\n",
       "|  4 | roc_auc  | binary | 0.9587662 | 5 | 0.012723241 | Model04 |\n",
       "|  5 | accuracy | binary | 0.9220158 | 5 | 0.024628113 | Model05 |\n",
       "|  5 | roc_auc  | binary | 0.9559885 | 5 | 0.015901891 | Model05 |\n",
       "|  6 | accuracy | binary | 0.9220158 | 5 | 0.024628113 | Model06 |\n",
       "|  6 | roc_auc  | binary | 0.9667208 | 5 | 0.012210747 | Model06 |\n",
       "|  7 | accuracy | binary | 0.9220158 | 5 | 0.024628113 | Model07 |\n",
       "|  7 | roc_auc  | binary | 0.9597944 | 5 | 0.014844406 | Model07 |\n",
       "|  8 | accuracy | binary | 0.9220158 | 5 | 0.024628113 | Model08 |\n",
       "|  8 | roc_auc  | binary | 0.9634921 | 5 | 0.012744831 | Model08 |\n",
       "|  9 | accuracy | binary | 0.8997248 | 5 | 0.035209845 | Model09 |\n",
       "|  9 | roc_auc  | binary | 0.9594517 | 5 | 0.011377428 | Model09 |\n",
       "| 10 | accuracy | binary | 0.8997248 | 5 | 0.035209845 | Model10 |\n",
       "| 10 | roc_auc  | binary | 0.9616162 | 5 | 0.008048736 | Model10 |\n",
       "| 11 | accuracy | binary | 0.8997248 | 5 | 0.035209845 | Model11 |\n",
       "| 11 | roc_auc  | binary | 0.9653860 | 5 | 0.007409030 | Model11 |\n",
       "| 12 | accuracy | binary | 0.8997248 | 5 | 0.035209845 | Model12 |\n",
       "| 12 | roc_auc  | binary | 0.9583333 | 5 | 0.011755011 | Model12 |\n",
       "| 13 | accuracy | binary | 0.8891985 | 5 | 0.033162940 | Model13 |\n",
       "| 13 | roc_auc  | binary | 0.9621032 | 5 | 0.012581618 | Model13 |\n",
       "| 14 | accuracy | binary | 0.8891985 | 5 | 0.033162940 | Model14 |\n",
       "| 14 | roc_auc  | binary | 0.9652597 | 5 | 0.008864224 | Model14 |\n",
       "| 15 | accuracy | binary | 0.8780874 | 5 | 0.030270702 | Model15 |\n",
       "| 15 | roc_auc  | binary | 0.9642677 | 5 | 0.007932018 | Model15 |\n",
       "\n"
      ],
      "text/plain": [
       "   neighbors .metric  .estimator mean      n std_err     .config\n",
       "1   1        accuracy binary     0.8898521 5 0.019691972 Model01\n",
       "2   1        roc_auc  binary     0.8782468 5 0.023807679 Model01\n",
       "3   2        accuracy binary     0.8898521 5 0.019691972 Model02\n",
       "4   2        roc_auc  binary     0.9462121 5 0.008458884 Model02\n",
       "5   3        accuracy binary     0.9337805 5 0.021038743 Model03\n",
       "6   3        roc_auc  binary     0.9503247 5 0.014746440 Model03\n",
       "7   4        accuracy binary     0.9337805 5 0.021038743 Model04\n",
       "8   4        roc_auc  binary     0.9587662 5 0.012723241 Model04\n",
       "9   5        accuracy binary     0.9220158 5 0.024628113 Model05\n",
       "10  5        roc_auc  binary     0.9559885 5 0.015901891 Model05\n",
       "11  6        accuracy binary     0.9220158 5 0.024628113 Model06\n",
       "12  6        roc_auc  binary     0.9667208 5 0.012210747 Model06\n",
       "13  7        accuracy binary     0.9220158 5 0.024628113 Model07\n",
       "14  7        roc_auc  binary     0.9597944 5 0.014844406 Model07\n",
       "15  8        accuracy binary     0.9220158 5 0.024628113 Model08\n",
       "16  8        roc_auc  binary     0.9634921 5 0.012744831 Model08\n",
       "17  9        accuracy binary     0.8997248 5 0.035209845 Model09\n",
       "18  9        roc_auc  binary     0.9594517 5 0.011377428 Model09\n",
       "19 10        accuracy binary     0.8997248 5 0.035209845 Model10\n",
       "20 10        roc_auc  binary     0.9616162 5 0.008048736 Model10\n",
       "21 11        accuracy binary     0.8997248 5 0.035209845 Model11\n",
       "22 11        roc_auc  binary     0.9653860 5 0.007409030 Model11\n",
       "23 12        accuracy binary     0.8997248 5 0.035209845 Model12\n",
       "24 12        roc_auc  binary     0.9583333 5 0.011755011 Model12\n",
       "25 13        accuracy binary     0.8891985 5 0.033162940 Model13\n",
       "26 13        roc_auc  binary     0.9621032 5 0.012581618 Model13\n",
       "27 14        accuracy binary     0.8891985 5 0.033162940 Model14\n",
       "28 14        roc_auc  binary     0.9652597 5 0.008864224 Model14\n",
       "29 15        accuracy binary     0.8780874 5 0.030270702 Model15\n",
       "30 15        roc_auc  binary     0.9642677 5 0.007932018 Model15"
      ]
     },
     "metadata": {},
     "output_type": "display_data"
    },
    {
     "data": {
      "text/html": [
       "<table>\n",
       "<caption>A tibble: 2 × 3</caption>\n",
       "<thead>\n",
       "\t<tr><th scope=col>.metric</th><th scope=col>.estimator</th><th scope=col>.estimate</th></tr>\n",
       "\t<tr><th scope=col>&lt;chr&gt;</th><th scope=col>&lt;chr&gt;</th><th scope=col>&lt;dbl&gt;</th></tr>\n",
       "</thead>\n",
       "<tbody>\n",
       "\t<tr><td>accuracy</td><td>binary</td><td>0.8965517</td></tr>\n",
       "\t<tr><td>kap     </td><td>binary</td><td>0.7763496</td></tr>\n",
       "</tbody>\n",
       "</table>\n"
      ],
      "text/latex": [
       "A tibble: 2 × 3\n",
       "\\begin{tabular}{lll}\n",
       " .metric & .estimator & .estimate\\\\\n",
       " <chr> & <chr> & <dbl>\\\\\n",
       "\\hline\n",
       "\t accuracy & binary & 0.8965517\\\\\n",
       "\t kap      & binary & 0.7763496\\\\\n",
       "\\end{tabular}\n"
      ],
      "text/markdown": [
       "\n",
       "A tibble: 2 × 3\n",
       "\n",
       "| .metric &lt;chr&gt; | .estimator &lt;chr&gt; | .estimate &lt;dbl&gt; |\n",
       "|---|---|---|\n",
       "| accuracy | binary | 0.8965517 |\n",
       "| kap      | binary | 0.7763496 |\n",
       "\n"
      ],
      "text/plain": [
       "  .metric  .estimator .estimate\n",
       "1 accuracy binary     0.8965517\n",
       "2 kap      binary     0.7763496"
      ]
     },
     "metadata": {},
     "output_type": "display_data"
    },
    {
     "data": {
      "image/png": "[encoded data removed]",
      "text/plain": [
       "plot without title"
      ]
     },
     "metadata": {
      "image/png": {
       "height": 420,
       "width": 420
      }
     },
     "output_type": "display_data"
    }
   ],
   "source": [
    "SBA_FWI_recipe_scaled <- recipe(Classes ~ FWI + RH, data=Sidi_Bel_Abbes_train) %>%\n",
    "    step_scale(all_predictors()) %>%\n",
    "    step_center(all_predictors())\n",
    "\n",
    "SBA_knn_spec_C <- nearest_neighbor(weight_func=\"rectangular\", neighbors=5) %>%\n",
    "    set_engine(\"kknn\") %>%\n",
    "    set_mode(\"classification\")\n",
    "\n",
    "SBA_FWI_Fit_C <- workflow() %>%\n",
    "    add_recipe(SBA_FWI_recipe_scaled) %>%\n",
    "    add_model(SBA_knn_spec_C) %>%\n",
    "    fit(data=Sidi_Bel_Abbes_train)\n",
    "\n",
    "SBA_vfold_FWI_C <- vfold_cv(Sidi_Bel_Abbes_train, v =5 , strata =Classes)\n",
    "\n",
    "knn_spec_tune <- nearest_neighbor(weight_func = \"rectangular\", neighbors = tune()) %>%\n",
    "  set_engine(\"kknn\") %>%\n",
    "  set_mode(\"classification\")\n",
    "\n",
    "k_vals <- tibble(neighbors = seq(from = 1, to = 15, by = 1))\n",
    "\n",
    "knn_results_tune <- workflow() %>%\n",
    "  add_recipe(SBA_FWI_recipe_scaled) %>%\n",
    "  add_model(knn_spec_tune) %>%\n",
    "  tune_grid(resamples =SBA_vfold_FWI_C , grid = k_vals) %>%\n",
    "  collect_metrics()\n",
    "knn_results_tune\n",
    "\n",
    "accuracies_SBA_FWI <- knn_results_tune %>%\n",
    "  filter(.metric == \"accuracy\")\n",
    "\n",
    "accuracy_vs_k <- ggplot(accuracies_SBA_FWI, aes(x = neighbors, y = mean)) +\n",
    "  geom_point() +\n",
    "  geom_line() +\n",
    "  labs(x = \"Neighbors\", y = \"Accuracy Estimate\")+\n",
    "  scale_x_continuous()\n",
    "accuracy_vs_k\n",
    "\n",
    "SBA_FWI_prediction <- predict(SBA_FWI_Fit_C, Sidi_Bel_Abbes_test) %>%\n",
    "    bind_cols(Sidi_Bel_Abbes_test)\n",
    "SBA_FWI_prediction_accuracy <- SBA_FWI_prediction %>%\n",
    "    metrics(truth=Classes, estimate= .pred_class)\n",
    "SBA_FWI_prediction_accuracy\n"
   ]
  },
  {
   "cell_type": "code",
   "execution_count": 363,
   "metadata": {},
   "outputs": [
    {
     "data": {
      "text/html": [
       "<table>\n",
       "<caption>A tibble: 30 × 7</caption>\n",
       "<thead>\n",
       "\t<tr><th scope=col>neighbors</th><th scope=col>.metric</th><th scope=col>.estimator</th><th scope=col>mean</th><th scope=col>n</th><th scope=col>std_err</th><th scope=col>.config</th></tr>\n",
       "\t<tr><th scope=col>&lt;dbl&gt;</th><th scope=col>&lt;chr&gt;</th><th scope=col>&lt;chr&gt;</th><th scope=col>&lt;dbl&gt;</th><th scope=col>&lt;int&gt;</th><th scope=col>&lt;dbl&gt;</th><th scope=col>&lt;chr&gt;</th></tr>\n",
       "</thead>\n",
       "<tbody>\n",
       "\t<tr><td> 1</td><td>accuracy</td><td>binary</td><td>0.7604747</td><td>5</td><td>0.02809521</td><td>Model01</td></tr>\n",
       "\t<tr><td> 1</td><td>roc_auc </td><td>binary</td><td>0.7536797</td><td>5</td><td>0.03247898</td><td>Model01</td></tr>\n",
       "\t<tr><td> 2</td><td>accuracy</td><td>binary</td><td>0.7604747</td><td>5</td><td>0.02809521</td><td>Model02</td></tr>\n",
       "\t<tr><td> 2</td><td>roc_auc </td><td>binary</td><td>0.8224026</td><td>5</td><td>0.03585356</td><td>Model02</td></tr>\n",
       "\t<tr><td> 3</td><td>accuracy</td><td>binary</td><td>0.7722394</td><td>5</td><td>0.03791625</td><td>Model03</td></tr>\n",
       "\t<tr><td> 3</td><td>roc_auc </td><td>binary</td><td>0.8307179</td><td>5</td><td>0.04002675</td><td>Model03</td></tr>\n",
       "\t<tr><td> 4</td><td>accuracy</td><td>binary</td><td>0.7722394</td><td>5</td><td>0.03791625</td><td>Model04</td></tr>\n",
       "\t<tr><td> 4</td><td>roc_auc </td><td>binary</td><td>0.8289863</td><td>5</td><td>0.04136863</td><td>Model04</td></tr>\n",
       "\t<tr><td> 5</td><td>accuracy</td><td>binary</td><td>0.8384589</td><td>5</td><td>0.02722355</td><td>Model05</td></tr>\n",
       "\t<tr><td> 5</td><td>roc_auc </td><td>binary</td><td>0.8586400</td><td>5</td><td>0.03860140</td><td>Model05</td></tr>\n",
       "\t<tr><td> 6</td><td>accuracy</td><td>binary</td><td>0.8384589</td><td>5</td><td>0.02722355</td><td>Model06</td></tr>\n",
       "\t<tr><td> 6</td><td>roc_auc </td><td>binary</td><td>0.8565296</td><td>5</td><td>0.03649122</td><td>Model06</td></tr>\n",
       "\t<tr><td> 7</td><td>accuracy</td><td>binary</td><td>0.8279326</td><td>5</td><td>0.02885713</td><td>Model07</td></tr>\n",
       "\t<tr><td> 7</td><td>roc_auc </td><td>binary</td><td>0.8687590</td><td>5</td><td>0.03916388</td><td>Model07</td></tr>\n",
       "\t<tr><td> 8</td><td>accuracy</td><td>binary</td><td>0.8279326</td><td>5</td><td>0.02885713</td><td>Model08</td></tr>\n",
       "\t<tr><td> 8</td><td>roc_auc </td><td>binary</td><td>0.8659812</td><td>5</td><td>0.04008085</td><td>Model08</td></tr>\n",
       "\t<tr><td> 9</td><td>accuracy</td><td>binary</td><td>0.8396973</td><td>5</td><td>0.03593413</td><td>Model09</td></tr>\n",
       "\t<tr><td> 9</td><td>roc_auc </td><td>binary</td><td>0.8939033</td><td>5</td><td>0.03510054</td><td>Model09</td></tr>\n",
       "\t<tr><td>10</td><td>accuracy</td><td>binary</td><td>0.8396973</td><td>5</td><td>0.03593413</td><td>Model10</td></tr>\n",
       "\t<tr><td>10</td><td>roc_auc </td><td>binary</td><td>0.9112013</td><td>5</td><td>0.03407463</td><td>Model10</td></tr>\n",
       "\t<tr><td>11</td><td>accuracy</td><td>binary</td><td>0.8402821</td><td>5</td><td>0.04606108</td><td>Model11</td></tr>\n",
       "\t<tr><td>11</td><td>roc_auc </td><td>binary</td><td>0.9190657</td><td>5</td><td>0.03849658</td><td>Model11</td></tr>\n",
       "\t<tr><td>12</td><td>accuracy</td><td>binary</td><td>0.8402821</td><td>5</td><td>0.04606108</td><td>Model12</td></tr>\n",
       "\t<tr><td>12</td><td>roc_auc </td><td>binary</td><td>0.9190657</td><td>5</td><td>0.03718575</td><td>Model12</td></tr>\n",
       "\t<tr><td>13</td><td>accuracy</td><td>binary</td><td>0.8513932</td><td>5</td><td>0.05313906</td><td>Model13</td></tr>\n",
       "\t<tr><td>13</td><td>roc_auc </td><td>binary</td><td>0.9177489</td><td>5</td><td>0.03832720</td><td>Model13</td></tr>\n",
       "\t<tr><td>14</td><td>accuracy</td><td>binary</td><td>0.8513932</td><td>5</td><td>0.05313906</td><td>Model14</td></tr>\n",
       "\t<tr><td>14</td><td>roc_auc </td><td>binary</td><td>0.9156926</td><td>5</td><td>0.03895367</td><td>Model14</td></tr>\n",
       "\t<tr><td>15</td><td>accuracy</td><td>binary</td><td>0.8513932</td><td>5</td><td>0.05568454</td><td>Model15</td></tr>\n",
       "\t<tr><td>15</td><td>roc_auc </td><td>binary</td><td>0.9085498</td><td>5</td><td>0.04437163</td><td>Model15</td></tr>\n",
       "</tbody>\n",
       "</table>\n"
      ],
      "text/latex": [
       "A tibble: 30 × 7\n",
       "\\begin{tabular}{lllllll}\n",
       " neighbors & .metric & .estimator & mean & n & std\\_err & .config\\\\\n",
       " <dbl> & <chr> & <chr> & <dbl> & <int> & <dbl> & <chr>\\\\\n",
       "\\hline\n",
       "\t  1 & accuracy & binary & 0.7604747 & 5 & 0.02809521 & Model01\\\\\n",
       "\t  1 & roc\\_auc  & binary & 0.7536797 & 5 & 0.03247898 & Model01\\\\\n",
       "\t  2 & accuracy & binary & 0.7604747 & 5 & 0.02809521 & Model02\\\\\n",
       "\t  2 & roc\\_auc  & binary & 0.8224026 & 5 & 0.03585356 & Model02\\\\\n",
       "\t  3 & accuracy & binary & 0.7722394 & 5 & 0.03791625 & Model03\\\\\n",
       "\t  3 & roc\\_auc  & binary & 0.8307179 & 5 & 0.04002675 & Model03\\\\\n",
       "\t  4 & accuracy & binary & 0.7722394 & 5 & 0.03791625 & Model04\\\\\n",
       "\t  4 & roc\\_auc  & binary & 0.8289863 & 5 & 0.04136863 & Model04\\\\\n",
       "\t  5 & accuracy & binary & 0.8384589 & 5 & 0.02722355 & Model05\\\\\n",
       "\t  5 & roc\\_auc  & binary & 0.8586400 & 5 & 0.03860140 & Model05\\\\\n",
       "\t  6 & accuracy & binary & 0.8384589 & 5 & 0.02722355 & Model06\\\\\n",
       "\t  6 & roc\\_auc  & binary & 0.8565296 & 5 & 0.03649122 & Model06\\\\\n",
       "\t  7 & accuracy & binary & 0.8279326 & 5 & 0.02885713 & Model07\\\\\n",
       "\t  7 & roc\\_auc  & binary & 0.8687590 & 5 & 0.03916388 & Model07\\\\\n",
       "\t  8 & accuracy & binary & 0.8279326 & 5 & 0.02885713 & Model08\\\\\n",
       "\t  8 & roc\\_auc  & binary & 0.8659812 & 5 & 0.04008085 & Model08\\\\\n",
       "\t  9 & accuracy & binary & 0.8396973 & 5 & 0.03593413 & Model09\\\\\n",
       "\t  9 & roc\\_auc  & binary & 0.8939033 & 5 & 0.03510054 & Model09\\\\\n",
       "\t 10 & accuracy & binary & 0.8396973 & 5 & 0.03593413 & Model10\\\\\n",
       "\t 10 & roc\\_auc  & binary & 0.9112013 & 5 & 0.03407463 & Model10\\\\\n",
       "\t 11 & accuracy & binary & 0.8402821 & 5 & 0.04606108 & Model11\\\\\n",
       "\t 11 & roc\\_auc  & binary & 0.9190657 & 5 & 0.03849658 & Model11\\\\\n",
       "\t 12 & accuracy & binary & 0.8402821 & 5 & 0.04606108 & Model12\\\\\n",
       "\t 12 & roc\\_auc  & binary & 0.9190657 & 5 & 0.03718575 & Model12\\\\\n",
       "\t 13 & accuracy & binary & 0.8513932 & 5 & 0.05313906 & Model13\\\\\n",
       "\t 13 & roc\\_auc  & binary & 0.9177489 & 5 & 0.03832720 & Model13\\\\\n",
       "\t 14 & accuracy & binary & 0.8513932 & 5 & 0.05313906 & Model14\\\\\n",
       "\t 14 & roc\\_auc  & binary & 0.9156926 & 5 & 0.03895367 & Model14\\\\\n",
       "\t 15 & accuracy & binary & 0.8513932 & 5 & 0.05568454 & Model15\\\\\n",
       "\t 15 & roc\\_auc  & binary & 0.9085498 & 5 & 0.04437163 & Model15\\\\\n",
       "\\end{tabular}\n"
      ],
      "text/markdown": [
       "\n",
       "A tibble: 30 × 7\n",
       "\n",
       "| neighbors &lt;dbl&gt; | .metric &lt;chr&gt; | .estimator &lt;chr&gt; | mean &lt;dbl&gt; | n &lt;int&gt; | std_err &lt;dbl&gt; | .config &lt;chr&gt; |\n",
       "|---|---|---|---|---|---|---|\n",
       "|  1 | accuracy | binary | 0.7604747 | 5 | 0.02809521 | Model01 |\n",
       "|  1 | roc_auc  | binary | 0.7536797 | 5 | 0.03247898 | Model01 |\n",
       "|  2 | accuracy | binary | 0.7604747 | 5 | 0.02809521 | Model02 |\n",
       "|  2 | roc_auc  | binary | 0.8224026 | 5 | 0.03585356 | Model02 |\n",
       "|  3 | accuracy | binary | 0.7722394 | 5 | 0.03791625 | Model03 |\n",
       "|  3 | roc_auc  | binary | 0.8307179 | 5 | 0.04002675 | Model03 |\n",
       "|  4 | accuracy | binary | 0.7722394 | 5 | 0.03791625 | Model04 |\n",
       "|  4 | roc_auc  | binary | 0.8289863 | 5 | 0.04136863 | Model04 |\n",
       "|  5 | accuracy | binary | 0.8384589 | 5 | 0.02722355 | Model05 |\n",
       "|  5 | roc_auc  | binary | 0.8586400 | 5 | 0.03860140 | Model05 |\n",
       "|  6 | accuracy | binary | 0.8384589 | 5 | 0.02722355 | Model06 |\n",
       "|  6 | roc_auc  | binary | 0.8565296 | 5 | 0.03649122 | Model06 |\n",
       "|  7 | accuracy | binary | 0.8279326 | 5 | 0.02885713 | Model07 |\n",
       "|  7 | roc_auc  | binary | 0.8687590 | 5 | 0.03916388 | Model07 |\n",
       "|  8 | accuracy | binary | 0.8279326 | 5 | 0.02885713 | Model08 |\n",
       "|  8 | roc_auc  | binary | 0.8659812 | 5 | 0.04008085 | Model08 |\n",
       "|  9 | accuracy | binary | 0.8396973 | 5 | 0.03593413 | Model09 |\n",
       "|  9 | roc_auc  | binary | 0.8939033 | 5 | 0.03510054 | Model09 |\n",
       "| 10 | accuracy | binary | 0.8396973 | 5 | 0.03593413 | Model10 |\n",
       "| 10 | roc_auc  | binary | 0.9112013 | 5 | 0.03407463 | Model10 |\n",
       "| 11 | accuracy | binary | 0.8402821 | 5 | 0.04606108 | Model11 |\n",
       "| 11 | roc_auc  | binary | 0.9190657 | 5 | 0.03849658 | Model11 |\n",
       "| 12 | accuracy | binary | 0.8402821 | 5 | 0.04606108 | Model12 |\n",
       "| 12 | roc_auc  | binary | 0.9190657 | 5 | 0.03718575 | Model12 |\n",
       "| 13 | accuracy | binary | 0.8513932 | 5 | 0.05313906 | Model13 |\n",
       "| 13 | roc_auc  | binary | 0.9177489 | 5 | 0.03832720 | Model13 |\n",
       "| 14 | accuracy | binary | 0.8513932 | 5 | 0.05313906 | Model14 |\n",
       "| 14 | roc_auc  | binary | 0.9156926 | 5 | 0.03895367 | Model14 |\n",
       "| 15 | accuracy | binary | 0.8513932 | 5 | 0.05568454 | Model15 |\n",
       "| 15 | roc_auc  | binary | 0.9085498 | 5 | 0.04437163 | Model15 |\n",
       "\n"
      ],
      "text/plain": [
       "   neighbors .metric  .estimator mean      n std_err    .config\n",
       "1   1        accuracy binary     0.7604747 5 0.02809521 Model01\n",
       "2   1        roc_auc  binary     0.7536797 5 0.03247898 Model01\n",
       "3   2        accuracy binary     0.7604747 5 0.02809521 Model02\n",
       "4   2        roc_auc  binary     0.8224026 5 0.03585356 Model02\n",
       "5   3        accuracy binary     0.7722394 5 0.03791625 Model03\n",
       "6   3        roc_auc  binary     0.8307179 5 0.04002675 Model03\n",
       "7   4        accuracy binary     0.7722394 5 0.03791625 Model04\n",
       "8   4        roc_auc  binary     0.8289863 5 0.04136863 Model04\n",
       "9   5        accuracy binary     0.8384589 5 0.02722355 Model05\n",
       "10  5        roc_auc  binary     0.8586400 5 0.03860140 Model05\n",
       "11  6        accuracy binary     0.8384589 5 0.02722355 Model06\n",
       "12  6        roc_auc  binary     0.8565296 5 0.03649122 Model06\n",
       "13  7        accuracy binary     0.8279326 5 0.02885713 Model07\n",
       "14  7        roc_auc  binary     0.8687590 5 0.03916388 Model07\n",
       "15  8        accuracy binary     0.8279326 5 0.02885713 Model08\n",
       "16  8        roc_auc  binary     0.8659812 5 0.04008085 Model08\n",
       "17  9        accuracy binary     0.8396973 5 0.03593413 Model09\n",
       "18  9        roc_auc  binary     0.8939033 5 0.03510054 Model09\n",
       "19 10        accuracy binary     0.8396973 5 0.03593413 Model10\n",
       "20 10        roc_auc  binary     0.9112013 5 0.03407463 Model10\n",
       "21 11        accuracy binary     0.8402821 5 0.04606108 Model11\n",
       "22 11        roc_auc  binary     0.9190657 5 0.03849658 Model11\n",
       "23 12        accuracy binary     0.8402821 5 0.04606108 Model12\n",
       "24 12        roc_auc  binary     0.9190657 5 0.03718575 Model12\n",
       "25 13        accuracy binary     0.8513932 5 0.05313906 Model13\n",
       "26 13        roc_auc  binary     0.9177489 5 0.03832720 Model13\n",
       "27 14        accuracy binary     0.8513932 5 0.05313906 Model14\n",
       "28 14        roc_auc  binary     0.9156926 5 0.03895367 Model14\n",
       "29 15        accuracy binary     0.8513932 5 0.05568454 Model15\n",
       "30 15        roc_auc  binary     0.9085498 5 0.04437163 Model15"
      ]
     },
     "metadata": {},
     "output_type": "display_data"
    },
    {
     "data": {
      "text/html": [
       "<table>\n",
       "<caption>A tibble: 2 × 3</caption>\n",
       "<thead>\n",
       "\t<tr><th scope=col>.metric</th><th scope=col>.estimator</th><th scope=col>.estimate</th></tr>\n",
       "\t<tr><th scope=col>&lt;chr&gt;</th><th scope=col>&lt;chr&gt;</th><th scope=col>&lt;dbl&gt;</th></tr>\n",
       "</thead>\n",
       "<tbody>\n",
       "\t<tr><td>accuracy</td><td>binary</td><td>0.7241379</td></tr>\n",
       "\t<tr><td>kap     </td><td>binary</td><td>0.3894737</td></tr>\n",
       "</tbody>\n",
       "</table>\n"
      ],
      "text/latex": [
       "A tibble: 2 × 3\n",
       "\\begin{tabular}{lll}\n",
       " .metric & .estimator & .estimate\\\\\n",
       " <chr> & <chr> & <dbl>\\\\\n",
       "\\hline\n",
       "\t accuracy & binary & 0.7241379\\\\\n",
       "\t kap      & binary & 0.3894737\\\\\n",
       "\\end{tabular}\n"
      ],
      "text/markdown": [
       "\n",
       "A tibble: 2 × 3\n",
       "\n",
       "| .metric &lt;chr&gt; | .estimator &lt;chr&gt; | .estimate &lt;dbl&gt; |\n",
       "|---|---|---|\n",
       "| accuracy | binary | 0.7241379 |\n",
       "| kap      | binary | 0.3894737 |\n",
       "\n"
      ],
      "text/plain": [
       "  .metric  .estimator .estimate\n",
       "1 accuracy binary     0.7241379\n",
       "2 kap      binary     0.3894737"
      ]
     },
     "metadata": {},
     "output_type": "display_data"
    },
    {
     "data": {
      "image/png": "[encoded data removed]",
      "text/plain": [
       "plot without title"
      ]
     },
     "metadata": {
      "image/png": {
       "height": 420,
       "width": 420
      }
     },
     "output_type": "display_data"
    }
   ],
   "source": [
    "SBA_BUI_recipe_scaled <- recipe(Classes ~ BUI + RH, data=Sidi_Bel_Abbes_train) %>%\n",
    "    step_scale(all_predictors()) %>%\n",
    "    step_center(all_predictors())\n",
    "\n",
    "SBA_knn_spec_C <- nearest_neighbor(weight_func=\"rectangular\", neighbors=5) %>%\n",
    "    set_engine(\"kknn\") %>%\n",
    "    set_mode(\"classification\")\n",
    "\n",
    "SBA_BUI_Fit_C <- workflow() %>%\n",
    "    add_recipe(SBA_BUI_recipe_scaled) %>%\n",
    "    add_model(SBA_knn_spec_C) %>%\n",
    "    fit(data=Sidi_Bel_Abbes_train)\n",
    "\n",
    "SBA_vfold_BUI_C <- vfold_cv(Sidi_Bel_Abbes_train, v =5 , strata =Classes)\n",
    "\n",
    "knn_spec_tune <- nearest_neighbor(weight_func = \"rectangular\", neighbors = tune()) %>%\n",
    "  set_engine(\"kknn\") %>%\n",
    "  set_mode(\"classification\")\n",
    "\n",
    "k_vals <- tibble(neighbors = seq(from = 1, to = 15, by = 1))\n",
    "\n",
    "knn_results_tune <- workflow() %>%\n",
    "  add_recipe(SBA_BUI_recipe_scaled) %>%\n",
    "  add_model(knn_spec_tune) %>%\n",
    "  tune_grid(resamples =SBA_vfold_BUI_C , grid = k_vals) %>%\n",
    "  collect_metrics()\n",
    "knn_results_tune\n",
    "\n",
    "accuracies_SBA_BUI <- knn_results_tune %>%\n",
    "  filter(.metric == \"accuracy\")\n",
    "\n",
    "accuracy_vs_k <- ggplot(accuracies_SBA_BUI, aes(x = neighbors, y = mean)) +\n",
    "  geom_point() +\n",
    "  geom_line() +\n",
    "  labs(x = \"Neighbors\", y = \"Accuracy Estimate\")+\n",
    "  scale_x_continuous()\n",
    "accuracy_vs_k\n",
    "\n",
    "SBA_BUI_prediction <- predict(SBA_BUI_Fit_C, Sidi_Bel_Abbes_test) %>%\n",
    "    bind_cols(Sidi_Bel_Abbes_test)\n",
    "SBA_BUI_prediction_accuracy <- SBA_BUI_prediction %>%\n",
    "    metrics(truth=Classes, estimate= .pred_class)\n",
    "SBA_BUI_prediction_accuracy\n"
   ]
  },
  {
   "cell_type": "code",
   "execution_count": null,
   "metadata": {},
   "outputs": [],
   "source": []
  },
  {
   "cell_type": "markdown",
   "metadata": {},
   "source": [
    "Hunters stuff"
   ]
  },
  {
   "cell_type": "code",
   "execution_count": 364,
   "metadata": {},
   "outputs": [
    {
     "data": {
      "text/html": [
       "<table>\n",
       "<caption>A tibble: 30 × 7</caption>\n",
       "<thead>\n",
       "\t<tr><th scope=col>neighbors</th><th scope=col>.metric</th><th scope=col>.estimator</th><th scope=col>mean</th><th scope=col>n</th><th scope=col>std_err</th><th scope=col>.config</th></tr>\n",
       "\t<tr><th scope=col>&lt;dbl&gt;</th><th scope=col>&lt;chr&gt;</th><th scope=col>&lt;chr&gt;</th><th scope=col>&lt;dbl&gt;</th><th scope=col>&lt;int&gt;</th><th scope=col>&lt;dbl&gt;</th><th scope=col>&lt;chr&gt;</th></tr>\n",
       "</thead>\n",
       "<tbody>\n",
       "\t<tr><td> 1</td><td>accuracy</td><td>binary</td><td>0.9350877</td><td>5</td><td>0.03106028</td><td>Model01</td></tr>\n",
       "\t<tr><td> 1</td><td>roc_auc </td><td>binary</td><td>0.9333333</td><td>5</td><td>0.03239418</td><td>Model01</td></tr>\n",
       "\t<tr><td> 2</td><td>accuracy</td><td>binary</td><td>0.9350877</td><td>5</td><td>0.03106028</td><td>Model02</td></tr>\n",
       "\t<tr><td> 2</td><td>roc_auc </td><td>binary</td><td>0.9622222</td><td>5</td><td>0.02619961</td><td>Model02</td></tr>\n",
       "\t<tr><td> 3</td><td>accuracy</td><td>binary</td><td>0.9567251</td><td>5</td><td>0.01986153</td><td>Model03</td></tr>\n",
       "\t<tr><td> 3</td><td>roc_auc </td><td>binary</td><td>0.9775309</td><td>5</td><td>0.01943180</td><td>Model03</td></tr>\n",
       "\t<tr><td> 4</td><td>accuracy</td><td>binary</td><td>0.9567251</td><td>5</td><td>0.01986153</td><td>Model04</td></tr>\n",
       "\t<tr><td> 4</td><td>roc_auc </td><td>binary</td><td>0.9753086</td><td>5</td><td>0.02173681</td><td>Model04</td></tr>\n",
       "\t<tr><td> 5</td><td>accuracy</td><td>binary</td><td>0.9461988</td><td>5</td><td>0.02883640</td><td>Model05</td></tr>\n",
       "\t<tr><td> 5</td><td>roc_auc </td><td>binary</td><td>0.9751852</td><td>5</td><td>0.02050126</td><td>Model05</td></tr>\n",
       "\t<tr><td> 6</td><td>accuracy</td><td>binary</td><td>0.9461988</td><td>5</td><td>0.02883640</td><td>Model06</td></tr>\n",
       "\t<tr><td> 6</td><td>roc_auc </td><td>binary</td><td>0.9819753</td><td>5</td><td>0.01512837</td><td>Model06</td></tr>\n",
       "\t<tr><td> 7</td><td>accuracy</td><td>binary</td><td>0.9573099</td><td>5</td><td>0.03074489</td><td>Model07</td></tr>\n",
       "\t<tr><td> 7</td><td>roc_auc </td><td>binary</td><td>0.9808642</td><td>5</td><td>0.01622647</td><td>Model07</td></tr>\n",
       "\t<tr><td> 8</td><td>accuracy</td><td>binary</td><td>0.9573099</td><td>5</td><td>0.03074489</td><td>Model08</td></tr>\n",
       "\t<tr><td> 8</td><td>roc_auc </td><td>binary</td><td>0.9822222</td><td>5</td><td>0.01777778</td><td>Model08</td></tr>\n",
       "\t<tr><td> 9</td><td>accuracy</td><td>binary</td><td>0.9467836</td><td>5</td><td>0.04077244</td><td>Model09</td></tr>\n",
       "\t<tr><td> 9</td><td>roc_auc </td><td>binary</td><td>0.9877778</td><td>5</td><td>0.01222222</td><td>Model09</td></tr>\n",
       "\t<tr><td>10</td><td>accuracy</td><td>binary</td><td>0.9467836</td><td>5</td><td>0.04077244</td><td>Model10</td></tr>\n",
       "\t<tr><td>10</td><td>roc_auc </td><td>binary</td><td>0.9843210</td><td>5</td><td>0.01418625</td><td>Model10</td></tr>\n",
       "\t<tr><td>11</td><td>accuracy</td><td>binary</td><td>0.9678363</td><td>5</td><td>0.02120639</td><td>Model11</td></tr>\n",
       "\t<tr><td>11</td><td>roc_auc </td><td>binary</td><td>0.9820988</td><td>5</td><td>0.01640164</td><td>Model11</td></tr>\n",
       "\t<tr><td>12</td><td>accuracy</td><td>binary</td><td>0.9678363</td><td>5</td><td>0.02120639</td><td>Model12</td></tr>\n",
       "\t<tr><td>12</td><td>roc_auc </td><td>binary</td><td>0.9798765</td><td>5</td><td>0.01861866</td><td>Model12</td></tr>\n",
       "\t<tr><td>13</td><td>accuracy</td><td>binary</td><td>0.9573099</td><td>5</td><td>0.03074489</td><td>Model13</td></tr>\n",
       "\t<tr><td>13</td><td>roc_auc </td><td>binary</td><td>0.9798765</td><td>5</td><td>0.01861866</td><td>Model13</td></tr>\n",
       "\t<tr><td>14</td><td>accuracy</td><td>binary</td><td>0.9573099</td><td>5</td><td>0.03074489</td><td>Model14</td></tr>\n",
       "\t<tr><td>14</td><td>roc_auc </td><td>binary</td><td>0.9811111</td><td>5</td><td>0.01888889</td><td>Model14</td></tr>\n",
       "\t<tr><td>15</td><td>accuracy</td><td>binary</td><td>0.9573099</td><td>5</td><td>0.03074489</td><td>Model15</td></tr>\n",
       "\t<tr><td>15</td><td>roc_auc </td><td>binary</td><td>0.9811111</td><td>5</td><td>0.01888889</td><td>Model15</td></tr>\n",
       "</tbody>\n",
       "</table>\n"
      ],
      "text/latex": [
       "A tibble: 30 × 7\n",
       "\\begin{tabular}{lllllll}\n",
       " neighbors & .metric & .estimator & mean & n & std\\_err & .config\\\\\n",
       " <dbl> & <chr> & <chr> & <dbl> & <int> & <dbl> & <chr>\\\\\n",
       "\\hline\n",
       "\t  1 & accuracy & binary & 0.9350877 & 5 & 0.03106028 & Model01\\\\\n",
       "\t  1 & roc\\_auc  & binary & 0.9333333 & 5 & 0.03239418 & Model01\\\\\n",
       "\t  2 & accuracy & binary & 0.9350877 & 5 & 0.03106028 & Model02\\\\\n",
       "\t  2 & roc\\_auc  & binary & 0.9622222 & 5 & 0.02619961 & Model02\\\\\n",
       "\t  3 & accuracy & binary & 0.9567251 & 5 & 0.01986153 & Model03\\\\\n",
       "\t  3 & roc\\_auc  & binary & 0.9775309 & 5 & 0.01943180 & Model03\\\\\n",
       "\t  4 & accuracy & binary & 0.9567251 & 5 & 0.01986153 & Model04\\\\\n",
       "\t  4 & roc\\_auc  & binary & 0.9753086 & 5 & 0.02173681 & Model04\\\\\n",
       "\t  5 & accuracy & binary & 0.9461988 & 5 & 0.02883640 & Model05\\\\\n",
       "\t  5 & roc\\_auc  & binary & 0.9751852 & 5 & 0.02050126 & Model05\\\\\n",
       "\t  6 & accuracy & binary & 0.9461988 & 5 & 0.02883640 & Model06\\\\\n",
       "\t  6 & roc\\_auc  & binary & 0.9819753 & 5 & 0.01512837 & Model06\\\\\n",
       "\t  7 & accuracy & binary & 0.9573099 & 5 & 0.03074489 & Model07\\\\\n",
       "\t  7 & roc\\_auc  & binary & 0.9808642 & 5 & 0.01622647 & Model07\\\\\n",
       "\t  8 & accuracy & binary & 0.9573099 & 5 & 0.03074489 & Model08\\\\\n",
       "\t  8 & roc\\_auc  & binary & 0.9822222 & 5 & 0.01777778 & Model08\\\\\n",
       "\t  9 & accuracy & binary & 0.9467836 & 5 & 0.04077244 & Model09\\\\\n",
       "\t  9 & roc\\_auc  & binary & 0.9877778 & 5 & 0.01222222 & Model09\\\\\n",
       "\t 10 & accuracy & binary & 0.9467836 & 5 & 0.04077244 & Model10\\\\\n",
       "\t 10 & roc\\_auc  & binary & 0.9843210 & 5 & 0.01418625 & Model10\\\\\n",
       "\t 11 & accuracy & binary & 0.9678363 & 5 & 0.02120639 & Model11\\\\\n",
       "\t 11 & roc\\_auc  & binary & 0.9820988 & 5 & 0.01640164 & Model11\\\\\n",
       "\t 12 & accuracy & binary & 0.9678363 & 5 & 0.02120639 & Model12\\\\\n",
       "\t 12 & roc\\_auc  & binary & 0.9798765 & 5 & 0.01861866 & Model12\\\\\n",
       "\t 13 & accuracy & binary & 0.9573099 & 5 & 0.03074489 & Model13\\\\\n",
       "\t 13 & roc\\_auc  & binary & 0.9798765 & 5 & 0.01861866 & Model13\\\\\n",
       "\t 14 & accuracy & binary & 0.9573099 & 5 & 0.03074489 & Model14\\\\\n",
       "\t 14 & roc\\_auc  & binary & 0.9811111 & 5 & 0.01888889 & Model14\\\\\n",
       "\t 15 & accuracy & binary & 0.9573099 & 5 & 0.03074489 & Model15\\\\\n",
       "\t 15 & roc\\_auc  & binary & 0.9811111 & 5 & 0.01888889 & Model15\\\\\n",
       "\\end{tabular}\n"
      ],
      "text/markdown": [
       "\n",
       "A tibble: 30 × 7\n",
       "\n",
       "| neighbors &lt;dbl&gt; | .metric &lt;chr&gt; | .estimator &lt;chr&gt; | mean &lt;dbl&gt; | n &lt;int&gt; | std_err &lt;dbl&gt; | .config &lt;chr&gt; |\n",
       "|---|---|---|---|---|---|---|\n",
       "|  1 | accuracy | binary | 0.9350877 | 5 | 0.03106028 | Model01 |\n",
       "|  1 | roc_auc  | binary | 0.9333333 | 5 | 0.03239418 | Model01 |\n",
       "|  2 | accuracy | binary | 0.9350877 | 5 | 0.03106028 | Model02 |\n",
       "|  2 | roc_auc  | binary | 0.9622222 | 5 | 0.02619961 | Model02 |\n",
       "|  3 | accuracy | binary | 0.9567251 | 5 | 0.01986153 | Model03 |\n",
       "|  3 | roc_auc  | binary | 0.9775309 | 5 | 0.01943180 | Model03 |\n",
       "|  4 | accuracy | binary | 0.9567251 | 5 | 0.01986153 | Model04 |\n",
       "|  4 | roc_auc  | binary | 0.9753086 | 5 | 0.02173681 | Model04 |\n",
       "|  5 | accuracy | binary | 0.9461988 | 5 | 0.02883640 | Model05 |\n",
       "|  5 | roc_auc  | binary | 0.9751852 | 5 | 0.02050126 | Model05 |\n",
       "|  6 | accuracy | binary | 0.9461988 | 5 | 0.02883640 | Model06 |\n",
       "|  6 | roc_auc  | binary | 0.9819753 | 5 | 0.01512837 | Model06 |\n",
       "|  7 | accuracy | binary | 0.9573099 | 5 | 0.03074489 | Model07 |\n",
       "|  7 | roc_auc  | binary | 0.9808642 | 5 | 0.01622647 | Model07 |\n",
       "|  8 | accuracy | binary | 0.9573099 | 5 | 0.03074489 | Model08 |\n",
       "|  8 | roc_auc  | binary | 0.9822222 | 5 | 0.01777778 | Model08 |\n",
       "|  9 | accuracy | binary | 0.9467836 | 5 | 0.04077244 | Model09 |\n",
       "|  9 | roc_auc  | binary | 0.9877778 | 5 | 0.01222222 | Model09 |\n",
       "| 10 | accuracy | binary | 0.9467836 | 5 | 0.04077244 | Model10 |\n",
       "| 10 | roc_auc  | binary | 0.9843210 | 5 | 0.01418625 | Model10 |\n",
       "| 11 | accuracy | binary | 0.9678363 | 5 | 0.02120639 | Model11 |\n",
       "| 11 | roc_auc  | binary | 0.9820988 | 5 | 0.01640164 | Model11 |\n",
       "| 12 | accuracy | binary | 0.9678363 | 5 | 0.02120639 | Model12 |\n",
       "| 12 | roc_auc  | binary | 0.9798765 | 5 | 0.01861866 | Model12 |\n",
       "| 13 | accuracy | binary | 0.9573099 | 5 | 0.03074489 | Model13 |\n",
       "| 13 | roc_auc  | binary | 0.9798765 | 5 | 0.01861866 | Model13 |\n",
       "| 14 | accuracy | binary | 0.9573099 | 5 | 0.03074489 | Model14 |\n",
       "| 14 | roc_auc  | binary | 0.9811111 | 5 | 0.01888889 | Model14 |\n",
       "| 15 | accuracy | binary | 0.9573099 | 5 | 0.03074489 | Model15 |\n",
       "| 15 | roc_auc  | binary | 0.9811111 | 5 | 0.01888889 | Model15 |\n",
       "\n"
      ],
      "text/plain": [
       "   neighbors .metric  .estimator mean      n std_err    .config\n",
       "1   1        accuracy binary     0.9350877 5 0.03106028 Model01\n",
       "2   1        roc_auc  binary     0.9333333 5 0.03239418 Model01\n",
       "3   2        accuracy binary     0.9350877 5 0.03106028 Model02\n",
       "4   2        roc_auc  binary     0.9622222 5 0.02619961 Model02\n",
       "5   3        accuracy binary     0.9567251 5 0.01986153 Model03\n",
       "6   3        roc_auc  binary     0.9775309 5 0.01943180 Model03\n",
       "7   4        accuracy binary     0.9567251 5 0.01986153 Model04\n",
       "8   4        roc_auc  binary     0.9753086 5 0.02173681 Model04\n",
       "9   5        accuracy binary     0.9461988 5 0.02883640 Model05\n",
       "10  5        roc_auc  binary     0.9751852 5 0.02050126 Model05\n",
       "11  6        accuracy binary     0.9461988 5 0.02883640 Model06\n",
       "12  6        roc_auc  binary     0.9819753 5 0.01512837 Model06\n",
       "13  7        accuracy binary     0.9573099 5 0.03074489 Model07\n",
       "14  7        roc_auc  binary     0.9808642 5 0.01622647 Model07\n",
       "15  8        accuracy binary     0.9573099 5 0.03074489 Model08\n",
       "16  8        roc_auc  binary     0.9822222 5 0.01777778 Model08\n",
       "17  9        accuracy binary     0.9467836 5 0.04077244 Model09\n",
       "18  9        roc_auc  binary     0.9877778 5 0.01222222 Model09\n",
       "19 10        accuracy binary     0.9467836 5 0.04077244 Model10\n",
       "20 10        roc_auc  binary     0.9843210 5 0.01418625 Model10\n",
       "21 11        accuracy binary     0.9678363 5 0.02120639 Model11\n",
       "22 11        roc_auc  binary     0.9820988 5 0.01640164 Model11\n",
       "23 12        accuracy binary     0.9678363 5 0.02120639 Model12\n",
       "24 12        roc_auc  binary     0.9798765 5 0.01861866 Model12\n",
       "25 13        accuracy binary     0.9573099 5 0.03074489 Model13\n",
       "26 13        roc_auc  binary     0.9798765 5 0.01861866 Model13\n",
       "27 14        accuracy binary     0.9573099 5 0.03074489 Model14\n",
       "28 14        roc_auc  binary     0.9811111 5 0.01888889 Model14\n",
       "29 15        accuracy binary     0.9573099 5 0.03074489 Model15\n",
       "30 15        roc_auc  binary     0.9811111 5 0.01888889 Model15"
      ]
     },
     "metadata": {},
     "output_type": "display_data"
    },
    {
     "data": {
      "text/html": [
       "<table>\n",
       "<caption>A tibble: 2 × 3</caption>\n",
       "<thead>\n",
       "\t<tr><th scope=col>.metric</th><th scope=col>.estimator</th><th scope=col>.estimate</th></tr>\n",
       "\t<tr><th scope=col>&lt;chr&gt;</th><th scope=col>&lt;chr&gt;</th><th scope=col>&lt;dbl&gt;</th></tr>\n",
       "</thead>\n",
       "<tbody>\n",
       "\t<tr><td>accuracy</td><td>binary</td><td>0.8965517</td></tr>\n",
       "\t<tr><td>kap     </td><td>binary</td><td>0.7923628</td></tr>\n",
       "</tbody>\n",
       "</table>\n"
      ],
      "text/latex": [
       "A tibble: 2 × 3\n",
       "\\begin{tabular}{lll}\n",
       " .metric & .estimator & .estimate\\\\\n",
       " <chr> & <chr> & <dbl>\\\\\n",
       "\\hline\n",
       "\t accuracy & binary & 0.8965517\\\\\n",
       "\t kap      & binary & 0.7923628\\\\\n",
       "\\end{tabular}\n"
      ],
      "text/markdown": [
       "\n",
       "A tibble: 2 × 3\n",
       "\n",
       "| .metric &lt;chr&gt; | .estimator &lt;chr&gt; | .estimate &lt;dbl&gt; |\n",
       "|---|---|---|\n",
       "| accuracy | binary | 0.8965517 |\n",
       "| kap      | binary | 0.7923628 |\n",
       "\n"
      ],
      "text/plain": [
       "  .metric  .estimator .estimate\n",
       "1 accuracy binary     0.8965517\n",
       "2 kap      binary     0.7923628"
      ]
     },
     "metadata": {},
     "output_type": "display_data"
    },
    {
     "data": {
      "image/png": "[encoded data removed]",
      "text/plain": [
       "plot without title"
      ]
     },
     "metadata": {
      "image/png": {
       "height": 420,
       "width": 420
      }
     },
     "output_type": "display_data"
    }
   ],
   "source": [
    "Bej_ISI_recipe_scaled <- recipe(Class ~ ISI + RH, data=Bejaia_train) %>%\n",
    "    step_scale(all_predictors()) %>%\n",
    "    step_center(all_predictors())\n",
    "\n",
    "Bej_knn_spec_ISI <- nearest_neighbor(weight_func=\"rectangular\", neighbors=5) %>%\n",
    "    set_engine(\"kknn\") %>%\n",
    "    set_mode(\"classification\")\n",
    "\n",
    "Bej_ISI_Fit <- workflow() %>%\n",
    "    add_recipe(Bej_ISI_recipe_scaled) %>%\n",
    "    add_model(Bej_knn_spec_ISI) %>%\n",
    "    fit(data=Bejaia_train)\n",
    "\n",
    "Bej_vfold_ISI <- vfold_cv(Bejaia_train, v =5 , strata =Class)\n",
    "\n",
    "Bej_knn_spec_tune_ISI<- nearest_neighbor(weight_func = \"rectangular\", neighbors = tune()) %>%\n",
    "  set_engine(\"kknn\") %>%\n",
    "  set_mode(\"classification\")\n",
    "\n",
    "Bej_k_vals_ISI <- tibble(neighbors = seq(from = 1, to = 15, by = 1))\n",
    "\n",
    "Bej_knn_results_tune_ISI <- workflow() %>%\n",
    "  add_recipe(Bej_ISI_recipe_scaled) %>%\n",
    "  add_model(Bej_knn_spec_tune_ISI) %>%\n",
    "  tune_grid(resamples =Bej_vfold_ISI , grid = Bej_k_vals_ISI) %>%\n",
    "  collect_metrics()\n",
    "Bej_knn_results_tune_ISI\n",
    "\n",
    "accuracies_bej_ISI <- Bej_knn_results_tune_ISI %>%\n",
    "  filter(.metric == \"accuracy\")\n",
    "\n",
    "accuracy_vs_k_ISI <- ggplot(accuracies_bej_ISI, aes(x = neighbors, y = mean)) +\n",
    "  geom_point() +\n",
    "  geom_line() +\n",
    "  labs(x = \"Neighbors\", y = \"Accuracy Estimate\")+\n",
    "  scale_x_continuous()\n",
    "accuracy_vs_k_ISI\n",
    "\n",
    "Bej_ISI_prediction <- predict(Bej_ISI_Fit, Bejaia_test) %>%\n",
    "    bind_cols(Bejaia_test)\n",
    "\n",
    "Bej_ISI_prediction_accuracy <- Bej_ISI_prediction %>%\n",
    "    metrics(truth=Class, estimate= .pred_class)\n",
    "Bej_ISI_prediction_accuracy\n",
    "\n"
   ]
  },
  {
   "cell_type": "code",
   "execution_count": 367,
   "metadata": {},
   "outputs": [
    {
     "data": {
      "text/html": [
       "<table>\n",
       "<caption>A tibble: 30 × 7</caption>\n",
       "<thead>\n",
       "\t<tr><th scope=col>neighbors</th><th scope=col>.metric</th><th scope=col>.estimator</th><th scope=col>mean</th><th scope=col>n</th><th scope=col>std_err</th><th scope=col>.config</th></tr>\n",
       "\t<tr><th scope=col>&lt;dbl&gt;</th><th scope=col>&lt;chr&gt;</th><th scope=col>&lt;chr&gt;</th><th scope=col>&lt;dbl&gt;</th><th scope=col>&lt;int&gt;</th><th scope=col>&lt;dbl&gt;</th><th scope=col>&lt;chr&gt;</th></tr>\n",
       "</thead>\n",
       "<tbody>\n",
       "\t<tr><td> 1</td><td>accuracy</td><td>binary</td><td>0.9250774</td><td>5</td><td>0.026621787</td><td>Model01</td></tr>\n",
       "\t<tr><td> 1</td><td>roc_auc </td><td>binary</td><td>0.9170996</td><td>5</td><td>0.035824963</td><td>Model01</td></tr>\n",
       "\t<tr><td> 2</td><td>accuracy</td><td>binary</td><td>0.9250774</td><td>5</td><td>0.026621787</td><td>Model02</td></tr>\n",
       "\t<tr><td> 2</td><td>roc_auc </td><td>binary</td><td>0.9587662</td><td>5</td><td>0.018219465</td><td>Model02</td></tr>\n",
       "\t<tr><td> 3</td><td>accuracy</td><td>binary</td><td>0.9455452</td><td>5</td><td>0.016688973</td><td>Model03</td></tr>\n",
       "\t<tr><td> 3</td><td>roc_auc </td><td>binary</td><td>0.9718615</td><td>5</td><td>0.018944032</td><td>Model03</td></tr>\n",
       "\t<tr><td> 4</td><td>accuracy</td><td>binary</td><td>0.9455452</td><td>5</td><td>0.016688973</td><td>Model04</td></tr>\n",
       "\t<tr><td> 4</td><td>roc_auc </td><td>binary</td><td>0.9718615</td><td>5</td><td>0.018944032</td><td>Model04</td></tr>\n",
       "\t<tr><td> 5</td><td>accuracy</td><td>binary</td><td>0.9455452</td><td>5</td><td>0.016688973</td><td>Model05</td></tr>\n",
       "\t<tr><td> 5</td><td>roc_auc </td><td>binary</td><td>0.9849567</td><td>5</td><td>0.008766234</td><td>Model05</td></tr>\n",
       "\t<tr><td> 6</td><td>accuracy</td><td>binary</td><td>0.9455452</td><td>5</td><td>0.016688973</td><td>Model06</td></tr>\n",
       "\t<tr><td> 6</td><td>roc_auc </td><td>binary</td><td>0.9940476</td><td>5</td><td>0.003764616</td><td>Model06</td></tr>\n",
       "\t<tr><td> 7</td><td>accuracy</td><td>binary</td><td>0.9455452</td><td>5</td><td>0.016688973</td><td>Model07</td></tr>\n",
       "\t<tr><td> 7</td><td>roc_auc </td><td>binary</td><td>0.9913420</td><td>5</td><td>0.004002135</td><td>Model07</td></tr>\n",
       "\t<tr><td> 8</td><td>accuracy</td><td>binary</td><td>0.9455452</td><td>5</td><td>0.016688973</td><td>Model08</td></tr>\n",
       "\t<tr><td> 8</td><td>roc_auc </td><td>binary</td><td>0.9896284</td><td>5</td><td>0.004136849</td><td>Model08</td></tr>\n",
       "\t<tr><td> 9</td><td>accuracy</td><td>binary</td><td>0.9455452</td><td>5</td><td>0.016688973</td><td>Model09</td></tr>\n",
       "\t<tr><td> 9</td><td>roc_auc </td><td>binary</td><td>0.9882395</td><td>5</td><td>0.005552920</td><td>Model09</td></tr>\n",
       "\t<tr><td>10</td><td>accuracy</td><td>binary</td><td>0.9455452</td><td>5</td><td>0.016688973</td><td>Model10</td></tr>\n",
       "\t<tr><td>10</td><td>roc_auc </td><td>binary</td><td>0.9860570</td><td>5</td><td>0.007339275</td><td>Model10</td></tr>\n",
       "\t<tr><td>11</td><td>accuracy</td><td>binary</td><td>0.9455452</td><td>5</td><td>0.016688973</td><td>Model11</td></tr>\n",
       "\t<tr><td>11</td><td>roc_auc </td><td>binary</td><td>0.9847944</td><td>5</td><td>0.006134321</td><td>Model11</td></tr>\n",
       "\t<tr><td>12</td><td>accuracy</td><td>binary</td><td>0.9455452</td><td>5</td><td>0.016688973</td><td>Model12</td></tr>\n",
       "\t<tr><td>12</td><td>roc_auc </td><td>binary</td><td>0.9827381</td><td>5</td><td>0.009888838</td><td>Model12</td></tr>\n",
       "\t<tr><td>13</td><td>accuracy</td><td>binary</td><td>0.9344341</td><td>5</td><td>0.020201339</td><td>Model13</td></tr>\n",
       "\t<tr><td>13</td><td>roc_auc </td><td>binary</td><td>0.9841270</td><td>5</td><td>0.009860931</td><td>Model13</td></tr>\n",
       "\t<tr><td>14</td><td>accuracy</td><td>binary</td><td>0.9344341</td><td>5</td><td>0.020201339</td><td>Model14</td></tr>\n",
       "\t<tr><td>14</td><td>roc_auc </td><td>binary</td><td>0.9826118</td><td>5</td><td>0.009354605</td><td>Model14</td></tr>\n",
       "\t<tr><td>15</td><td>accuracy</td><td>binary</td><td>0.9244926</td><td>5</td><td>0.012187168</td><td>Model15</td></tr>\n",
       "\t<tr><td>15</td><td>roc_auc </td><td>binary</td><td>0.9814214</td><td>5</td><td>0.010510163</td><td>Model15</td></tr>\n",
       "</tbody>\n",
       "</table>\n"
      ],
      "text/latex": [
       "A tibble: 30 × 7\n",
       "\\begin{tabular}{lllllll}\n",
       " neighbors & .metric & .estimator & mean & n & std\\_err & .config\\\\\n",
       " <dbl> & <chr> & <chr> & <dbl> & <int> & <dbl> & <chr>\\\\\n",
       "\\hline\n",
       "\t  1 & accuracy & binary & 0.9250774 & 5 & 0.026621787 & Model01\\\\\n",
       "\t  1 & roc\\_auc  & binary & 0.9170996 & 5 & 0.035824963 & Model01\\\\\n",
       "\t  2 & accuracy & binary & 0.9250774 & 5 & 0.026621787 & Model02\\\\\n",
       "\t  2 & roc\\_auc  & binary & 0.9587662 & 5 & 0.018219465 & Model02\\\\\n",
       "\t  3 & accuracy & binary & 0.9455452 & 5 & 0.016688973 & Model03\\\\\n",
       "\t  3 & roc\\_auc  & binary & 0.9718615 & 5 & 0.018944032 & Model03\\\\\n",
       "\t  4 & accuracy & binary & 0.9455452 & 5 & 0.016688973 & Model04\\\\\n",
       "\t  4 & roc\\_auc  & binary & 0.9718615 & 5 & 0.018944032 & Model04\\\\\n",
       "\t  5 & accuracy & binary & 0.9455452 & 5 & 0.016688973 & Model05\\\\\n",
       "\t  5 & roc\\_auc  & binary & 0.9849567 & 5 & 0.008766234 & Model05\\\\\n",
       "\t  6 & accuracy & binary & 0.9455452 & 5 & 0.016688973 & Model06\\\\\n",
       "\t  6 & roc\\_auc  & binary & 0.9940476 & 5 & 0.003764616 & Model06\\\\\n",
       "\t  7 & accuracy & binary & 0.9455452 & 5 & 0.016688973 & Model07\\\\\n",
       "\t  7 & roc\\_auc  & binary & 0.9913420 & 5 & 0.004002135 & Model07\\\\\n",
       "\t  8 & accuracy & binary & 0.9455452 & 5 & 0.016688973 & Model08\\\\\n",
       "\t  8 & roc\\_auc  & binary & 0.9896284 & 5 & 0.004136849 & Model08\\\\\n",
       "\t  9 & accuracy & binary & 0.9455452 & 5 & 0.016688973 & Model09\\\\\n",
       "\t  9 & roc\\_auc  & binary & 0.9882395 & 5 & 0.005552920 & Model09\\\\\n",
       "\t 10 & accuracy & binary & 0.9455452 & 5 & 0.016688973 & Model10\\\\\n",
       "\t 10 & roc\\_auc  & binary & 0.9860570 & 5 & 0.007339275 & Model10\\\\\n",
       "\t 11 & accuracy & binary & 0.9455452 & 5 & 0.016688973 & Model11\\\\\n",
       "\t 11 & roc\\_auc  & binary & 0.9847944 & 5 & 0.006134321 & Model11\\\\\n",
       "\t 12 & accuracy & binary & 0.9455452 & 5 & 0.016688973 & Model12\\\\\n",
       "\t 12 & roc\\_auc  & binary & 0.9827381 & 5 & 0.009888838 & Model12\\\\\n",
       "\t 13 & accuracy & binary & 0.9344341 & 5 & 0.020201339 & Model13\\\\\n",
       "\t 13 & roc\\_auc  & binary & 0.9841270 & 5 & 0.009860931 & Model13\\\\\n",
       "\t 14 & accuracy & binary & 0.9344341 & 5 & 0.020201339 & Model14\\\\\n",
       "\t 14 & roc\\_auc  & binary & 0.9826118 & 5 & 0.009354605 & Model14\\\\\n",
       "\t 15 & accuracy & binary & 0.9244926 & 5 & 0.012187168 & Model15\\\\\n",
       "\t 15 & roc\\_auc  & binary & 0.9814214 & 5 & 0.010510163 & Model15\\\\\n",
       "\\end{tabular}\n"
      ],
      "text/markdown": [
       "\n",
       "A tibble: 30 × 7\n",
       "\n",
       "| neighbors &lt;dbl&gt; | .metric &lt;chr&gt; | .estimator &lt;chr&gt; | mean &lt;dbl&gt; | n &lt;int&gt; | std_err &lt;dbl&gt; | .config &lt;chr&gt; |\n",
       "|---|---|---|---|---|---|---|\n",
       "|  1 | accuracy | binary | 0.9250774 | 5 | 0.026621787 | Model01 |\n",
       "|  1 | roc_auc  | binary | 0.9170996 | 5 | 0.035824963 | Model01 |\n",
       "|  2 | accuracy | binary | 0.9250774 | 5 | 0.026621787 | Model02 |\n",
       "|  2 | roc_auc  | binary | 0.9587662 | 5 | 0.018219465 | Model02 |\n",
       "|  3 | accuracy | binary | 0.9455452 | 5 | 0.016688973 | Model03 |\n",
       "|  3 | roc_auc  | binary | 0.9718615 | 5 | 0.018944032 | Model03 |\n",
       "|  4 | accuracy | binary | 0.9455452 | 5 | 0.016688973 | Model04 |\n",
       "|  4 | roc_auc  | binary | 0.9718615 | 5 | 0.018944032 | Model04 |\n",
       "|  5 | accuracy | binary | 0.9455452 | 5 | 0.016688973 | Model05 |\n",
       "|  5 | roc_auc  | binary | 0.9849567 | 5 | 0.008766234 | Model05 |\n",
       "|  6 | accuracy | binary | 0.9455452 | 5 | 0.016688973 | Model06 |\n",
       "|  6 | roc_auc  | binary | 0.9940476 | 5 | 0.003764616 | Model06 |\n",
       "|  7 | accuracy | binary | 0.9455452 | 5 | 0.016688973 | Model07 |\n",
       "|  7 | roc_auc  | binary | 0.9913420 | 5 | 0.004002135 | Model07 |\n",
       "|  8 | accuracy | binary | 0.9455452 | 5 | 0.016688973 | Model08 |\n",
       "|  8 | roc_auc  | binary | 0.9896284 | 5 | 0.004136849 | Model08 |\n",
       "|  9 | accuracy | binary | 0.9455452 | 5 | 0.016688973 | Model09 |\n",
       "|  9 | roc_auc  | binary | 0.9882395 | 5 | 0.005552920 | Model09 |\n",
       "| 10 | accuracy | binary | 0.9455452 | 5 | 0.016688973 | Model10 |\n",
       "| 10 | roc_auc  | binary | 0.9860570 | 5 | 0.007339275 | Model10 |\n",
       "| 11 | accuracy | binary | 0.9455452 | 5 | 0.016688973 | Model11 |\n",
       "| 11 | roc_auc  | binary | 0.9847944 | 5 | 0.006134321 | Model11 |\n",
       "| 12 | accuracy | binary | 0.9455452 | 5 | 0.016688973 | Model12 |\n",
       "| 12 | roc_auc  | binary | 0.9827381 | 5 | 0.009888838 | Model12 |\n",
       "| 13 | accuracy | binary | 0.9344341 | 5 | 0.020201339 | Model13 |\n",
       "| 13 | roc_auc  | binary | 0.9841270 | 5 | 0.009860931 | Model13 |\n",
       "| 14 | accuracy | binary | 0.9344341 | 5 | 0.020201339 | Model14 |\n",
       "| 14 | roc_auc  | binary | 0.9826118 | 5 | 0.009354605 | Model14 |\n",
       "| 15 | accuracy | binary | 0.9244926 | 5 | 0.012187168 | Model15 |\n",
       "| 15 | roc_auc  | binary | 0.9814214 | 5 | 0.010510163 | Model15 |\n",
       "\n"
      ],
      "text/plain": [
       "   neighbors .metric  .estimator mean      n std_err     .config\n",
       "1   1        accuracy binary     0.9250774 5 0.026621787 Model01\n",
       "2   1        roc_auc  binary     0.9170996 5 0.035824963 Model01\n",
       "3   2        accuracy binary     0.9250774 5 0.026621787 Model02\n",
       "4   2        roc_auc  binary     0.9587662 5 0.018219465 Model02\n",
       "5   3        accuracy binary     0.9455452 5 0.016688973 Model03\n",
       "6   3        roc_auc  binary     0.9718615 5 0.018944032 Model03\n",
       "7   4        accuracy binary     0.9455452 5 0.016688973 Model04\n",
       "8   4        roc_auc  binary     0.9718615 5 0.018944032 Model04\n",
       "9   5        accuracy binary     0.9455452 5 0.016688973 Model05\n",
       "10  5        roc_auc  binary     0.9849567 5 0.008766234 Model05\n",
       "11  6        accuracy binary     0.9455452 5 0.016688973 Model06\n",
       "12  6        roc_auc  binary     0.9940476 5 0.003764616 Model06\n",
       "13  7        accuracy binary     0.9455452 5 0.016688973 Model07\n",
       "14  7        roc_auc  binary     0.9913420 5 0.004002135 Model07\n",
       "15  8        accuracy binary     0.9455452 5 0.016688973 Model08\n",
       "16  8        roc_auc  binary     0.9896284 5 0.004136849 Model08\n",
       "17  9        accuracy binary     0.9455452 5 0.016688973 Model09\n",
       "18  9        roc_auc  binary     0.9882395 5 0.005552920 Model09\n",
       "19 10        accuracy binary     0.9455452 5 0.016688973 Model10\n",
       "20 10        roc_auc  binary     0.9860570 5 0.007339275 Model10\n",
       "21 11        accuracy binary     0.9455452 5 0.016688973 Model11\n",
       "22 11        roc_auc  binary     0.9847944 5 0.006134321 Model11\n",
       "23 12        accuracy binary     0.9455452 5 0.016688973 Model12\n",
       "24 12        roc_auc  binary     0.9827381 5 0.009888838 Model12\n",
       "25 13        accuracy binary     0.9344341 5 0.020201339 Model13\n",
       "26 13        roc_auc  binary     0.9841270 5 0.009860931 Model13\n",
       "27 14        accuracy binary     0.9344341 5 0.020201339 Model14\n",
       "28 14        roc_auc  binary     0.9826118 5 0.009354605 Model14\n",
       "29 15        accuracy binary     0.9244926 5 0.012187168 Model15\n",
       "30 15        roc_auc  binary     0.9814214 5 0.010510163 Model15"
      ]
     },
     "metadata": {},
     "output_type": "display_data"
    },
    {
     "data": {
      "text/html": [
       "<table>\n",
       "<caption>A tibble: 2 × 3</caption>\n",
       "<thead>\n",
       "\t<tr><th scope=col>.metric</th><th scope=col>.estimator</th><th scope=col>.estimate</th></tr>\n",
       "\t<tr><th scope=col>&lt;chr&gt;</th><th scope=col>&lt;chr&gt;</th><th scope=col>&lt;dbl&gt;</th></tr>\n",
       "</thead>\n",
       "<tbody>\n",
       "\t<tr><td>accuracy</td><td>binary</td><td>0.9310345</td></tr>\n",
       "\t<tr><td>kap     </td><td>binary</td><td>0.8542714</td></tr>\n",
       "</tbody>\n",
       "</table>\n"
      ],
      "text/latex": [
       "A tibble: 2 × 3\n",
       "\\begin{tabular}{lll}\n",
       " .metric & .estimator & .estimate\\\\\n",
       " <chr> & <chr> & <dbl>\\\\\n",
       "\\hline\n",
       "\t accuracy & binary & 0.9310345\\\\\n",
       "\t kap      & binary & 0.8542714\\\\\n",
       "\\end{tabular}\n"
      ],
      "text/markdown": [
       "\n",
       "A tibble: 2 × 3\n",
       "\n",
       "| .metric &lt;chr&gt; | .estimator &lt;chr&gt; | .estimate &lt;dbl&gt; |\n",
       "|---|---|---|\n",
       "| accuracy | binary | 0.9310345 |\n",
       "| kap      | binary | 0.8542714 |\n",
       "\n"
      ],
      "text/plain": [
       "  .metric  .estimator .estimate\n",
       "1 accuracy binary     0.9310345\n",
       "2 kap      binary     0.8542714"
      ]
     },
     "metadata": {},
     "output_type": "display_data"
    },
    {
     "data": {
      "image/png": "[encoded data removed]",
      "text/plain": [
       "plot without title"
      ]
     },
     "metadata": {
      "image/png": {
       "height": 420,
       "width": 420
      }
     },
     "output_type": "display_data"
    }
   ],
   "source": [
    "Sidi_ISI_recipe_scaled <- recipe(Classes ~ ISI + RH, data=Sidi_Bel_Abbes_train) %>%\n",
    "    step_scale(all_predictors()) %>%\n",
    "    step_center(all_predictors())\n",
    "\n",
    "Bej_knn_spec_ISI <- nearest_neighbor(weight_func=\"rectangular\", neighbors=5) %>%\n",
    "    set_engine(\"kknn\") %>%\n",
    "    set_mode(\"classification\")\n",
    "\n",
    "Bej_ISI_Fit <- workflow() %>%\n",
    "    add_recipe(Bej_ISI_recipe_scaled) %>%\n",
    "    add_model(Bej_knn_spec_ISI) %>%\n",
    "    fit(data=Bejaia_train)\n",
    "\n",
    "\n",
    "Sidi_vfold_ISI <- vfold_cv(Sidi_Bel_Abbes_train, v =5 , strata =Classes)\n",
    "\n",
    "Sidi_knn_spec_tune_ISI<- nearest_neighbor(weight_func = \"rectangular\", neighbors = tune()) %>%\n",
    "  set_engine(\"kknn\") %>%\n",
    "  set_mode(\"classification\")\n",
    "\n",
    "Sidi_k_vals_ISI <- tibble(neighbors = seq(from = 1, to = 15, by = 1))\n",
    "\n",
    "Sidi_knn_results_tune_ISI <- workflow() %>%\n",
    "  add_recipe(Sidi_ISI_recipe_scaled) %>%\n",
    "  add_model(Sidi_knn_spec_tune_ISI) %>%\n",
    "  tune_grid(resamples =Sidi_vfold_ISI , grid = Sidi_k_vals_ISI) %>%\n",
    "  collect_metrics()\n",
    "Sidi_knn_results_tune_ISI\n",
    "\n",
    "accuracies_Sidi_ISI <- Sidi_knn_results_tune_ISI %>%\n",
    "  filter(.metric == \"accuracy\")\n",
    "\n",
    "Sidi_accuracy_vs_k_ISI <- ggplot(accuracies_Sidi_ISI, aes(x = neighbors, y = mean)) +\n",
    "  geom_point() +\n",
    "  geom_line() +\n",
    "  labs(x = \"Neighbors\", y = \"Accuracy Estimate\")+\n",
    "  scale_x_continuous()\n",
    "Sidi_accuracy_vs_k_ISI\n",
    "\n",
    "Sidi_ISI_prediction <- predict(Sidi_ISI_Fit, Sidi_Bel_Abbes_test ) %>%\n",
    "    bind_cols(Sidi_Bel_Abbes_test)\n",
    "\n",
    "Sidi_ISI_prediction_accuracy <- Sidi_ISI_prediction %>%\n",
    "    metrics(truth=Classes, estimate= .pred_class)\n",
    "Sidi_ISI_prediction_accuracy\n"
   ]
  },
  {
   "cell_type": "code",
   "execution_count": 368,
   "metadata": {},
   "outputs": [
    {
     "data": {
      "text/html": [
       "<table>\n",
       "<caption>A tibble: 30 × 7</caption>\n",
       "<thead>\n",
       "\t<tr><th scope=col>neighbors</th><th scope=col>.metric</th><th scope=col>.estimator</th><th scope=col>mean</th><th scope=col>n</th><th scope=col>std_err</th><th scope=col>.config</th></tr>\n",
       "\t<tr><th scope=col>&lt;dbl&gt;</th><th scope=col>&lt;chr&gt;</th><th scope=col>&lt;chr&gt;</th><th scope=col>&lt;dbl&gt;</th><th scope=col>&lt;int&gt;</th><th scope=col>&lt;dbl&gt;</th><th scope=col>&lt;chr&gt;</th></tr>\n",
       "</thead>\n",
       "<tbody>\n",
       "\t<tr><td> 1</td><td>accuracy</td><td>binary</td><td>0.8157895</td><td>5</td><td>0.02984749</td><td>Model01</td></tr>\n",
       "\t<tr><td> 1</td><td>roc_auc </td><td>binary</td><td>0.8155556</td><td>5</td><td>0.02931312</td><td>Model01</td></tr>\n",
       "\t<tr><td> 2</td><td>accuracy</td><td>binary</td><td>0.8157895</td><td>5</td><td>0.02984749</td><td>Model02</td></tr>\n",
       "\t<tr><td> 2</td><td>roc_auc </td><td>binary</td><td>0.8525926</td><td>5</td><td>0.02143176</td><td>Model02</td></tr>\n",
       "\t<tr><td> 3</td><td>accuracy</td><td>binary</td><td>0.8590643</td><td>5</td><td>0.02883343</td><td>Model03</td></tr>\n",
       "\t<tr><td> 3</td><td>roc_auc </td><td>binary</td><td>0.8777778</td><td>5</td><td>0.03568734</td><td>Model03</td></tr>\n",
       "\t<tr><td> 4</td><td>accuracy</td><td>binary</td><td>0.8590643</td><td>5</td><td>0.02883343</td><td>Model04</td></tr>\n",
       "\t<tr><td> 4</td><td>roc_auc </td><td>binary</td><td>0.8669136</td><td>5</td><td>0.03253596</td><td>Model04</td></tr>\n",
       "\t<tr><td> 5</td><td>accuracy</td><td>binary</td><td>0.8485380</td><td>5</td><td>0.02184976</td><td>Model05</td></tr>\n",
       "\t<tr><td> 5</td><td>roc_auc </td><td>binary</td><td>0.8922222</td><td>5</td><td>0.03372970</td><td>Model05</td></tr>\n",
       "\t<tr><td> 6</td><td>accuracy</td><td>binary</td><td>0.8485380</td><td>5</td><td>0.02184976</td><td>Model06</td></tr>\n",
       "\t<tr><td> 6</td><td>roc_auc </td><td>binary</td><td>0.9027160</td><td>5</td><td>0.03846556</td><td>Model06</td></tr>\n",
       "\t<tr><td> 7</td><td>accuracy</td><td>binary</td><td>0.8380117</td><td>5</td><td>0.01857588</td><td>Model07</td></tr>\n",
       "\t<tr><td> 7</td><td>roc_auc </td><td>binary</td><td>0.8993827</td><td>5</td><td>0.03566278</td><td>Model07</td></tr>\n",
       "\t<tr><td> 8</td><td>accuracy</td><td>binary</td><td>0.8380117</td><td>5</td><td>0.01857588</td><td>Model08</td></tr>\n",
       "\t<tr><td> 8</td><td>roc_auc </td><td>binary</td><td>0.9002469</td><td>5</td><td>0.03765614</td><td>Model08</td></tr>\n",
       "\t<tr><td> 9</td><td>accuracy</td><td>binary</td><td>0.8485380</td><td>5</td><td>0.02746671</td><td>Model09</td></tr>\n",
       "\t<tr><td> 9</td><td>roc_auc </td><td>binary</td><td>0.9108642</td><td>5</td><td>0.03367373</td><td>Model09</td></tr>\n",
       "\t<tr><td>10</td><td>accuracy</td><td>binary</td><td>0.8485380</td><td>5</td><td>0.02746671</td><td>Model10</td></tr>\n",
       "\t<tr><td>10</td><td>roc_auc </td><td>binary</td><td>0.9048148</td><td>5</td><td>0.03843375</td><td>Model10</td></tr>\n",
       "\t<tr><td>11</td><td>accuracy</td><td>binary</td><td>0.8485380</td><td>5</td><td>0.02746671</td><td>Model11</td></tr>\n",
       "\t<tr><td>11</td><td>roc_auc </td><td>binary</td><td>0.8954321</td><td>5</td><td>0.04004817</td><td>Model11</td></tr>\n",
       "\t<tr><td>12</td><td>accuracy</td><td>binary</td><td>0.8485380</td><td>5</td><td>0.02746671</td><td>Model12</td></tr>\n",
       "\t<tr><td>12</td><td>roc_auc </td><td>binary</td><td>0.8965432</td><td>5</td><td>0.03717956</td><td>Model12</td></tr>\n",
       "\t<tr><td>13</td><td>accuracy</td><td>binary</td><td>0.8274854</td><td>5</td><td>0.02084039</td><td>Model13</td></tr>\n",
       "\t<tr><td>13</td><td>roc_auc </td><td>binary</td><td>0.8953086</td><td>5</td><td>0.03675126</td><td>Model13</td></tr>\n",
       "\t<tr><td>14</td><td>accuracy</td><td>binary</td><td>0.8274854</td><td>5</td><td>0.02084039</td><td>Model14</td></tr>\n",
       "\t<tr><td>14</td><td>roc_auc </td><td>binary</td><td>0.9029630</td><td>5</td><td>0.03785234</td><td>Model14</td></tr>\n",
       "\t<tr><td>15</td><td>accuracy</td><td>binary</td><td>0.8473684</td><td>5</td><td>0.04501785</td><td>Model15</td></tr>\n",
       "\t<tr><td>15</td><td>roc_auc </td><td>binary</td><td>0.9085185</td><td>5</td><td>0.03843969</td><td>Model15</td></tr>\n",
       "</tbody>\n",
       "</table>\n"
      ],
      "text/latex": [
       "A tibble: 30 × 7\n",
       "\\begin{tabular}{lllllll}\n",
       " neighbors & .metric & .estimator & mean & n & std\\_err & .config\\\\\n",
       " <dbl> & <chr> & <chr> & <dbl> & <int> & <dbl> & <chr>\\\\\n",
       "\\hline\n",
       "\t  1 & accuracy & binary & 0.8157895 & 5 & 0.02984749 & Model01\\\\\n",
       "\t  1 & roc\\_auc  & binary & 0.8155556 & 5 & 0.02931312 & Model01\\\\\n",
       "\t  2 & accuracy & binary & 0.8157895 & 5 & 0.02984749 & Model02\\\\\n",
       "\t  2 & roc\\_auc  & binary & 0.8525926 & 5 & 0.02143176 & Model02\\\\\n",
       "\t  3 & accuracy & binary & 0.8590643 & 5 & 0.02883343 & Model03\\\\\n",
       "\t  3 & roc\\_auc  & binary & 0.8777778 & 5 & 0.03568734 & Model03\\\\\n",
       "\t  4 & accuracy & binary & 0.8590643 & 5 & 0.02883343 & Model04\\\\\n",
       "\t  4 & roc\\_auc  & binary & 0.8669136 & 5 & 0.03253596 & Model04\\\\\n",
       "\t  5 & accuracy & binary & 0.8485380 & 5 & 0.02184976 & Model05\\\\\n",
       "\t  5 & roc\\_auc  & binary & 0.8922222 & 5 & 0.03372970 & Model05\\\\\n",
       "\t  6 & accuracy & binary & 0.8485380 & 5 & 0.02184976 & Model06\\\\\n",
       "\t  6 & roc\\_auc  & binary & 0.9027160 & 5 & 0.03846556 & Model06\\\\\n",
       "\t  7 & accuracy & binary & 0.8380117 & 5 & 0.01857588 & Model07\\\\\n",
       "\t  7 & roc\\_auc  & binary & 0.8993827 & 5 & 0.03566278 & Model07\\\\\n",
       "\t  8 & accuracy & binary & 0.8380117 & 5 & 0.01857588 & Model08\\\\\n",
       "\t  8 & roc\\_auc  & binary & 0.9002469 & 5 & 0.03765614 & Model08\\\\\n",
       "\t  9 & accuracy & binary & 0.8485380 & 5 & 0.02746671 & Model09\\\\\n",
       "\t  9 & roc\\_auc  & binary & 0.9108642 & 5 & 0.03367373 & Model09\\\\\n",
       "\t 10 & accuracy & binary & 0.8485380 & 5 & 0.02746671 & Model10\\\\\n",
       "\t 10 & roc\\_auc  & binary & 0.9048148 & 5 & 0.03843375 & Model10\\\\\n",
       "\t 11 & accuracy & binary & 0.8485380 & 5 & 0.02746671 & Model11\\\\\n",
       "\t 11 & roc\\_auc  & binary & 0.8954321 & 5 & 0.04004817 & Model11\\\\\n",
       "\t 12 & accuracy & binary & 0.8485380 & 5 & 0.02746671 & Model12\\\\\n",
       "\t 12 & roc\\_auc  & binary & 0.8965432 & 5 & 0.03717956 & Model12\\\\\n",
       "\t 13 & accuracy & binary & 0.8274854 & 5 & 0.02084039 & Model13\\\\\n",
       "\t 13 & roc\\_auc  & binary & 0.8953086 & 5 & 0.03675126 & Model13\\\\\n",
       "\t 14 & accuracy & binary & 0.8274854 & 5 & 0.02084039 & Model14\\\\\n",
       "\t 14 & roc\\_auc  & binary & 0.9029630 & 5 & 0.03785234 & Model14\\\\\n",
       "\t 15 & accuracy & binary & 0.8473684 & 5 & 0.04501785 & Model15\\\\\n",
       "\t 15 & roc\\_auc  & binary & 0.9085185 & 5 & 0.03843969 & Model15\\\\\n",
       "\\end{tabular}\n"
      ],
      "text/markdown": [
       "\n",
       "A tibble: 30 × 7\n",
       "\n",
       "| neighbors &lt;dbl&gt; | .metric &lt;chr&gt; | .estimator &lt;chr&gt; | mean &lt;dbl&gt; | n &lt;int&gt; | std_err &lt;dbl&gt; | .config &lt;chr&gt; |\n",
       "|---|---|---|---|---|---|---|\n",
       "|  1 | accuracy | binary | 0.8157895 | 5 | 0.02984749 | Model01 |\n",
       "|  1 | roc_auc  | binary | 0.8155556 | 5 | 0.02931312 | Model01 |\n",
       "|  2 | accuracy | binary | 0.8157895 | 5 | 0.02984749 | Model02 |\n",
       "|  2 | roc_auc  | binary | 0.8525926 | 5 | 0.02143176 | Model02 |\n",
       "|  3 | accuracy | binary | 0.8590643 | 5 | 0.02883343 | Model03 |\n",
       "|  3 | roc_auc  | binary | 0.8777778 | 5 | 0.03568734 | Model03 |\n",
       "|  4 | accuracy | binary | 0.8590643 | 5 | 0.02883343 | Model04 |\n",
       "|  4 | roc_auc  | binary | 0.8669136 | 5 | 0.03253596 | Model04 |\n",
       "|  5 | accuracy | binary | 0.8485380 | 5 | 0.02184976 | Model05 |\n",
       "|  5 | roc_auc  | binary | 0.8922222 | 5 | 0.03372970 | Model05 |\n",
       "|  6 | accuracy | binary | 0.8485380 | 5 | 0.02184976 | Model06 |\n",
       "|  6 | roc_auc  | binary | 0.9027160 | 5 | 0.03846556 | Model06 |\n",
       "|  7 | accuracy | binary | 0.8380117 | 5 | 0.01857588 | Model07 |\n",
       "|  7 | roc_auc  | binary | 0.8993827 | 5 | 0.03566278 | Model07 |\n",
       "|  8 | accuracy | binary | 0.8380117 | 5 | 0.01857588 | Model08 |\n",
       "|  8 | roc_auc  | binary | 0.9002469 | 5 | 0.03765614 | Model08 |\n",
       "|  9 | accuracy | binary | 0.8485380 | 5 | 0.02746671 | Model09 |\n",
       "|  9 | roc_auc  | binary | 0.9108642 | 5 | 0.03367373 | Model09 |\n",
       "| 10 | accuracy | binary | 0.8485380 | 5 | 0.02746671 | Model10 |\n",
       "| 10 | roc_auc  | binary | 0.9048148 | 5 | 0.03843375 | Model10 |\n",
       "| 11 | accuracy | binary | 0.8485380 | 5 | 0.02746671 | Model11 |\n",
       "| 11 | roc_auc  | binary | 0.8954321 | 5 | 0.04004817 | Model11 |\n",
       "| 12 | accuracy | binary | 0.8485380 | 5 | 0.02746671 | Model12 |\n",
       "| 12 | roc_auc  | binary | 0.8965432 | 5 | 0.03717956 | Model12 |\n",
       "| 13 | accuracy | binary | 0.8274854 | 5 | 0.02084039 | Model13 |\n",
       "| 13 | roc_auc  | binary | 0.8953086 | 5 | 0.03675126 | Model13 |\n",
       "| 14 | accuracy | binary | 0.8274854 | 5 | 0.02084039 | Model14 |\n",
       "| 14 | roc_auc  | binary | 0.9029630 | 5 | 0.03785234 | Model14 |\n",
       "| 15 | accuracy | binary | 0.8473684 | 5 | 0.04501785 | Model15 |\n",
       "| 15 | roc_auc  | binary | 0.9085185 | 5 | 0.03843969 | Model15 |\n",
       "\n"
      ],
      "text/plain": [
       "   neighbors .metric  .estimator mean      n std_err    .config\n",
       "1   1        accuracy binary     0.8157895 5 0.02984749 Model01\n",
       "2   1        roc_auc  binary     0.8155556 5 0.02931312 Model01\n",
       "3   2        accuracy binary     0.8157895 5 0.02984749 Model02\n",
       "4   2        roc_auc  binary     0.8525926 5 0.02143176 Model02\n",
       "5   3        accuracy binary     0.8590643 5 0.02883343 Model03\n",
       "6   3        roc_auc  binary     0.8777778 5 0.03568734 Model03\n",
       "7   4        accuracy binary     0.8590643 5 0.02883343 Model04\n",
       "8   4        roc_auc  binary     0.8669136 5 0.03253596 Model04\n",
       "9   5        accuracy binary     0.8485380 5 0.02184976 Model05\n",
       "10  5        roc_auc  binary     0.8922222 5 0.03372970 Model05\n",
       "11  6        accuracy binary     0.8485380 5 0.02184976 Model06\n",
       "12  6        roc_auc  binary     0.9027160 5 0.03846556 Model06\n",
       "13  7        accuracy binary     0.8380117 5 0.01857588 Model07\n",
       "14  7        roc_auc  binary     0.8993827 5 0.03566278 Model07\n",
       "15  8        accuracy binary     0.8380117 5 0.01857588 Model08\n",
       "16  8        roc_auc  binary     0.9002469 5 0.03765614 Model08\n",
       "17  9        accuracy binary     0.8485380 5 0.02746671 Model09\n",
       "18  9        roc_auc  binary     0.9108642 5 0.03367373 Model09\n",
       "19 10        accuracy binary     0.8485380 5 0.02746671 Model10\n",
       "20 10        roc_auc  binary     0.9048148 5 0.03843375 Model10\n",
       "21 11        accuracy binary     0.8485380 5 0.02746671 Model11\n",
       "22 11        roc_auc  binary     0.8954321 5 0.04004817 Model11\n",
       "23 12        accuracy binary     0.8485380 5 0.02746671 Model12\n",
       "24 12        roc_auc  binary     0.8965432 5 0.03717956 Model12\n",
       "25 13        accuracy binary     0.8274854 5 0.02084039 Model13\n",
       "26 13        roc_auc  binary     0.8953086 5 0.03675126 Model13\n",
       "27 14        accuracy binary     0.8274854 5 0.02084039 Model14\n",
       "28 14        roc_auc  binary     0.9029630 5 0.03785234 Model14\n",
       "29 15        accuracy binary     0.8473684 5 0.04501785 Model15\n",
       "30 15        roc_auc  binary     0.9085185 5 0.03843969 Model15"
      ]
     },
     "metadata": {},
     "output_type": "display_data"
    },
    {
     "data": {
      "text/html": [
       "<table>\n",
       "<caption>A tibble: 2 × 3</caption>\n",
       "<thead>\n",
       "\t<tr><th scope=col>.metric</th><th scope=col>.estimator</th><th scope=col>.estimate</th></tr>\n",
       "\t<tr><th scope=col>&lt;chr&gt;</th><th scope=col>&lt;chr&gt;</th><th scope=col>&lt;dbl&gt;</th></tr>\n",
       "</thead>\n",
       "<tbody>\n",
       "\t<tr><td>accuracy</td><td>binary</td><td>0.6896552</td></tr>\n",
       "\t<tr><td>kap     </td><td>binary</td><td>0.3800475</td></tr>\n",
       "</tbody>\n",
       "</table>\n"
      ],
      "text/latex": [
       "A tibble: 2 × 3\n",
       "\\begin{tabular}{lll}\n",
       " .metric & .estimator & .estimate\\\\\n",
       " <chr> & <chr> & <dbl>\\\\\n",
       "\\hline\n",
       "\t accuracy & binary & 0.6896552\\\\\n",
       "\t kap      & binary & 0.3800475\\\\\n",
       "\\end{tabular}\n"
      ],
      "text/markdown": [
       "\n",
       "A tibble: 2 × 3\n",
       "\n",
       "| .metric &lt;chr&gt; | .estimator &lt;chr&gt; | .estimate &lt;dbl&gt; |\n",
       "|---|---|---|\n",
       "| accuracy | binary | 0.6896552 |\n",
       "| kap      | binary | 0.3800475 |\n",
       "\n"
      ],
      "text/plain": [
       "  .metric  .estimator .estimate\n",
       "1 accuracy binary     0.6896552\n",
       "2 kap      binary     0.3800475"
      ]
     },
     "metadata": {},
     "output_type": "display_data"
    },
    {
     "data": {
      "image/png": "[encoded data removed]",
      "text/plain": [
       "plot without title"
      ]
     },
     "metadata": {
      "image/png": {
       "height": 420,
       "width": 420
      }
     },
     "output_type": "display_data"
    }
   ],
   "source": [
    "Bej_DC_recipe_scaled <- recipe(Class ~ DC + RH, data=Bejaia_train) %>%\n",
    "    step_scale(all_predictors()) %>%\n",
    "    step_center(all_predictors())\n",
    "\n",
    "Bej_knn_spec_DC <- nearest_neighbor(weight_func=\"rectangular\", neighbors=5) %>%\n",
    "    set_engine(\"kknn\") %>%\n",
    "    set_mode(\"classification\")\n",
    "\n",
    "Bej_DC_Fit <- workflow() %>%\n",
    "    add_recipe(Bej_DC_recipe_scaled) %>%\n",
    "    add_model(Bej_knn_spec_DC) %>%\n",
    "    fit(data=Bejaia_train)\n",
    "\n",
    "Bej_vfold_DC <- vfold_cv(Bejaia_train, v =5 , strata =Class)\n",
    "\n",
    "Bej_knn_spec_tune_DC<- nearest_neighbor(weight_func = \"rectangular\", neighbors = tune()) %>%\n",
    "  set_engine(\"kknn\") %>%\n",
    "  set_mode(\"classification\")\n",
    "\n",
    "Bej_k_vals_DC <- tibble(neighbors = seq(from = 1, to = 15, by = 1))\n",
    "\n",
    "Bej_knn_results_tune_DC <- workflow() %>%\n",
    "  add_recipe(Bej_DC_recipe_scaled) %>%\n",
    "  add_model(Bej_knn_spec_tune_DC) %>%\n",
    "  tune_grid(resamples =Bej_vfold_DC , grid = Bej_k_vals_DC) %>%\n",
    "  collect_metrics()\n",
    "Bej_knn_results_tune_DC\n",
    "\n",
    "accuracies_bej_DC<- Bej_knn_results_tune_DC %>%\n",
    "  filter(.metric == \"accuracy\")\n",
    "\n",
    "accuracy_vs_k_DC <- ggplot(accuracies_bej_DC, aes(x = neighbors, y = mean)) +\n",
    "  geom_point() +\n",
    "  geom_line() +\n",
    "  labs(x = \"Neighbors\", y = \"Accuracy Estimate\")+\n",
    "  scale_x_continuous()\n",
    "accuracy_vs_k_DC\n",
    "\n",
    "Bej_DC_prediction <- predict(Bej_DC_Fit, Bejaia_test) %>%\n",
    "    bind_cols(Bejaia_test)\n",
    "\n",
    "Bej_DC_prediction_accuracy <- Bej_DC_prediction %>%\n",
    "    metrics(truth=Class, estimate= .pred_class)\n",
    "Bej_DC_prediction_accuracy\n"
   ]
  },
  {
   "cell_type": "code",
   "execution_count": 369,
   "metadata": {},
   "outputs": [
    {
     "data": {
      "text/html": [
       "<table>\n",
       "<caption>A tibble: 30 × 7</caption>\n",
       "<thead>\n",
       "\t<tr><th scope=col>neighbors</th><th scope=col>.metric</th><th scope=col>.estimator</th><th scope=col>mean</th><th scope=col>n</th><th scope=col>std_err</th><th scope=col>.config</th></tr>\n",
       "\t<tr><th scope=col>&lt;dbl&gt;</th><th scope=col>&lt;chr&gt;</th><th scope=col>&lt;chr&gt;</th><th scope=col>&lt;dbl&gt;</th><th scope=col>&lt;int&gt;</th><th scope=col>&lt;dbl&gt;</th><th scope=col>&lt;chr&gt;</th></tr>\n",
       "</thead>\n",
       "<tbody>\n",
       "\t<tr><td> 1</td><td>accuracy</td><td>binary</td><td>0.7957688</td><td>5</td><td>0.04668676</td><td>Model01</td></tr>\n",
       "\t<tr><td> 1</td><td>roc_auc </td><td>binary</td><td>0.7920996</td><td>5</td><td>0.03920357</td><td>Model01</td></tr>\n",
       "\t<tr><td> 2</td><td>accuracy</td><td>binary</td><td>0.7957688</td><td>5</td><td>0.04668676</td><td>Model02</td></tr>\n",
       "\t<tr><td> 2</td><td>roc_auc </td><td>binary</td><td>0.8683983</td><td>5</td><td>0.03763893</td><td>Model02</td></tr>\n",
       "\t<tr><td> 3</td><td>accuracy</td><td>binary</td><td>0.8607499</td><td>5</td><td>0.05607909</td><td>Model03</td></tr>\n",
       "\t<tr><td> 3</td><td>roc_auc </td><td>binary</td><td>0.8537879</td><td>5</td><td>0.04320351</td><td>Model03</td></tr>\n",
       "\t<tr><td> 4</td><td>accuracy</td><td>binary</td><td>0.8607499</td><td>5</td><td>0.05607909</td><td>Model04</td></tr>\n",
       "\t<tr><td> 4</td><td>roc_auc </td><td>binary</td><td>0.8661616</td><td>5</td><td>0.04992885</td><td>Model04</td></tr>\n",
       "\t<tr><td> 5</td><td>accuracy</td><td>binary</td><td>0.8391125</td><td>5</td><td>0.04930945</td><td>Model05</td></tr>\n",
       "\t<tr><td> 5</td><td>roc_auc </td><td>binary</td><td>0.8786797</td><td>5</td><td>0.04504343</td><td>Model05</td></tr>\n",
       "\t<tr><td> 6</td><td>accuracy</td><td>binary</td><td>0.8391125</td><td>5</td><td>0.04930945</td><td>Model06</td></tr>\n",
       "\t<tr><td> 6</td><td>roc_auc </td><td>binary</td><td>0.8874459</td><td>5</td><td>0.04895287</td><td>Model06</td></tr>\n",
       "\t<tr><td> 7</td><td>accuracy</td><td>binary</td><td>0.8712762</td><td>5</td><td>0.05367056</td><td>Model07</td></tr>\n",
       "\t<tr><td> 7</td><td>roc_auc </td><td>binary</td><td>0.8869769</td><td>5</td><td>0.04857121</td><td>Model07</td></tr>\n",
       "\t<tr><td> 8</td><td>accuracy</td><td>binary</td><td>0.8712762</td><td>5</td><td>0.05367056</td><td>Model08</td></tr>\n",
       "\t<tr><td> 8</td><td>roc_auc </td><td>binary</td><td>0.8810245</td><td>5</td><td>0.04837851</td><td>Model08</td></tr>\n",
       "\t<tr><td> 9</td><td>accuracy</td><td>binary</td><td>0.8601651</td><td>5</td><td>0.05390861</td><td>Model09</td></tr>\n",
       "\t<tr><td> 9</td><td>roc_auc </td><td>binary</td><td>0.8784452</td><td>5</td><td>0.04962631</td><td>Model09</td></tr>\n",
       "\t<tr><td>10</td><td>accuracy</td><td>binary</td><td>0.8601651</td><td>5</td><td>0.05390861</td><td>Model10</td></tr>\n",
       "\t<tr><td>10</td><td>roc_auc </td><td>binary</td><td>0.8890873</td><td>5</td><td>0.04815587</td><td>Model10</td></tr>\n",
       "\t<tr><td>11</td><td>accuracy</td><td>binary</td><td>0.8601651</td><td>5</td><td>0.05390861</td><td>Model11</td></tr>\n",
       "\t<tr><td>11</td><td>roc_auc </td><td>binary</td><td>0.9061508</td><td>5</td><td>0.04078045</td><td>Model11</td></tr>\n",
       "\t<tr><td>12</td><td>accuracy</td><td>binary</td><td>0.8601651</td><td>5</td><td>0.05390861</td><td>Model12</td></tr>\n",
       "\t<tr><td>12</td><td>roc_auc </td><td>binary</td><td>0.9133658</td><td>5</td><td>0.03780338</td><td>Model12</td></tr>\n",
       "\t<tr><td>13</td><td>accuracy</td><td>binary</td><td>0.8601651</td><td>5</td><td>0.05390861</td><td>Model13</td></tr>\n",
       "\t<tr><td>13</td><td>roc_auc </td><td>binary</td><td>0.9176046</td><td>5</td><td>0.03501785</td><td>Model13</td></tr>\n",
       "\t<tr><td>14</td><td>accuracy</td><td>binary</td><td>0.8601651</td><td>5</td><td>0.05390861</td><td>Model14</td></tr>\n",
       "\t<tr><td>14</td><td>roc_auc </td><td>binary</td><td>0.9009380</td><td>5</td><td>0.04425237</td><td>Model14</td></tr>\n",
       "\t<tr><td>15</td><td>accuracy</td><td>binary</td><td>0.8379429</td><td>5</td><td>0.06081197</td><td>Model15</td></tr>\n",
       "\t<tr><td>15</td><td>roc_auc </td><td>binary</td><td>0.8977633</td><td>5</td><td>0.04367111</td><td>Model15</td></tr>\n",
       "</tbody>\n",
       "</table>\n"
      ],
      "text/latex": [
       "A tibble: 30 × 7\n",
       "\\begin{tabular}{lllllll}\n",
       " neighbors & .metric & .estimator & mean & n & std\\_err & .config\\\\\n",
       " <dbl> & <chr> & <chr> & <dbl> & <int> & <dbl> & <chr>\\\\\n",
       "\\hline\n",
       "\t  1 & accuracy & binary & 0.7957688 & 5 & 0.04668676 & Model01\\\\\n",
       "\t  1 & roc\\_auc  & binary & 0.7920996 & 5 & 0.03920357 & Model01\\\\\n",
       "\t  2 & accuracy & binary & 0.7957688 & 5 & 0.04668676 & Model02\\\\\n",
       "\t  2 & roc\\_auc  & binary & 0.8683983 & 5 & 0.03763893 & Model02\\\\\n",
       "\t  3 & accuracy & binary & 0.8607499 & 5 & 0.05607909 & Model03\\\\\n",
       "\t  3 & roc\\_auc  & binary & 0.8537879 & 5 & 0.04320351 & Model03\\\\\n",
       "\t  4 & accuracy & binary & 0.8607499 & 5 & 0.05607909 & Model04\\\\\n",
       "\t  4 & roc\\_auc  & binary & 0.8661616 & 5 & 0.04992885 & Model04\\\\\n",
       "\t  5 & accuracy & binary & 0.8391125 & 5 & 0.04930945 & Model05\\\\\n",
       "\t  5 & roc\\_auc  & binary & 0.8786797 & 5 & 0.04504343 & Model05\\\\\n",
       "\t  6 & accuracy & binary & 0.8391125 & 5 & 0.04930945 & Model06\\\\\n",
       "\t  6 & roc\\_auc  & binary & 0.8874459 & 5 & 0.04895287 & Model06\\\\\n",
       "\t  7 & accuracy & binary & 0.8712762 & 5 & 0.05367056 & Model07\\\\\n",
       "\t  7 & roc\\_auc  & binary & 0.8869769 & 5 & 0.04857121 & Model07\\\\\n",
       "\t  8 & accuracy & binary & 0.8712762 & 5 & 0.05367056 & Model08\\\\\n",
       "\t  8 & roc\\_auc  & binary & 0.8810245 & 5 & 0.04837851 & Model08\\\\\n",
       "\t  9 & accuracy & binary & 0.8601651 & 5 & 0.05390861 & Model09\\\\\n",
       "\t  9 & roc\\_auc  & binary & 0.8784452 & 5 & 0.04962631 & Model09\\\\\n",
       "\t 10 & accuracy & binary & 0.8601651 & 5 & 0.05390861 & Model10\\\\\n",
       "\t 10 & roc\\_auc  & binary & 0.8890873 & 5 & 0.04815587 & Model10\\\\\n",
       "\t 11 & accuracy & binary & 0.8601651 & 5 & 0.05390861 & Model11\\\\\n",
       "\t 11 & roc\\_auc  & binary & 0.9061508 & 5 & 0.04078045 & Model11\\\\\n",
       "\t 12 & accuracy & binary & 0.8601651 & 5 & 0.05390861 & Model12\\\\\n",
       "\t 12 & roc\\_auc  & binary & 0.9133658 & 5 & 0.03780338 & Model12\\\\\n",
       "\t 13 & accuracy & binary & 0.8601651 & 5 & 0.05390861 & Model13\\\\\n",
       "\t 13 & roc\\_auc  & binary & 0.9176046 & 5 & 0.03501785 & Model13\\\\\n",
       "\t 14 & accuracy & binary & 0.8601651 & 5 & 0.05390861 & Model14\\\\\n",
       "\t 14 & roc\\_auc  & binary & 0.9009380 & 5 & 0.04425237 & Model14\\\\\n",
       "\t 15 & accuracy & binary & 0.8379429 & 5 & 0.06081197 & Model15\\\\\n",
       "\t 15 & roc\\_auc  & binary & 0.8977633 & 5 & 0.04367111 & Model15\\\\\n",
       "\\end{tabular}\n"
      ],
      "text/markdown": [
       "\n",
       "A tibble: 30 × 7\n",
       "\n",
       "| neighbors &lt;dbl&gt; | .metric &lt;chr&gt; | .estimator &lt;chr&gt; | mean &lt;dbl&gt; | n &lt;int&gt; | std_err &lt;dbl&gt; | .config &lt;chr&gt; |\n",
       "|---|---|---|---|---|---|---|\n",
       "|  1 | accuracy | binary | 0.7957688 | 5 | 0.04668676 | Model01 |\n",
       "|  1 | roc_auc  | binary | 0.7920996 | 5 | 0.03920357 | Model01 |\n",
       "|  2 | accuracy | binary | 0.7957688 | 5 | 0.04668676 | Model02 |\n",
       "|  2 | roc_auc  | binary | 0.8683983 | 5 | 0.03763893 | Model02 |\n",
       "|  3 | accuracy | binary | 0.8607499 | 5 | 0.05607909 | Model03 |\n",
       "|  3 | roc_auc  | binary | 0.8537879 | 5 | 0.04320351 | Model03 |\n",
       "|  4 | accuracy | binary | 0.8607499 | 5 | 0.05607909 | Model04 |\n",
       "|  4 | roc_auc  | binary | 0.8661616 | 5 | 0.04992885 | Model04 |\n",
       "|  5 | accuracy | binary | 0.8391125 | 5 | 0.04930945 | Model05 |\n",
       "|  5 | roc_auc  | binary | 0.8786797 | 5 | 0.04504343 | Model05 |\n",
       "|  6 | accuracy | binary | 0.8391125 | 5 | 0.04930945 | Model06 |\n",
       "|  6 | roc_auc  | binary | 0.8874459 | 5 | 0.04895287 | Model06 |\n",
       "|  7 | accuracy | binary | 0.8712762 | 5 | 0.05367056 | Model07 |\n",
       "|  7 | roc_auc  | binary | 0.8869769 | 5 | 0.04857121 | Model07 |\n",
       "|  8 | accuracy | binary | 0.8712762 | 5 | 0.05367056 | Model08 |\n",
       "|  8 | roc_auc  | binary | 0.8810245 | 5 | 0.04837851 | Model08 |\n",
       "|  9 | accuracy | binary | 0.8601651 | 5 | 0.05390861 | Model09 |\n",
       "|  9 | roc_auc  | binary | 0.8784452 | 5 | 0.04962631 | Model09 |\n",
       "| 10 | accuracy | binary | 0.8601651 | 5 | 0.05390861 | Model10 |\n",
       "| 10 | roc_auc  | binary | 0.8890873 | 5 | 0.04815587 | Model10 |\n",
       "| 11 | accuracy | binary | 0.8601651 | 5 | 0.05390861 | Model11 |\n",
       "| 11 | roc_auc  | binary | 0.9061508 | 5 | 0.04078045 | Model11 |\n",
       "| 12 | accuracy | binary | 0.8601651 | 5 | 0.05390861 | Model12 |\n",
       "| 12 | roc_auc  | binary | 0.9133658 | 5 | 0.03780338 | Model12 |\n",
       "| 13 | accuracy | binary | 0.8601651 | 5 | 0.05390861 | Model13 |\n",
       "| 13 | roc_auc  | binary | 0.9176046 | 5 | 0.03501785 | Model13 |\n",
       "| 14 | accuracy | binary | 0.8601651 | 5 | 0.05390861 | Model14 |\n",
       "| 14 | roc_auc  | binary | 0.9009380 | 5 | 0.04425237 | Model14 |\n",
       "| 15 | accuracy | binary | 0.8379429 | 5 | 0.06081197 | Model15 |\n",
       "| 15 | roc_auc  | binary | 0.8977633 | 5 | 0.04367111 | Model15 |\n",
       "\n"
      ],
      "text/plain": [
       "   neighbors .metric  .estimator mean      n std_err    .config\n",
       "1   1        accuracy binary     0.7957688 5 0.04668676 Model01\n",
       "2   1        roc_auc  binary     0.7920996 5 0.03920357 Model01\n",
       "3   2        accuracy binary     0.7957688 5 0.04668676 Model02\n",
       "4   2        roc_auc  binary     0.8683983 5 0.03763893 Model02\n",
       "5   3        accuracy binary     0.8607499 5 0.05607909 Model03\n",
       "6   3        roc_auc  binary     0.8537879 5 0.04320351 Model03\n",
       "7   4        accuracy binary     0.8607499 5 0.05607909 Model04\n",
       "8   4        roc_auc  binary     0.8661616 5 0.04992885 Model04\n",
       "9   5        accuracy binary     0.8391125 5 0.04930945 Model05\n",
       "10  5        roc_auc  binary     0.8786797 5 0.04504343 Model05\n",
       "11  6        accuracy binary     0.8391125 5 0.04930945 Model06\n",
       "12  6        roc_auc  binary     0.8874459 5 0.04895287 Model06\n",
       "13  7        accuracy binary     0.8712762 5 0.05367056 Model07\n",
       "14  7        roc_auc  binary     0.8869769 5 0.04857121 Model07\n",
       "15  8        accuracy binary     0.8712762 5 0.05367056 Model08\n",
       "16  8        roc_auc  binary     0.8810245 5 0.04837851 Model08\n",
       "17  9        accuracy binary     0.8601651 5 0.05390861 Model09\n",
       "18  9        roc_auc  binary     0.8784452 5 0.04962631 Model09\n",
       "19 10        accuracy binary     0.8601651 5 0.05390861 Model10\n",
       "20 10        roc_auc  binary     0.8890873 5 0.04815587 Model10\n",
       "21 11        accuracy binary     0.8601651 5 0.05390861 Model11\n",
       "22 11        roc_auc  binary     0.9061508 5 0.04078045 Model11\n",
       "23 12        accuracy binary     0.8601651 5 0.05390861 Model12\n",
       "24 12        roc_auc  binary     0.9133658 5 0.03780338 Model12\n",
       "25 13        accuracy binary     0.8601651 5 0.05390861 Model13\n",
       "26 13        roc_auc  binary     0.9176046 5 0.03501785 Model13\n",
       "27 14        accuracy binary     0.8601651 5 0.05390861 Model14\n",
       "28 14        roc_auc  binary     0.9009380 5 0.04425237 Model14\n",
       "29 15        accuracy binary     0.8379429 5 0.06081197 Model15\n",
       "30 15        roc_auc  binary     0.8977633 5 0.04367111 Model15"
      ]
     },
     "metadata": {},
     "output_type": "display_data"
    },
    {
     "data": {
      "text/html": [
       "<table>\n",
       "<caption>A tibble: 2 × 3</caption>\n",
       "<thead>\n",
       "\t<tr><th scope=col>.metric</th><th scope=col>.estimator</th><th scope=col>.estimate</th></tr>\n",
       "\t<tr><th scope=col>&lt;chr&gt;</th><th scope=col>&lt;chr&gt;</th><th scope=col>&lt;dbl&gt;</th></tr>\n",
       "</thead>\n",
       "<tbody>\n",
       "\t<tr><td>accuracy</td><td>binary</td><td>0.8620690</td></tr>\n",
       "\t<tr><td>kap     </td><td>binary</td><td>0.6947368</td></tr>\n",
       "</tbody>\n",
       "</table>\n"
      ],
      "text/latex": [
       "A tibble: 2 × 3\n",
       "\\begin{tabular}{lll}\n",
       " .metric & .estimator & .estimate\\\\\n",
       " <chr> & <chr> & <dbl>\\\\\n",
       "\\hline\n",
       "\t accuracy & binary & 0.8620690\\\\\n",
       "\t kap      & binary & 0.6947368\\\\\n",
       "\\end{tabular}\n"
      ],
      "text/markdown": [
       "\n",
       "A tibble: 2 × 3\n",
       "\n",
       "| .metric &lt;chr&gt; | .estimator &lt;chr&gt; | .estimate &lt;dbl&gt; |\n",
       "|---|---|---|\n",
       "| accuracy | binary | 0.8620690 |\n",
       "| kap      | binary | 0.6947368 |\n",
       "\n"
      ],
      "text/plain": [
       "  .metric  .estimator .estimate\n",
       "1 accuracy binary     0.8620690\n",
       "2 kap      binary     0.6947368"
      ]
     },
     "metadata": {},
     "output_type": "display_data"
    },
    {
     "data": {
      "image/png": "[encoded data removed]",
      "text/plain": [
       "plot without title"
      ]
     },
     "metadata": {
      "image/png": {
       "height": 420,
       "width": 420
      }
     },
     "output_type": "display_data"
    }
   ],
   "source": [
    "Sidi_DC_recipe_scaled <- recipe(Classes ~ DC + RH, data=Sidi_Bel_Abbes_train) %>%\n",
    "    step_scale(all_predictors()) %>%\n",
    "    step_center(all_predictors())\n",
    "\n",
    "Sidi_knn_spec_DC <- nearest_neighbor(weight_func=\"rectangular\", neighbors=5) %>%\n",
    "    set_engine(\"kknn\") %>%\n",
    "    set_mode(\"classification\")\n",
    "\n",
    "Sidi_DC_Fit <- workflow() %>%\n",
    "    add_recipe(Sidi_DC_recipe_scaled) %>%\n",
    "    add_model(Sidi_knn_spec_DC) %>%\n",
    "    fit(data=Sidi_Bel_Abbes_train)\n",
    "\n",
    "Sidi_vfold_DC <- vfold_cv(Sidi_Bel_Abbes_train, v =5 , strata =Classes)\n",
    "\n",
    "Sidi_knn_spec_tune_DC<- nearest_neighbor(weight_func = \"rectangular\", neighbors = tune()) %>%\n",
    "  set_engine(\"kknn\") %>%\n",
    "  set_mode(\"classification\")\n",
    "\n",
    "Sidi_k_vals_DC <- tibble(neighbors = seq(from = 1, to = 15, by = 1))\n",
    "\n",
    "Sidi_knn_results_tune_DC <- workflow() %>%\n",
    "  add_recipe(Sidi_DC_recipe_scaled) %>%\n",
    "  add_model(Sidi_knn_spec_tune_DC) %>%\n",
    "  tune_grid(resamples =Sidi_vfold_DC , grid = Sidi_k_vals_DC) %>%\n",
    "  collect_metrics()\n",
    "Sidi_knn_results_tune_DC\n",
    "\n",
    "accuracies_Sidi_DC <- Sidi_knn_results_tune_DC%>%\n",
    "  filter(.metric == \"accuracy\")\n",
    "\n",
    "Sidi_accuracy_vs_k_DC <- ggplot(accuracies_Sidi_DC, aes(x = neighbors, y = mean)) +\n",
    "  geom_point() +\n",
    "  geom_line() +\n",
    "  labs(x = \"Neighbors\", y = \"Accuracy Estimate\")+\n",
    "  scale_x_continuous()\n",
    "Sidi_accuracy_vs_k_DC\n",
    "\n",
    "Sidi_DC_prediction <- predict(Sidi_DC_Fit, Sidi_Bel_Abbes_test ) %>%\n",
    "    bind_cols(Sidi_Bel_Abbes_test)\n",
    "\n",
    "Sidi_DC_prediction_accuracy <- Sidi_DC_prediction %>%\n",
    "    metrics(truth=Classes, estimate= .pred_class)\n",
    "Sidi_DC_prediction_accuracy\n",
    "\n",
    "\n"
   ]
  },
  {
   "cell_type": "code",
   "execution_count": null,
   "metadata": {},
   "outputs": [],
   "source": []
  },
  {
   "cell_type": "code",
   "execution_count": null,
   "metadata": {},
   "outputs": [],
   "source": []
  },
  {
   "cell_type": "markdown",
   "metadata": {},
   "source": [
    "Erjun Stuff"
   ]
  },
  {
   "cell_type": "code",
   "execution_count": 370,
   "metadata": {},
   "outputs": [
    {
     "data": {
      "text/html": [
       "<table>\n",
       "<caption>A tibble: 2 × 3</caption>\n",
       "<thead>\n",
       "\t<tr><th scope=col>.metric</th><th scope=col>.estimator</th><th scope=col>.estimate</th></tr>\n",
       "\t<tr><th scope=col>&lt;chr&gt;</th><th scope=col>&lt;chr&gt;</th><th scope=col>&lt;dbl&gt;</th></tr>\n",
       "</thead>\n",
       "<tbody>\n",
       "\t<tr><td>accuracy</td><td>binary</td><td>0.5862069</td></tr>\n",
       "\t<tr><td>kap     </td><td>binary</td><td>0.1830986</td></tr>\n",
       "</tbody>\n",
       "</table>\n"
      ],
      "text/latex": [
       "A tibble: 2 × 3\n",
       "\\begin{tabular}{lll}\n",
       " .metric & .estimator & .estimate\\\\\n",
       " <chr> & <chr> & <dbl>\\\\\n",
       "\\hline\n",
       "\t accuracy & binary & 0.5862069\\\\\n",
       "\t kap      & binary & 0.1830986\\\\\n",
       "\\end{tabular}\n"
      ],
      "text/markdown": [
       "\n",
       "A tibble: 2 × 3\n",
       "\n",
       "| .metric &lt;chr&gt; | .estimator &lt;chr&gt; | .estimate &lt;dbl&gt; |\n",
       "|---|---|---|\n",
       "| accuracy | binary | 0.5862069 |\n",
       "| kap      | binary | 0.1830986 |\n",
       "\n"
      ],
      "text/plain": [
       "  .metric  .estimator .estimate\n",
       "1 accuracy binary     0.5862069\n",
       "2 kap      binary     0.1830986"
      ]
     },
     "metadata": {},
     "output_type": "display_data"
    },
    {
     "data": {
      "image/png": "[encoded data removed]",
      "text/plain": [
       "plot without title"
      ]
     },
     "metadata": {
      "image/png": {
       "height": 420,
       "width": 420
      }
     },
     "output_type": "display_data"
    }
   ],
   "source": [
    "Bej_Tem_recipe_scaled <- recipe(Class ~ Temperature + RH, data=Bejaia_train) %>%\n",
    "    step_scale(all_predictors()) %>%\n",
    "    step_center(all_predictors())\n",
    "\n",
    "knn_Tem_results_tune <- workflow() %>%\n",
    "  add_recipe(Bej_Tem_recipe_scaled) %>%\n",
    "  add_model(knn_spec_tune) %>%\n",
    "  tune_grid(resamples =Bej_vfold_FFMC_C , grid = k_vals) %>%\n",
    "  collect_metrics()\n",
    "\n",
    "accuracies_bej_Tem <- knn_Tem_results_tune %>%\n",
    "  filter(.metric == \"accuracy\")\n",
    "\n",
    "accuracy_vs_k <- ggplot(accuracies_bej_Tem, aes(x = neighbors, y = mean)) +\n",
    "  geom_point() +\n",
    "  geom_line() +\n",
    "  labs(x = \"Neighbors\", y = \"Accuracy Estimate\")+\n",
    "  scale_x_continuous()\n",
    "accuracy_vs_k\n",
    "\n",
    "Bej_knn_spec_Tem_C <- nearest_neighbor(weight_func=\"rectangular\", neighbors=12) %>%\n",
    "    set_engine(\"kknn\") %>%\n",
    "    set_mode(\"classification\")\n",
    "\n",
    "Bej_Tem_Fit_C <- workflow() %>%\n",
    "    add_recipe(Bej_Tem_recipe_scaled) %>%\n",
    "    add_model(Bej_knn_spec_C) %>%\n",
    "    fit(data=Bejaia_train)\n",
    "\n",
    "Bej_Tem_prediction <- predict(Bej_Tem_Fit_C, Bejaia_test) %>%\n",
    "    bind_cols(Bejaia_test)\n",
    "\n",
    "\n",
    "Bej_Tem_prediction_accuracy <- Bej_Tem_prediction %>%\n",
    "    metrics(truth=Class, estimate= .pred_class)\n",
    "Bej_Tem_prediction_accuracy\n",
    "\n",
    "\n"
   ]
  },
  {
   "cell_type": "code",
   "execution_count": 371,
   "metadata": {},
   "outputs": [
    {
     "data": {
      "text/html": [
       "<table>\n",
       "<caption>A tibble: 30 × 7</caption>\n",
       "<thead>\n",
       "\t<tr><th scope=col>neighbors</th><th scope=col>.metric</th><th scope=col>.estimator</th><th scope=col>mean</th><th scope=col>n</th><th scope=col>std_err</th><th scope=col>.config</th></tr>\n",
       "\t<tr><th scope=col>&lt;dbl&gt;</th><th scope=col>&lt;chr&gt;</th><th scope=col>&lt;chr&gt;</th><th scope=col>&lt;dbl&gt;</th><th scope=col>&lt;int&gt;</th><th scope=col>&lt;dbl&gt;</th><th scope=col>&lt;chr&gt;</th></tr>\n",
       "</thead>\n",
       "<tbody>\n",
       "\t<tr><td> 1</td><td>accuracy</td><td>binary</td><td>0.6844513</td><td>5</td><td>0.02071592</td><td>Model01</td></tr>\n",
       "\t<tr><td> 1</td><td>roc_auc </td><td>binary</td><td>0.6691558</td><td>5</td><td>0.01276942</td><td>Model01</td></tr>\n",
       "\t<tr><td> 2</td><td>accuracy</td><td>binary</td><td>0.6844513</td><td>5</td><td>0.02071592</td><td>Model02</td></tr>\n",
       "\t<tr><td> 2</td><td>roc_auc </td><td>binary</td><td>0.6589466</td><td>5</td><td>0.02005504</td><td>Model02</td></tr>\n",
       "\t<tr><td> 3</td><td>accuracy</td><td>binary</td><td>0.6968008</td><td>5</td><td>0.02401549</td><td>Model03</td></tr>\n",
       "\t<tr><td> 3</td><td>roc_auc </td><td>binary</td><td>0.7374098</td><td>5</td><td>0.04105715</td><td>Model03</td></tr>\n",
       "\t<tr><td> 4</td><td>accuracy</td><td>binary</td><td>0.6968008</td><td>5</td><td>0.02401549</td><td>Model04</td></tr>\n",
       "\t<tr><td> 4</td><td>roc_auc </td><td>binary</td><td>0.7292027</td><td>5</td><td>0.03896425</td><td>Model04</td></tr>\n",
       "\t<tr><td> 5</td><td>accuracy</td><td>binary</td><td>0.7091503</td><td>5</td><td>0.03202714</td><td>Model05</td></tr>\n",
       "\t<tr><td> 5</td><td>roc_auc </td><td>binary</td><td>0.7472403</td><td>5</td><td>0.03736122</td><td>Model05</td></tr>\n",
       "\t<tr><td> 6</td><td>accuracy</td><td>binary</td><td>0.7091503</td><td>5</td><td>0.03202714</td><td>Model06</td></tr>\n",
       "\t<tr><td> 6</td><td>roc_auc </td><td>binary</td><td>0.7417208</td><td>5</td><td>0.04781584</td><td>Model06</td></tr>\n",
       "\t<tr><td> 7</td><td>accuracy</td><td>binary</td><td>0.7103887</td><td>5</td><td>0.04627039</td><td>Model07</td></tr>\n",
       "\t<tr><td> 7</td><td>roc_auc </td><td>binary</td><td>0.7188492</td><td>5</td><td>0.05126924</td><td>Model07</td></tr>\n",
       "\t<tr><td> 8</td><td>accuracy</td><td>binary</td><td>0.7103887</td><td>5</td><td>0.04627039</td><td>Model08</td></tr>\n",
       "\t<tr><td> 8</td><td>roc_auc </td><td>binary</td><td>0.7141053</td><td>5</td><td>0.04692668</td><td>Model08</td></tr>\n",
       "\t<tr><td> 9</td><td>accuracy</td><td>binary</td><td>0.7098039</td><td>5</td><td>0.04419456</td><td>Model09</td></tr>\n",
       "\t<tr><td> 9</td><td>roc_auc </td><td>binary</td><td>0.7430736</td><td>5</td><td>0.04192078</td><td>Model09</td></tr>\n",
       "\t<tr><td>10</td><td>accuracy</td><td>binary</td><td>0.7098039</td><td>5</td><td>0.04419456</td><td>Model10</td></tr>\n",
       "\t<tr><td>10</td><td>roc_auc </td><td>binary</td><td>0.7602994</td><td>5</td><td>0.04903262</td><td>Model10</td></tr>\n",
       "\t<tr><td>11</td><td>accuracy</td><td>binary</td><td>0.7098039</td><td>5</td><td>0.04419456</td><td>Model11</td></tr>\n",
       "\t<tr><td>11</td><td>roc_auc </td><td>binary</td><td>0.7762266</td><td>5</td><td>0.04946635</td><td>Model11</td></tr>\n",
       "\t<tr><td>12</td><td>accuracy</td><td>binary</td><td>0.6980392</td><td>5</td><td>0.03281117</td><td>Model12</td></tr>\n",
       "\t<tr><td>12</td><td>roc_auc </td><td>binary</td><td>0.7791667</td><td>5</td><td>0.04150052</td><td>Model12</td></tr>\n",
       "\t<tr><td>13</td><td>accuracy</td><td>binary</td><td>0.6980392</td><td>5</td><td>0.03281117</td><td>Model13</td></tr>\n",
       "\t<tr><td>13</td><td>roc_auc </td><td>binary</td><td>0.7925866</td><td>5</td><td>0.05146667</td><td>Model13</td></tr>\n",
       "\t<tr><td>14</td><td>accuracy</td><td>binary</td><td>0.6980392</td><td>5</td><td>0.03281117</td><td>Model14</td></tr>\n",
       "\t<tr><td>14</td><td>roc_auc </td><td>binary</td><td>0.8019120</td><td>5</td><td>0.04010773</td><td>Model14</td></tr>\n",
       "\t<tr><td>15</td><td>accuracy</td><td>binary</td><td>0.7419677</td><td>5</td><td>0.05219999</td><td>Model15</td></tr>\n",
       "\t<tr><td>15</td><td>roc_auc </td><td>binary</td><td>0.7979618</td><td>5</td><td>0.03882012</td><td>Model15</td></tr>\n",
       "</tbody>\n",
       "</table>\n"
      ],
      "text/latex": [
       "A tibble: 30 × 7\n",
       "\\begin{tabular}{lllllll}\n",
       " neighbors & .metric & .estimator & mean & n & std\\_err & .config\\\\\n",
       " <dbl> & <chr> & <chr> & <dbl> & <int> & <dbl> & <chr>\\\\\n",
       "\\hline\n",
       "\t  1 & accuracy & binary & 0.6844513 & 5 & 0.02071592 & Model01\\\\\n",
       "\t  1 & roc\\_auc  & binary & 0.6691558 & 5 & 0.01276942 & Model01\\\\\n",
       "\t  2 & accuracy & binary & 0.6844513 & 5 & 0.02071592 & Model02\\\\\n",
       "\t  2 & roc\\_auc  & binary & 0.6589466 & 5 & 0.02005504 & Model02\\\\\n",
       "\t  3 & accuracy & binary & 0.6968008 & 5 & 0.02401549 & Model03\\\\\n",
       "\t  3 & roc\\_auc  & binary & 0.7374098 & 5 & 0.04105715 & Model03\\\\\n",
       "\t  4 & accuracy & binary & 0.6968008 & 5 & 0.02401549 & Model04\\\\\n",
       "\t  4 & roc\\_auc  & binary & 0.7292027 & 5 & 0.03896425 & Model04\\\\\n",
       "\t  5 & accuracy & binary & 0.7091503 & 5 & 0.03202714 & Model05\\\\\n",
       "\t  5 & roc\\_auc  & binary & 0.7472403 & 5 & 0.03736122 & Model05\\\\\n",
       "\t  6 & accuracy & binary & 0.7091503 & 5 & 0.03202714 & Model06\\\\\n",
       "\t  6 & roc\\_auc  & binary & 0.7417208 & 5 & 0.04781584 & Model06\\\\\n",
       "\t  7 & accuracy & binary & 0.7103887 & 5 & 0.04627039 & Model07\\\\\n",
       "\t  7 & roc\\_auc  & binary & 0.7188492 & 5 & 0.05126924 & Model07\\\\\n",
       "\t  8 & accuracy & binary & 0.7103887 & 5 & 0.04627039 & Model08\\\\\n",
       "\t  8 & roc\\_auc  & binary & 0.7141053 & 5 & 0.04692668 & Model08\\\\\n",
       "\t  9 & accuracy & binary & 0.7098039 & 5 & 0.04419456 & Model09\\\\\n",
       "\t  9 & roc\\_auc  & binary & 0.7430736 & 5 & 0.04192078 & Model09\\\\\n",
       "\t 10 & accuracy & binary & 0.7098039 & 5 & 0.04419456 & Model10\\\\\n",
       "\t 10 & roc\\_auc  & binary & 0.7602994 & 5 & 0.04903262 & Model10\\\\\n",
       "\t 11 & accuracy & binary & 0.7098039 & 5 & 0.04419456 & Model11\\\\\n",
       "\t 11 & roc\\_auc  & binary & 0.7762266 & 5 & 0.04946635 & Model11\\\\\n",
       "\t 12 & accuracy & binary & 0.6980392 & 5 & 0.03281117 & Model12\\\\\n",
       "\t 12 & roc\\_auc  & binary & 0.7791667 & 5 & 0.04150052 & Model12\\\\\n",
       "\t 13 & accuracy & binary & 0.6980392 & 5 & 0.03281117 & Model13\\\\\n",
       "\t 13 & roc\\_auc  & binary & 0.7925866 & 5 & 0.05146667 & Model13\\\\\n",
       "\t 14 & accuracy & binary & 0.6980392 & 5 & 0.03281117 & Model14\\\\\n",
       "\t 14 & roc\\_auc  & binary & 0.8019120 & 5 & 0.04010773 & Model14\\\\\n",
       "\t 15 & accuracy & binary & 0.7419677 & 5 & 0.05219999 & Model15\\\\\n",
       "\t 15 & roc\\_auc  & binary & 0.7979618 & 5 & 0.03882012 & Model15\\\\\n",
       "\\end{tabular}\n"
      ],
      "text/markdown": [
       "\n",
       "A tibble: 30 × 7\n",
       "\n",
       "| neighbors &lt;dbl&gt; | .metric &lt;chr&gt; | .estimator &lt;chr&gt; | mean &lt;dbl&gt; | n &lt;int&gt; | std_err &lt;dbl&gt; | .config &lt;chr&gt; |\n",
       "|---|---|---|---|---|---|---|\n",
       "|  1 | accuracy | binary | 0.6844513 | 5 | 0.02071592 | Model01 |\n",
       "|  1 | roc_auc  | binary | 0.6691558 | 5 | 0.01276942 | Model01 |\n",
       "|  2 | accuracy | binary | 0.6844513 | 5 | 0.02071592 | Model02 |\n",
       "|  2 | roc_auc  | binary | 0.6589466 | 5 | 0.02005504 | Model02 |\n",
       "|  3 | accuracy | binary | 0.6968008 | 5 | 0.02401549 | Model03 |\n",
       "|  3 | roc_auc  | binary | 0.7374098 | 5 | 0.04105715 | Model03 |\n",
       "|  4 | accuracy | binary | 0.6968008 | 5 | 0.02401549 | Model04 |\n",
       "|  4 | roc_auc  | binary | 0.7292027 | 5 | 0.03896425 | Model04 |\n",
       "|  5 | accuracy | binary | 0.7091503 | 5 | 0.03202714 | Model05 |\n",
       "|  5 | roc_auc  | binary | 0.7472403 | 5 | 0.03736122 | Model05 |\n",
       "|  6 | accuracy | binary | 0.7091503 | 5 | 0.03202714 | Model06 |\n",
       "|  6 | roc_auc  | binary | 0.7417208 | 5 | 0.04781584 | Model06 |\n",
       "|  7 | accuracy | binary | 0.7103887 | 5 | 0.04627039 | Model07 |\n",
       "|  7 | roc_auc  | binary | 0.7188492 | 5 | 0.05126924 | Model07 |\n",
       "|  8 | accuracy | binary | 0.7103887 | 5 | 0.04627039 | Model08 |\n",
       "|  8 | roc_auc  | binary | 0.7141053 | 5 | 0.04692668 | Model08 |\n",
       "|  9 | accuracy | binary | 0.7098039 | 5 | 0.04419456 | Model09 |\n",
       "|  9 | roc_auc  | binary | 0.7430736 | 5 | 0.04192078 | Model09 |\n",
       "| 10 | accuracy | binary | 0.7098039 | 5 | 0.04419456 | Model10 |\n",
       "| 10 | roc_auc  | binary | 0.7602994 | 5 | 0.04903262 | Model10 |\n",
       "| 11 | accuracy | binary | 0.7098039 | 5 | 0.04419456 | Model11 |\n",
       "| 11 | roc_auc  | binary | 0.7762266 | 5 | 0.04946635 | Model11 |\n",
       "| 12 | accuracy | binary | 0.6980392 | 5 | 0.03281117 | Model12 |\n",
       "| 12 | roc_auc  | binary | 0.7791667 | 5 | 0.04150052 | Model12 |\n",
       "| 13 | accuracy | binary | 0.6980392 | 5 | 0.03281117 | Model13 |\n",
       "| 13 | roc_auc  | binary | 0.7925866 | 5 | 0.05146667 | Model13 |\n",
       "| 14 | accuracy | binary | 0.6980392 | 5 | 0.03281117 | Model14 |\n",
       "| 14 | roc_auc  | binary | 0.8019120 | 5 | 0.04010773 | Model14 |\n",
       "| 15 | accuracy | binary | 0.7419677 | 5 | 0.05219999 | Model15 |\n",
       "| 15 | roc_auc  | binary | 0.7979618 | 5 | 0.03882012 | Model15 |\n",
       "\n"
      ],
      "text/plain": [
       "   neighbors .metric  .estimator mean      n std_err    .config\n",
       "1   1        accuracy binary     0.6844513 5 0.02071592 Model01\n",
       "2   1        roc_auc  binary     0.6691558 5 0.01276942 Model01\n",
       "3   2        accuracy binary     0.6844513 5 0.02071592 Model02\n",
       "4   2        roc_auc  binary     0.6589466 5 0.02005504 Model02\n",
       "5   3        accuracy binary     0.6968008 5 0.02401549 Model03\n",
       "6   3        roc_auc  binary     0.7374098 5 0.04105715 Model03\n",
       "7   4        accuracy binary     0.6968008 5 0.02401549 Model04\n",
       "8   4        roc_auc  binary     0.7292027 5 0.03896425 Model04\n",
       "9   5        accuracy binary     0.7091503 5 0.03202714 Model05\n",
       "10  5        roc_auc  binary     0.7472403 5 0.03736122 Model05\n",
       "11  6        accuracy binary     0.7091503 5 0.03202714 Model06\n",
       "12  6        roc_auc  binary     0.7417208 5 0.04781584 Model06\n",
       "13  7        accuracy binary     0.7103887 5 0.04627039 Model07\n",
       "14  7        roc_auc  binary     0.7188492 5 0.05126924 Model07\n",
       "15  8        accuracy binary     0.7103887 5 0.04627039 Model08\n",
       "16  8        roc_auc  binary     0.7141053 5 0.04692668 Model08\n",
       "17  9        accuracy binary     0.7098039 5 0.04419456 Model09\n",
       "18  9        roc_auc  binary     0.7430736 5 0.04192078 Model09\n",
       "19 10        accuracy binary     0.7098039 5 0.04419456 Model10\n",
       "20 10        roc_auc  binary     0.7602994 5 0.04903262 Model10\n",
       "21 11        accuracy binary     0.7098039 5 0.04419456 Model11\n",
       "22 11        roc_auc  binary     0.7762266 5 0.04946635 Model11\n",
       "23 12        accuracy binary     0.6980392 5 0.03281117 Model12\n",
       "24 12        roc_auc  binary     0.7791667 5 0.04150052 Model12\n",
       "25 13        accuracy binary     0.6980392 5 0.03281117 Model13\n",
       "26 13        roc_auc  binary     0.7925866 5 0.05146667 Model13\n",
       "27 14        accuracy binary     0.6980392 5 0.03281117 Model14\n",
       "28 14        roc_auc  binary     0.8019120 5 0.04010773 Model14\n",
       "29 15        accuracy binary     0.7419677 5 0.05219999 Model15\n",
       "30 15        roc_auc  binary     0.7979618 5 0.03882012 Model15"
      ]
     },
     "metadata": {},
     "output_type": "display_data"
    },
    {
     "data": {
      "text/html": [
       "<table>\n",
       "<caption>A tibble: 2 × 3</caption>\n",
       "<thead>\n",
       "\t<tr><th scope=col>.metric</th><th scope=col>.estimator</th><th scope=col>.estimate</th></tr>\n",
       "\t<tr><th scope=col>&lt;chr&gt;</th><th scope=col>&lt;chr&gt;</th><th scope=col>&lt;dbl&gt;</th></tr>\n",
       "</thead>\n",
       "<tbody>\n",
       "\t<tr><td>accuracy</td><td>binary</td><td>0.8620690</td></tr>\n",
       "\t<tr><td>kap     </td><td>binary</td><td>0.6947368</td></tr>\n",
       "</tbody>\n",
       "</table>\n"
      ],
      "text/latex": [
       "A tibble: 2 × 3\n",
       "\\begin{tabular}{lll}\n",
       " .metric & .estimator & .estimate\\\\\n",
       " <chr> & <chr> & <dbl>\\\\\n",
       "\\hline\n",
       "\t accuracy & binary & 0.8620690\\\\\n",
       "\t kap      & binary & 0.6947368\\\\\n",
       "\\end{tabular}\n"
      ],
      "text/markdown": [
       "\n",
       "A tibble: 2 × 3\n",
       "\n",
       "| .metric &lt;chr&gt; | .estimator &lt;chr&gt; | .estimate &lt;dbl&gt; |\n",
       "|---|---|---|\n",
       "| accuracy | binary | 0.8620690 |\n",
       "| kap      | binary | 0.6947368 |\n",
       "\n"
      ],
      "text/plain": [
       "  .metric  .estimator .estimate\n",
       "1 accuracy binary     0.8620690\n",
       "2 kap      binary     0.6947368"
      ]
     },
     "metadata": {},
     "output_type": "display_data"
    },
    {
     "data": {
      "image/png": "[encoded data removed]",
      "text/plain": [
       "plot without title"
      ]
     },
     "metadata": {
      "image/png": {
       "height": 420,
       "width": 420
      }
     },
     "output_type": "display_data"
    }
   ],
   "source": [
    "Sidi_Temp_recipe_scaled <- recipe(Classes ~ Temperature + RH, data=Sidi_Bel_Abbes_train) %>%\n",
    "    step_scale(all_predictors()) %>%\n",
    "    step_center(all_predictors())\n",
    "\n",
    "Sidi_knn_spec_Temp <- nearest_neighbor(weight_func=\"rectangular\", neighbors=5) %>%\n",
    "    set_engine(\"kknn\") %>%\n",
    "    set_mode(\"classification\")\n",
    "\n",
    "Sidi_Temp_Fit <- workflow() %>%\n",
    "    add_recipe(Sidi_DC_recipe_scaled) %>%\n",
    "    add_model(Sidi_knn_spec_DC) %>%\n",
    "    fit(data=Sidi_Bel_Abbes_train)\n",
    "\n",
    "Sidi_vfold_Temp <- vfold_cv(Sidi_Bel_Abbes_train, v =5 , strata =Classes)\n",
    "\n",
    "Sidi_knn_spec_tune_Temp<- nearest_neighbor(weight_func = \"rectangular\", neighbors = tune()) %>%\n",
    "  set_engine(\"kknn\") %>%\n",
    "  set_mode(\"classification\")\n",
    "\n",
    "Sidi_k_vals_Temp <- tibble(neighbors = seq(from = 1, to = 15, by = 1))\n",
    "\n",
    "Sidi_knn_results_tune_Temp <- workflow() %>%\n",
    "  add_recipe(Sidi_Temp_recipe_scaled) %>%\n",
    "  add_model(Sidi_knn_spec_tune_Temp) %>%\n",
    "  tune_grid(resamples =Sidi_vfold_Temp , grid = Sidi_k_vals_Temp) %>%\n",
    "  collect_metrics()\n",
    "Sidi_knn_results_tune_Temp\n",
    "\n",
    "accuracies_Sidi_Temp <- Sidi_knn_results_tune_Temp %>%\n",
    "  filter(.metric == \"accuracy\")\n",
    "\n",
    "Sidi_accuracy_vs_k_Temp <- ggplot(accuracies_Sidi_Temp, aes(x = neighbors, y = mean)) +\n",
    "  geom_point() +\n",
    "  geom_line() +\n",
    "  labs(x = \"Neighbors\", y = \"Accuracy Estimate\")+\n",
    "  scale_x_continuous()\n",
    "Sidi_accuracy_vs_k_Temp\n",
    "\n",
    "Sidi_Temp_prediction <- predict(Sidi_Temp_Fit, Sidi_Bel_Abbes_test ) %>%\n",
    "    bind_cols(Sidi_Bel_Abbes_test)\n",
    "\n",
    "Sidi_Temp_prediction_accuracy <- Sidi_Temp_prediction %>%\n",
    "    metrics(truth=Classes, estimate= .pred_class)\n",
    "Sidi_Temp_prediction_accuracy"
   ]
  },
  {
   "cell_type": "code",
   "execution_count": 372,
   "metadata": {},
   "outputs": [],
   "source": [
    "Bej_Rain_recipe_scaled <- recipe(Class ~ Rain + RH, data=Bejaia_train) %>%\n",
    "    step_scale(all_predictors()) %>%\n",
    "    step_center(all_predictors())\n",
    "\n",
    "set.seed(1)"
   ]
  },
  {
   "cell_type": "code",
   "execution_count": 373,
   "metadata": {},
   "outputs": [
    {
     "data": {
      "image/png": "[encoded data removed]",
      "text/plain": [
       "plot without title"
      ]
     },
     "metadata": {
      "image/png": {
       "height": 420,
       "width": 420
      }
     },
     "output_type": "display_data"
    }
   ],
   "source": [
    "knn_results_tune_Bej_Rain <- workflow() %>%\n",
    "  add_recipe(Bej_Rain_recipe_scaled) %>%\n",
    "  add_model(knn_spec_tune) %>%\n",
    "  tune_grid(resamples =Bej_vfold_C , grid = k_vals) %>%\n",
    "  collect_metrics()\n",
    "#knn_results_tune\n",
    "\n",
    "accuracies_bej_Rain <- knn_results_tune_Bej_Rain %>%\n",
    "  filter(.metric == \"accuracy\")\n",
    "\n",
    "accuracy_vs_k_Bej_Rain <- ggplot(accuracies_bej_Rain, aes(x = neighbors, y = mean)) +\n",
    "  geom_point() +\n",
    "  geom_line() +\n",
    "  labs(x = \"Neighbors\", y = \"Accuracy Estimate\")+\n",
    "  scale_x_continuous()\n",
    "accuracy_vs_k_Bej_Rain\n"
   ]
  },
  {
   "cell_type": "code",
   "execution_count": 374,
   "metadata": {},
   "outputs": [
    {
     "data": {
      "text/html": [
       "<table>\n",
       "<caption>A tibble: 2 × 3</caption>\n",
       "<thead>\n",
       "\t<tr><th scope=col>.metric</th><th scope=col>.estimator</th><th scope=col>.estimate</th></tr>\n",
       "\t<tr><th scope=col>&lt;chr&gt;</th><th scope=col>&lt;chr&gt;</th><th scope=col>&lt;dbl&gt;</th></tr>\n",
       "</thead>\n",
       "<tbody>\n",
       "\t<tr><td>accuracy</td><td>binary</td><td>0.6206897</td></tr>\n",
       "\t<tr><td>kap     </td><td>binary</td><td>0.2494118</td></tr>\n",
       "</tbody>\n",
       "</table>\n"
      ],
      "text/latex": [
       "A tibble: 2 × 3\n",
       "\\begin{tabular}{lll}\n",
       " .metric & .estimator & .estimate\\\\\n",
       " <chr> & <chr> & <dbl>\\\\\n",
       "\\hline\n",
       "\t accuracy & binary & 0.6206897\\\\\n",
       "\t kap      & binary & 0.2494118\\\\\n",
       "\\end{tabular}\n"
      ],
      "text/markdown": [
       "\n",
       "A tibble: 2 × 3\n",
       "\n",
       "| .metric &lt;chr&gt; | .estimator &lt;chr&gt; | .estimate &lt;dbl&gt; |\n",
       "|---|---|---|\n",
       "| accuracy | binary | 0.6206897 |\n",
       "| kap      | binary | 0.2494118 |\n",
       "\n"
      ],
      "text/plain": [
       "  .metric  .estimator .estimate\n",
       "1 accuracy binary     0.6206897\n",
       "2 kap      binary     0.2494118"
      ]
     },
     "metadata": {},
     "output_type": "display_data"
    }
   ],
   "source": [
    "\n",
    "Bej_knn_spec_Rain <- nearest_neighbor(weight_func=\"rectangular\", neighbors=4) %>%\n",
    "    set_engine(\"kknn\") %>%\n",
    "    set_mode(\"classification\")\n",
    "\n",
    "Bej_Rain_Fit_ <- workflow() %>%\n",
    "    add_recipe(Bej_Rain_recipe_scaled) %>%\n",
    "    add_model(Bej_knn_spec_Rain) %>%\n",
    "    fit(data=Bejaia_train)\n",
    "\n",
    "\n",
    "Bej_Rain_prediction <- predict(Bej_Rain_Fit_, Bejaia_test) %>%\n",
    "    bind_cols(Bejaia_test)\n",
    "\n",
    "Bej_Rain_prediction_accuracy <- Bej_Rain_prediction %>%\n",
    "    metrics(truth=Class, estimate= .pred_class)\n",
    "Bej_Rain_prediction_accuracy"
   ]
  },
  {
   "cell_type": "markdown",
   "metadata": {},
   "source": [
    "Expected outcomes and significance:\n",
    "\n",
    " In this study we expect to discover a relationship between the most contributing atmospheric condition(s) of the area to the presence of fire. If we can determine a reliable relationship we can attempt to predict areas with a high likelihood of fire. This information can alos allow proper allocation of fire fighting resources to vulnerable areas. We hope our findings can lead to a better understanding of how and why fires occur in forests and how the changing global climate will affect the location and frequency of forest fires.\n",
    "    "
   ]
  },
  {
   "cell_type": "code",
   "execution_count": null,
   "metadata": {},
   "outputs": [],
   "source": []
  },
  {
   "cell_type": "code",
   "execution_count": null,
   "metadata": {},
   "outputs": [],
   "source": []
  },
  {
   "cell_type": "code",
   "execution_count": null,
   "metadata": {},
   "outputs": [],
   "source": []
  },
  {
   "cell_type": "code",
   "execution_count": null,
   "metadata": {},
   "outputs": [],
   "source": []
  },
  {
   "cell_type": "code",
   "execution_count": null,
   "metadata": {},
   "outputs": [],
   "source": []
  }
 ],
 "metadata": {
  "kernelspec": {
   "display_name": "R",
   "language": "R",
   "name": "ir"
  },
  "language_info": {
   "codemirror_mode": "r",
   "file_extension": ".r",
   "mimetype": "text/x-r-source",
   "name": "R",
   "pygments_lexer": "r",
   "version": "4.0.0"
  }
 },
 "nbformat": 4,
 "nbformat_minor": 4
}
